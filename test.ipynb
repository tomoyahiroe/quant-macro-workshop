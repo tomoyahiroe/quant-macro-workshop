{
 "cells": [
  {
   "cell_type": "code",
   "execution_count": 1,
   "metadata": {},
   "outputs": [],
   "source": [
    "import numpy as np\n",
    "from numpy.polynomial.chebyshev import Chebyshev\n"
   ]
  },
  {
   "cell_type": "code",
   "execution_count": 2,
   "metadata": {},
   "outputs": [
    {
     "name": "stdout",
     "output_type": "stream",
     "text": [
      "0.7030669796336868\n"
     ]
    }
   ],
   "source": [
    "# 二変数チェビシェフ補間用の関数\n",
    "def chebyshev_2d_interpolation(x, y, f_vals, degree_x, degree_y):\n",
    "    # チェビシェフ多項式を2次元でフィットする\n",
    "    cheb_x = Chebyshev.fit(x, f_vals, degree_x, domain=[min(x), max(x)])\n",
    "    cheb_y = Chebyshev.fit(y, f_vals, degree_y, domain=[min(y), max(y)])\n",
    "\n",
    "    # 補間関数を定義\n",
    "    def interpolated_func(x_new, y_new):\n",
    "        return cheb_x(x_new) + cheb_y(y_new)\n",
    "    \n",
    "    return interpolated_func\n",
    "\n",
    "# 使用例\n",
    "x_vals = np.linspace(-1, 1, 10)\n",
    "y_vals = np.linspace(-1, 1, 10)\n",
    "\n",
    "# 例として関数 f(x, y) = sin(x) * cos(y) を使う\n",
    "f_vals = np.sin(x_vals) * np.cos(y_vals)\n",
    "\n",
    "# チェビシェフ補間を行う\n",
    "interpolated = chebyshev_2d_interpolation(x_vals, y_vals, f_vals, degree_x=5, degree_y=5)\n",
    "\n",
    "# 補間結果の計算\n",
    "x_new = 0.5\n",
    "y_new = 0.3\n",
    "result = interpolated(x_new, y_new)\n",
    "print(result)"
   ]
  },
  {
   "cell_type": "code",
   "execution_count": null,
   "metadata": {},
   "outputs": [],
   "source": []
  }
 ],
 "metadata": {
  "kernelspec": {
   "display_name": "quant-macro-workshop-bUjjWVNQ-py3.12",
   "language": "python",
   "name": "python3"
  },
  "language_info": {
   "codemirror_mode": {
    "name": "ipython",
    "version": 3
   },
   "file_extension": ".py",
   "mimetype": "text/x-python",
   "name": "python",
   "nbconvert_exporter": "python",
   "pygments_lexer": "ipython3",
   "version": "3.12.6"
  }
 },
 "nbformat": 4,
 "nbformat_minor": 2
}
