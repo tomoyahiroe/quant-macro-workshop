{
 "cells": [
  {
   "cell_type": "code",
   "execution_count": 6,
   "metadata": {},
   "outputs": [],
   "source": [
    "import numpy as np\n",
    "import stationary_dist as sd\n",
    "import stationary_dist_numba as sdn\n",
    "from numba import njit\n",
    "import time"
   ]
  },
  {
   "cell_type": "code",
   "execution_count": 7,
   "metadata": {},
   "outputs": [],
   "source": [
    "pf_grid = np.array([[20, -48], [32, 15], [144, 27]])\n",
    "a_grid = np.array([12, 24, 36])\n",
    "sd_grid = np.full((3, 2), 1/6)\n",
    "Pmatrix = np.array([[0.9, 0.1], [0.1, 0.9]])"
   ]
  },
  {
   "cell_type": "code",
   "execution_count": 10,
   "metadata": {},
   "outputs": [
    {
     "name": "stdout",
     "output_type": "stream",
     "text": [
      "Iteration 1: diff = <object type:float64>\n",
      "Iteration 2: diff = <object type:float64>\n",
      "Iteration 3: diff = <object type:float64>\n",
      "Iteration 4: diff = <object type:float64>\n",
      "Iteration 5: diff = <object type:float64>\n",
      "Iteration 6: diff = <object type:float64>\n",
      "Iteration 7: diff = <object type:float64>\n",
      "Iteration 8: diff = <object type:float64>\n",
      "Iteration 9: diff = <object type:float64>\n",
      "Iteration 10: diff = <object type:float64>\n",
      "Iteration 11: diff = <object type:float64>\n",
      "Iteration 12: diff = <object type:float64>\n",
      "Iteration 13: diff = <object type:float64>\n",
      "Iteration 14: diff = <object type:float64>\n",
      "Total iterations until convergence: 14\n",
      "Stationary distribution f_{i,j}:\n",
      "[[0.06176274 0.39116349]\n",
      " [0.06067955 0.05489975]\n",
      " [0.37755771 0.05393676]]\n",
      "not numba: 0.0018770694732666016\n"
     ]
    }
   ],
   "source": [
    "# 時間を計測\n",
    "start = time.time()\n",
    "sd.solve_stationary_dist(pf_grid, a_grid, sd_grid, Pmatrix)\n",
    "end = time.time()\n",
    "print(f\"not numba: {end - start}\")"
   ]
  },
  {
   "cell_type": "code",
   "execution_count": 11,
   "metadata": {},
   "outputs": [
    {
     "name": "stdout",
     "output_type": "stream",
     "text": [
      "Iteration 1: diff = <object type:float64>\n",
      "Iteration 2: diff = <object type:float64>\n",
      "Iteration 3: diff = <object type:float64>\n",
      "Iteration 4: diff = <object type:float64>\n",
      "Iteration 5: diff = <object type:float64>\n",
      "Iteration 6: diff = <object type:float64>\n",
      "Iteration 7: diff = <object type:float64>\n",
      "Iteration 8: diff = <object type:float64>\n",
      "Iteration 9: diff = <object type:float64>\n",
      "Iteration 10: diff = <object type:float64>\n",
      "Iteration 11: diff = <object type:float64>\n",
      "Iteration 12: diff = <object type:float64>\n",
      "Iteration 13: diff = <object type:float64>\n",
      "Iteration 14: diff = <object type:float64>\n",
      "Total iterations until convergence: 14\n",
      "Stationary distribution f_{i,j}:\n",
      "[[0.06176274 0.39116349]\n",
      " [0.06067955 0.05489975]\n",
      " [0.37755771 0.05393676]]\n",
      "numba: 0.0009160041809082031\n"
     ]
    }
   ],
   "source": [
    "\n",
    "# 時間を計測\n",
    "start = time.time()\n",
    "sdn.solve_stationary_dist(pf_grid, a_grid, sd_grid, Pmatrix)\n",
    "end = time.time()\n",
    "print(f\"numba: {end - start}\")"
   ]
  },
  {
   "cell_type": "code",
   "execution_count": null,
   "metadata": {},
   "outputs": [],
   "source": []
  }
 ],
 "metadata": {
  "kernelspec": {
   "display_name": "venv",
   "language": "python",
   "name": "python3"
  },
  "language_info": {
   "codemirror_mode": {
    "name": "ipython",
    "version": 3
   },
   "file_extension": ".py",
   "mimetype": "text/x-python",
   "name": "python",
   "nbconvert_exporter": "python",
   "pygments_lexer": "ipython3",
   "version": "3.12.4"
  }
 },
 "nbformat": 4,
 "nbformat_minor": 2
}
