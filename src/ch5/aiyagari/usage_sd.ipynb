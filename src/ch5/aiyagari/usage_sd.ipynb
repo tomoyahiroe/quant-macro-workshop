{
 "cells": [
  {
   "cell_type": "code",
   "execution_count": 1,
   "metadata": {},
   "outputs": [],
   "source": [
    "import numpy as np\n",
    "import stationary_dist as sd\n",
    "import stationary_dist_numba as sdn\n",
    "from numba import njit\n",
    "import time"
   ]
  },
  {
   "cell_type": "code",
   "execution_count": 2,
   "metadata": {},
   "outputs": [],
   "source": [
    "aprime_grid = np.array([[20, -48], [32, 15], [144, 27]])\n",
    "agrid = np.array([12, 24, 36])\n",
    "sd0 = np.full((3, 2), 1/6)\n",
    "Pmatrix = np.array([[0.9, 0.1], [0.1, 0.9]])"
   ]
  },
  {
   "cell_type": "code",
   "execution_count": null,
   "metadata": {},
   "outputs": [],
   "source": [
    "# 時間を計測\n",
    "start = time.time()\n",
    "sd.sd_iteration(sd0, aprime_grid, agrid, Pmatrix)\n",
    "end = time.time()\n",
    "print(f\"not numba: {end - start}\")"
   ]
  },
  {
   "cell_type": "code",
   "execution_count": null,
   "metadata": {},
   "outputs": [],
   "source": [
    "\n",
    "# 時間を計測\n",
    "start = time.time()\n",
    "sdn.solve_stationary_dist(aprime_grid, agrid, sd0, Pmatrix)\n",
    "end = time.time()\n",
    "print(f\"numba: {end - start}\")"
   ]
  },
  {
   "cell_type": "code",
   "execution_count": null,
   "metadata": {},
   "outputs": [],
   "source": []
  }
 ],
 "metadata": {
  "kernelspec": {
   "display_name": "venv",
   "language": "python",
   "name": "python3"
  },
  "language_info": {
   "codemirror_mode": {
    "name": "ipython",
    "version": 3
   },
   "file_extension": ".py",
   "mimetype": "text/x-python",
   "name": "python",
   "nbconvert_exporter": "python",
   "pygments_lexer": "ipython3",
   "version": "3.12.4"
  }
 },
 "nbformat": 4,
 "nbformat_minor": 2
}
