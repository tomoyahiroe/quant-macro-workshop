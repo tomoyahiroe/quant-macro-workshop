{
 "cells": [
  {
   "cell_type": "code",
   "execution_count": 2,
   "metadata": {},
   "outputs": [],
   "source": [
    "import numpy as np\n",
    "import stationary_dist as sd"
   ]
  },
  {
   "cell_type": "code",
   "execution_count": null,
   "metadata": {},
   "outputs": [],
   "source": [
    "pf_grid = np.array([[20, -48], [32, 15], [144, 27]])\n",
    "a_grid = np.array([12, 24, 36])\n",
    "sd_grid = np.full((3, 2), 1/6)\n",
    "Pmatrix = np.array([[0.9, 0.1], [0.1, 0.9]])"
   ]
  },
  {
   "cell_type": "code",
   "execution_count": 12,
   "metadata": {},
   "outputs": [
    {
     "name": "stdout",
     "output_type": "stream",
     "text": [
      "Iteration 1: diff = 0.10138888888888889\n",
      "Iteration 2: diff = 0.08833333333333332\n",
      "Iteration 3: diff = 0.0321796875\n",
      "Iteration 4: diff = 0.010823227719907402\n",
      "Iteration 5: diff = 0.0032067686631944425\n",
      "Iteration 6: diff = 0.0008705006857036152\n",
      "Iteration 7: diff = 0.0002646113187436683\n",
      "Iteration 8: diff = 0.00010705515376152608\n",
      "Iteration 9: diff = 4.4198063778089214e-05\n",
      "Iteration 10: diff = 1.892597364522297e-05\n",
      "Iteration 11: diff = 8.851825837374871e-06\n",
      "Iteration 12: diff = 4.093343762889834e-06\n",
      "Iteration 13: diff = 1.864761467185172e-06\n",
      "Iteration 14: diff = 8.399715864526591e-07\n",
      "Total iterations until convergence: 14\n",
      "Stationary distribution f_{i,j}:\n",
      "[[0.06176274 0.39116349]\n",
      " [0.06067955 0.05489975]\n",
      " [0.37755771 0.05393676]]\n"
     ]
    },
    {
     "data": {
      "text/plain": [
       "array([[0.06176274, 0.39116349],\n",
       "       [0.06067955, 0.05489975],\n",
       "       [0.37755771, 0.05393676]])"
      ]
     },
     "execution_count": 12,
     "metadata": {},
     "output_type": "execute_result"
    }
   ],
   "source": [
    "sd.solve_stationary_dist(pf_grid, a_grid, sd_grid, Pmatrix)"
   ]
  }
 ],
 "metadata": {
  "kernelspec": {
   "display_name": "venv",
   "language": "python",
   "name": "python3"
  },
  "language_info": {
   "codemirror_mode": {
    "name": "ipython",
    "version": 3
   },
   "file_extension": ".py",
   "mimetype": "text/x-python",
   "name": "python",
   "nbconvert_exporter": "python",
   "pygments_lexer": "ipython3",
   "version": "3.12.4"
  }
 },
 "nbformat": 4,
 "nbformat_minor": 2
}
