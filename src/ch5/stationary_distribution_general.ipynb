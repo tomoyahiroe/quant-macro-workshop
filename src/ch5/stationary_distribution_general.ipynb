{
 "cells": [
  {
   "cell_type": "code",
   "execution_count": 1,
   "metadata": {},
   "outputs": [],
   "source": [
    "#### 12/06勉強会でのコード\n",
    "import numpy as np"
   ]
  },
  {
   "cell_type": "code",
   "execution_count": 2,
   "metadata": {},
   "outputs": [],
   "source": [
    "# グリッド設定\n",
    "m = 3  # 内生的状態変数aのグリッド数 (a1, a2, a3)\n",
    "n = 2  # 外生的状態変数yのグリッド数 (y_H, y_L)\n",
    "epsilon = 1e-5  # 収束基準\n"
   ]
  },
  {
   "cell_type": "code",
   "execution_count": 3,
   "metadata": {},
   "outputs": [],
   "source": [
    "# 外生的状態 y の遷移確率行列 (例: 一様分布)\n",
    "p = np.array([[0.9, 0.1],\n",
    "              [0.1, 0.9]])  # y_H と y_L 間の遷移確率"
   ]
  },
  {
   "cell_type": "code",
   "execution_count": 4,
   "metadata": {},
   "outputs": [],
   "source": [
    "a_grid = np.array([12, 24, 36])  # [a1, a2, a3]\n",
    "y_grid = np.array([1, 0.5])     # [Y_high, Y_low]"
   ]
  },
  {
   "cell_type": "code",
   "execution_count": 5,
   "metadata": {},
   "outputs": [],
   "source": [
    "# 政策関数のグリッド\n",
    "pf = np.array([[20, -48],    # g(a1, y_H), g(a1, y_L)\n",
    "               [32, 15],    # g(a2, y_H), g(a2, y_L)\n",
    "               [144, 27]])  # g(a3, y_H), g(a3, y_L)"
   ]
  },
  {
   "cell_type": "code",
   "execution_count": 6,
   "metadata": {},
   "outputs": [],
   "source": [
    "# 初期分布 f^{(0)}_{i,j}\n",
    "f = np.full((m, n), 1 / (m * n))\n",
    "f = f.T\n",
    "f= f.reshape(6, 1)"
   ]
  },
  {
   "cell_type": "code",
   "execution_count": 7,
   "metadata": {},
   "outputs": [],
   "source": [
    "f_new = np.zeros((m, n))\n",
    "#for j in range(n):  #次期のyのindexについて繰り返し\n",
    "pf_t = pf.T\n",
    "target_a = pf_t.reshape(6, 1)  # 政策関数による次期a"
   ]
  },
  {
   "cell_type": "code",
   "execution_count": 8,
   "metadata": {},
   "outputs": [
    {
     "name": "stdout",
     "output_type": "stream",
     "text": [
      "Iteration 1: max difference = 0.10138888888888889\n",
      "Iteration 2: max difference = 0.08833333333333332\n",
      "Iteration 3: max difference = 0.032179687500000054\n",
      "Iteration 4: max difference = 0.010823227719907416\n",
      "Iteration 5: max difference = 0.0032067686631944564\n",
      "Iteration 6: max difference = 0.0008705006857036152\n",
      "Iteration 7: max difference = 0.0002646113187436683\n",
      "Iteration 8: max difference = 0.00010705515376152608\n",
      "Iteration 9: max difference = 4.4198063778089214e-05\n",
      "Iteration 10: max difference = 1.892597364522297e-05\n",
      "Iteration 11: max difference = 8.851825837374871e-06\n",
      "Total iterations until convergence: 11\n",
      "Stationary distribution f_{i,j}:\n",
      "[[0.06176441]\n",
      " [0.06068467]\n",
      " [0.37755091]\n",
      " [0.39116845]\n",
      " [0.05489627]\n",
      " [0.05393528]]\n"
     ]
    }
   ],
   "source": [
    "# 定常分布の計算ループ\n",
    "max_diff = epsilon + 1  # 初期化: epsilon より大きくしてループを開始\n",
    "iteration = 0\n",
    "\n",
    "while max_diff >= epsilon:\n",
    "    f_new = np.zeros((m, n))\n",
    "    # pf_t = pf.T\n",
    "    # target_a = pf_t.reshape(6, 1)  # 政策関数による次期a    \n",
    "\n",
    "    for j in range(n):  #次期のyのindexについて繰り返し\n",
    "        for i in range(m): #次期のaのindexについて繰り返し\n",
    "\n",
    "            if i == 0:\n",
    "                target_match = np.zeros((6,1))\n",
    "                weight = np.zeros((6,1))\n",
    "                ind_r = np.where((target_a > a_grid[i]) & (target_a <= a_grid[i+1]))[0]\n",
    "                target_match[ind_r] = 1\n",
    "                ind_l = np.where(target_a <= a_grid[i])[0]\n",
    "                target_match[ind_l] = 2\n",
    "\n",
    "                weight[ind_r] = (a_grid[i+1] - target_a[ind_r]) / (a_grid[i+1] - a_grid[i])\n",
    "                weight[ind_l] = 1\n",
    "\n",
    "            elif i == len(a_grid)-1:\n",
    "                target_match = np.zeros((6,1))\n",
    "                weight = np.zeros((6,1))\n",
    "                ind_r = np.where(target_a > a_grid[i])[0]\n",
    "                target_match[ind_r] = 1\n",
    "                ind_l = np.where((target_a > a_grid[i-1]) & (target_a <= a_grid[i]))[0]\n",
    "                target_match[ind_l] = 2\n",
    "\n",
    "                weight[ind_r] = 1\n",
    "                weight[ind_l] = (target_a[ind_l]    - a_grid[i-1]  ) / (a_grid[i] - a_grid[i-1])\n",
    "\n",
    "            else:\n",
    "                target_match = np.zeros((6,1))\n",
    "                weight = np.zeros((6,1))\n",
    "                ind_r = np.where((target_a > a_grid[i]) & (target_a <= a_grid[i+1]))[0]\n",
    "                target_match[ind_r] = 1\n",
    "                ind_l = np.where((target_a > a_grid[i-1]) & (target_a <= a_grid[i]))[0]\n",
    "                target_match[ind_l] = 2\n",
    "\n",
    "                weight[ind_r] = (a_grid[i+1] - target_a[ind_r]) / (a_grid[i+1] - a_grid[i])\n",
    "                weight[ind_l] = (target_a[ind_l]    - a_grid[i-1]  ) / (a_grid[i] - a_grid[i-1])\n",
    "\n",
    "\n",
    "            a = p[0, j]\n",
    "            b = p[1, j]\n",
    "\n",
    "\n",
    "            # ベクトルを生成\n",
    "            vector = np.concatenate([np.repeat(a, m), np.repeat(b, m)])\n",
    "            vector = vector.reshape(6, 1)\n",
    "\n",
    "\n",
    "            f_new[i,j] = np.sum(vector * f * weight)\n",
    "            # f_new = f_new.T\n",
    "            # f_new= f_new.reshape(6, 1)\n",
    "\n",
    "    # 収束の確認\n",
    "    f_new = f_new.T\n",
    "    f_new= f_new.reshape(6, 1)    \n",
    "    max_diff = np.max(np.abs(f_new - f))\n",
    "    print(f\"Iteration {iteration + 1}: max difference = {max_diff}\")\n",
    "\n",
    "    # 更新\n",
    "    f = f_new\n",
    "    iteration += 1\n",
    "\n",
    "# 最終イタレーション回数の出力\n",
    "print(f\"Total iterations until convergence: {iteration}\")\n",
    "\n",
    "# 定常分布の出力\n",
    "print(\"Stationary distribution f_{i,j}:\")\n",
    "print(f)"
   ]
  },
  {
   "cell_type": "code",
   "execution_count": null,
   "metadata": {},
   "outputs": [],
   "source": []
  }
 ],
 "metadata": {
  "kernelspec": {
   "display_name": "venv",
   "language": "python",
   "name": "python3"
  },
  "language_info": {
   "codemirror_mode": {
    "name": "ipython",
    "version": 3
   },
   "file_extension": ".py",
   "mimetype": "text/x-python",
   "name": "python",
   "nbconvert_exporter": "python",
   "pygments_lexer": "ipython3",
   "version": "3.12.4"
  }
 },
 "nbformat": 4,
 "nbformat_minor": 2
}
