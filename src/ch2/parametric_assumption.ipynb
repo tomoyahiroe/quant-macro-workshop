{
 "cells": [
  {
   "cell_type": "code",
   "execution_count": 29,
   "metadata": {},
   "outputs": [
    {
     "name": "stdout",
     "output_type": "stream",
     "text": [
      "Requirement already satisfied: scipy in /Users/hiroetomokana/code_box/learn/python/quant-macro-workshop/venv/lib/python3.12/site-packages (1.14.1)\n",
      "Requirement already satisfied: numpy<2.3,>=1.23.5 in /Users/hiroetomokana/code_box/learn/python/quant-macro-workshop/venv/lib/python3.12/site-packages (from scipy) (2.1.0)\n",
      "\n",
      "\u001b[1m[\u001b[0m\u001b[34;49mnotice\u001b[0m\u001b[1;39;49m]\u001b[0m\u001b[39;49m A new release of pip is available: \u001b[0m\u001b[31;49m24.0\u001b[0m\u001b[39;49m -> \u001b[0m\u001b[32;49m24.2\u001b[0m\n",
      "\u001b[1m[\u001b[0m\u001b[34;49mnotice\u001b[0m\u001b[1;39;49m]\u001b[0m\u001b[39;49m To update, run: \u001b[0m\u001b[32;49mpip install --upgrade pip\u001b[0m\n",
      "Note: you may need to restart the kernel to use updated packages.\n"
     ]
    }
   ],
   "source": [
    "%pip install scipy"
   ]
  },
  {
   "cell_type": "code",
   "execution_count": 1,
   "metadata": {},
   "outputs": [],
   "source": [
    "from scipy.optimize import fmin\n",
    "from time import time"
   ]
  },
  {
   "cell_type": "code",
   "execution_count": 2,
   "metadata": {},
   "outputs": [],
   "source": [
    "def generate_grid(start: float, end: float, interval: float):\n",
    "    # python の標準パッケージのみで実装\n",
    "    grid = []\n",
    "    i = start\n",
    "    while i <= end:\n",
    "        grid.append(i)\n",
    "        i += interval\n",
    "    return grid"
   ]
  },
  {
   "cell_type": "code",
   "execution_count": 63,
   "metadata": {},
   "outputs": [],
   "source": [
    "def calc_residual(\n",
    "    w: float, theta0: float, theta1: float, r: float, beta: float, gamma: float\n",
    ") -> float:\n",
    "    a = theta0 + theta1 * w\n",
    "    if a == 0.0:\n",
    "        a += 1e-05\n",
    "    # if w - a < 0:\n",
    "    #     raise ValueError(\"w < a!!!\")\n",
    "    # if w - a == 0:\n",
    "    #     a -= 1e-05\n",
    "        # raise ValueError(\"w == a!!!\")\n",
    "    # residual = beta * (1.0 + r)*(((1.0+r)*a) / (w - a))**(- gamma) - 1.0\n",
    "    residual = beta * (1.0 + r) * ((w - a) / ((1.0 + r) * a)) ** gamma - 1.0\n",
    "    # residual = (beta*(1+r))*((((1+r)*a)**(-gamma))/((w-a)**(-gamma)))-1\n",
    "    return residual\n",
    "\n"
   ]
  },
  {
   "cell_type": "code",
   "execution_count": 64,
   "metadata": {},
   "outputs": [],
   "source": [
    "def gen_ssr_func(w_list, r, beta, gamma):\n",
    "    def calc_ssr(theta) -> float:\n",
    "        theta0, theta1 = theta\n",
    "        ssr = 0.0\n",
    "        for w in w_list:\n",
    "            try:\n",
    "                ssr += calc_residual(w, theta0, theta1, r, beta, gamma) ** 2\n",
    "            except ValueError:  # as e:\n",
    "                # print(e)\n",
    "                continue\n",
    "        return ssr\n",
    "\n",
    "    return calc_ssr"
   ]
  },
  {
   "cell_type": "code",
   "execution_count": 65,
   "metadata": {},
   "outputs": [],
   "source": [
    "def main():\n",
    "    # カリブレーション\n",
    "    beta = 0.985**30\n",
    "    r = 1.025**30 - 1.0\n",
    "    gamma: float = 2.0\n",
    "\n",
    "    # 状態変数 w のグリッドを生成する\n",
    "    w_list = generate_grid(0.1, 1.0, 0.025)\n",
    "\n",
    "    # theta0, theta1 をインプットに残差2乗和を計算する関数を定義\n",
    "    calc_ssr = gen_ssr_func(w_list, r, beta, gamma)\n",
    "\n",
    "    # result = calc_rss([0.0, 0.35])\n",
    "\n",
    "    try:\n",
    "        result = fmin(calc_ssr, x0=[-0.5, -0.5], maxiter=2000, ftol=1e-10)\n",
    "        return result\n",
    "    except Exception:\n",
    "        import traceback\n",
    "\n",
    "        with open(\"error.log\", \"a\") as f:\n",
    "            traceback.print_exc(file=f)\n",
    "\n"
   ]
  },
  {
   "cell_type": "code",
   "execution_count": 66,
   "metadata": {},
   "outputs": [],
   "source": [
    "# calc_ssrを3Dプロットする\n",
    "import numpy as np\n",
    "import matplotlib.pyplot as plt\n",
    "from mpl_toolkits.mplot3d import Axes3D"
   ]
  },
  {
   "cell_type": "code",
   "execution_count": 67,
   "metadata": {},
   "outputs": [],
   "source": [
    "# カリブレーション\n",
    "beta = 0.985**30\n",
    "r = 1.025**30 - 1.0\n",
    "gamma: float = 2.0\n",
    "\n",
    "# 状態変数 w のグリッドを生成する\n",
    "w_list = generate_grid(0.1, 1.0, 0.025)\n",
    "\n",
    "# theta0, theta1 をインプットに残差2乗和を計算する関数を定義\n",
    "calc_ssr = gen_ssr_func(w_list, r, beta, gamma)"
   ]
  },
  {
   "cell_type": "code",
   "execution_count": 74,
   "metadata": {},
   "outputs": [
    {
     "ename": "SyntaxError",
     "evalue": "expected argument value expression (2063706159.py, line 12)",
     "output_type": "error",
     "traceback": [
      "\u001b[0;36m  Cell \u001b[0;32mIn[74], line 12\u001b[0;36m\u001b[0m\n\u001b[0;31m    ax.plot_surface(theta0, theta1, rss, cmap=) # type: ignore\u001b[0m\n\u001b[0m                                         ^\u001b[0m\n\u001b[0;31mSyntaxError\u001b[0m\u001b[0;31m:\u001b[0m expected argument value expression\n"
     ]
    }
   ],
   "source": [
    "fig = plt.figure()\n",
    "ax = fig.add_subplot(111, projection=\"3d\")\n",
    "\n",
    "# x と y の範囲の設定\n",
    "theta0_range = np.linspace(-1.0, 1, 100)\n",
    "theta1_range = np.linspace(-1.0, 1, 100)\n",
    "theta0, theta1 = np.meshgrid(theta0_range, theta1_range)\n",
    "\n",
    "# 関数を記述\n",
    "rss = calc_ssr([theta0, theta1])\n",
    "\n",
    "ax.plot_surface(theta0, theta1, rss, cmap=) # type: ignore\n",
    "# ax.contour(theta0, theta1, rss, colors = \"gray\", offset = -1)  # 底面に等高線を描画\n",
    "\n",
    "# 自動で軸を設定する場合は記述なし\n",
    "\n",
    "# 手動で軸を設定する場合\n",
    "# ax.set_xlim(-20, 20)\n",
    "# ax.set_ylim(-20, 20)\n",
    "# ax.set_zlim(0, 10000)\n",
    "\n",
    "ax.set_xlabel(\"theta0\")\n",
    "ax.set_ylabel(\"theta1\")\n",
    "ax.set_zlabel(\"RSS\")\n",
    "\n",
    "plt.show() "
   ]
  },
  {
   "cell_type": "code",
   "execution_count": 49,
   "metadata": {},
   "outputs": [
    {
     "name": "stdout",
     "output_type": "stream",
     "text": [
      "Optimization terminated successfully.\n",
      "         Current function value: 0.000000\n",
      "         Iterations: 53\n",
      "         Function evaluations: 100\n",
      "Computed policy function = \n",
      "\n",
      "[ 5.29991785e-07 -1.22424492e+00]\n",
      "\n",
      "in 0.017278194427490234 seconds.\n"
     ]
    }
   ],
   "source": [
    "\n",
    "t0 = time()\n",
    "pf = main()\n",
    "t1 = time()\n",
    "print(f\"Computed policy function = \\n\\n{pf}\\n\\nin {t1 - t0} seconds.\")\n"
   ]
  },
  {
   "cell_type": "code",
   "execution_count": null,
   "metadata": {},
   "outputs": [],
   "source": [
    "# 原因と対処法\n",
    "# 目的関数が綺麗な形じゃなくて、最適化関数を通した結果、変なかいが出てきちゃう問題に対して、どうすれば良いか調べる。"
   ]
  }
 ],
 "metadata": {
  "kernelspec": {
   "display_name": "venv",
   "language": "python",
   "name": "python3"
  },
  "language_info": {
   "codemirror_mode": {
    "name": "ipython",
    "version": 3
   },
   "file_extension": ".py",
   "mimetype": "text/x-python",
   "name": "python",
   "nbconvert_exporter": "python",
   "pygments_lexer": "ipython3",
   "version": "3.12.4"
  }
 },
 "nbformat": 4,
 "nbformat_minor": 2
}
