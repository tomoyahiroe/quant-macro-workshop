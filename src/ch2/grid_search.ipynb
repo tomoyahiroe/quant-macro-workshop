{
 "cells": [
  {
   "cell_type": "code",
   "execution_count": null,
   "metadata": {},
   "outputs": [],
   "source": [
    "# ライブラリのインポート\n",
    "import matplotlib.pyplot as plt\n",
    "import numpy as np\n",
    "import pandas as pd"
   ]
  },
  {
   "cell_type": "code",
   "execution_count": null,
   "metadata": {},
   "outputs": [],
   "source": [
    "# 状態変数 w のグリッドを生成\n",
    "w_grid = np.linspace(0.1, 1.0, 10)\n",
    "# 制御変数 a のグリッドを生成\n",
    "a_grid = np.linspace(0.025, 1.0, 40)"
   ]
  },
  {
   "cell_type": "code",
   "execution_count": null,
   "metadata": {},
   "outputs": [],
   "source": [
    "# パラメータを設定 (カリブレーション)\n",
    "beta = 0.985**30\n",
    "gamma = 2\n",
    "r = (1.025**30) - 1"
   ]
  },
  {
   "cell_type": "code",
   "execution_count": null,
   "metadata": {},
   "outputs": [],
   "source": [
    "# CRRA型効用関数を定義する\n",
    "def vf(w, a, beta, gamma, r):\n",
    "    \"\"\"\n",
    "    消費が負となる選択をした場合効用がマイナス無限大になるように設定して、\n",
    "    そのような選択肢が選ばれないようにする。\n",
    "    \"\"\"\n",
    "    if w - a < 0:\n",
    "        return float(\"-inf\")\n",
    "    u_young = ((w - a) ** (1 - gamma)) / (1 - gamma)\n",
    "    u_old = (((1 + r) * a) ** (1 - gamma)) / (1 - gamma)\n",
    "    u = u_young + beta * u_old\n",
    "    return u"
   ]
  },
  {
   "cell_type": "code",
   "execution_count": null,
   "metadata": {},
   "outputs": [],
   "source": [
    "# a_starの初期化（格納する箱をつくる）\n",
    "a_box = []\n",
    "# グリッドを代入して政策関数を求める\n",
    "for w in w_grid:\n",
    "    # v_boxをつくる\n",
    "    v_box = []  # v_boxの初期化\n",
    "    for a in a_grid:\n",
    "        util = vf(w, a, beta, gamma, r)\n",
    "        v_box.append(util)\n",
    "    a_star = a_grid[np.argmax(v_box)]\n",
    "    a_box.append(a_star)"
   ]
  },
  {
   "cell_type": "code",
   "execution_count": null,
   "metadata": {},
   "outputs": [],
   "source": [
    "# 最適なwとaの関係をグラフで描画する\n",
    "df = pd.DataFrame({\"x_axis\": w_grid, \"y_axis\": a_box})\n",
    "\n",
    "# plot\n",
    "plt.plot(\"x_axis\", \"y_axis\", data=df, linestyle=\"-\", marker=\"o\")\n",
    "plt.show()"
   ]
  }
 ],
 "metadata": {
  "kernelspec": {
   "display_name": "venv",
   "language": "python",
   "name": "python3"
  },
  "language_info": {
   "codemirror_mode": {
    "name": "ipython",
    "version": 3
   },
   "file_extension": ".py",
   "mimetype": "text/x-python",
   "name": "python",
   "nbconvert_exporter": "python",
   "pygments_lexer": "ipython3",
   "version": "3.12.4"
  }
 },
 "nbformat": 4,
 "nbformat_minor": 2
}
