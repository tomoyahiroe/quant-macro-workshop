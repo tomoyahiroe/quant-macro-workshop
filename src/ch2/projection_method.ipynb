{
 "cells": [
  {
   "cell_type": "markdown",
   "metadata": {},
   "source": [
    "## 問題点の整理と解決"
   ]
  },
  {
   "cell_type": "code",
   "execution_count": 2,
   "metadata": {},
   "outputs": [],
   "source": [
    "from scipy.optimize import fmin\n",
    "import numpy as np\n",
    "from time import time\n",
    "import matplotlib.pyplot as plt"
   ]
  },
  {
   "cell_type": "markdown",
   "metadata": {},
   "source": [
    "前回の勉強会で検討したコードだと、貯蓄がマイナスになる可能性や消費が非正になる可能性を排除できていなかったので修正する。"
   ]
  },
  {
   "cell_type": "code",
   "execution_count": 3,
   "metadata": {},
   "outputs": [],
   "source": [
    "# 一つの評価点におけるresidualを計算する関数を定義する\n",
    "def calc_residual(\n",
    "    w: float, theta0: float, theta1: float, r: float, beta: float, gamma: float\n",
    ") -> float:\n",
    "    a = theta0 + theta1 * w\n",
    "\n",
    "    \"\"\"\n",
    "    モデルの設定上、貯蓄aは必ず正である必要がある。\n",
    "    しかし、theta0とtheta1の値によってはaが負になるので、それを避けるためにペナルティとしてresidualが大きくなるように設定する。\n",
    "    なお、ペナルティの値をinfにすると後のfmin関数でエラーが出るので、有限の大きな値に留めておく。\n",
    "    \"\"\"\n",
    "    if a < 0:\n",
    "        return 10**5\n",
    "    else:\n",
    "        \"\"\"\n",
    "        消費が非正になることをを避けるためにペナルティとしてresidualが大きくなるように設定する。\n",
    "        \"\"\"    \n",
    "        if w - a > 0:\n",
    "            residual = (beta*(1+r))*((((1+r)*a)**(-gamma))/((w-a)**(-gamma)))-1\n",
    "            return residual\n",
    "        else:\n",
    "            return 10**5\n",
    "    \n"
   ]
  },
  {
   "cell_type": "code",
   "execution_count": 4,
   "metadata": {},
   "outputs": [],
   "source": [
    "# 全ての評価点におけるresidualをまとめてMSEを計算する関数を定義する\n",
    "def gen_ssr_func(w_list, r, beta, gamma):\n",
    "    def calc_ssr(theta) -> float:\n",
    "        theta0, theta1 = theta\n",
    "        ssr = 0.0\n",
    "        for w in w_list:\n",
    "            try:\n",
    "                ssr += calc_residual(w, theta0, theta1, r, beta, gamma) ** 2\n",
    "            except ValueError:  # as e:\n",
    "                # print(e)\n",
    "                continue\n",
    "        return ssr\n",
    "\n",
    "    return calc_ssr"
   ]
  },
  {
   "cell_type": "code",
   "execution_count": 5,
   "metadata": {},
   "outputs": [],
   "source": [
    "# メインパート：MSEを最小化して政策関数の切片と傾きのパラメータを求める\n",
    "def main():\n",
    "\n",
    "    # 状態変数 w のグリッドを生成する\n",
    "    w_list = np.linspace(0.1, 1.0, 25)\n",
    "\n",
    "    # カリブレーション\n",
    "    beta = 0.985**30\n",
    "    r = 1.025**30 - 1.0\n",
    "    gamma: float = 2.0\n",
    "\n",
    "\n",
    "    # theta0, theta1 をインプットにMSEを計算する関数をつくる\n",
    "    calc_ssr = gen_ssr_func(w_list, r, beta, gamma)\n",
    "\n",
    "    try:\n",
    "        # fminで最適な theta0, theta1 を探す\n",
    "        result = fmin(calc_ssr, x0=[0.3, 0.3], maxiter=2000, ftol=1e-10)\n",
    "        return result\n",
    "    except Exception:\n",
    "        import traceback\n",
    "\n",
    "        with open(\"error.log\", \"a\") as f:\n",
    "            traceback.print_exc(file=f)\n",
    "\n"
   ]
  },
  {
   "cell_type": "code",
   "execution_count": 6,
   "metadata": {},
   "outputs": [
    {
     "name": "stdout",
     "output_type": "stream",
     "text": [
      "Optimization terminated successfully.\n",
      "         Current function value: 0.000000\n",
      "         Iterations: 47\n",
      "         Function evaluations: 93\n",
      "Computed policy function = \n",
      "\n",
      "[-8.05203663e-08  3.55009365e-01]\n",
      "\n",
      "in 0.03962516784667969 seconds.\n"
     ]
    }
   ],
   "source": [
    "# 実行\n",
    "t0 = time()\n",
    "pf = main()\n",
    "t1 = time()\n",
    "print(f\"Computed policy function = \\n\\n{pf}\\n\\nin {t1 - t0} seconds.\")\n"
   ]
  },
  {
   "cell_type": "markdown",
   "metadata": {},
   "source": [
    "なお、切片と傾きの初期値を大きくすると…"
   ]
  },
  {
   "cell_type": "code",
   "execution_count": 7,
   "metadata": {},
   "outputs": [
    {
     "name": "stdout",
     "output_type": "stream",
     "text": [
      "Optimization terminated successfully.\n",
      "         Current function value: 250000000000.000000\n",
      "         Iterations: 10\n",
      "         Function evaluations: 39\n"
     ]
    },
    {
     "data": {
      "text/plain": [
       "array([0.5 , 0.75])"
      ]
     },
     "execution_count": 7,
     "metadata": {},
     "output_type": "execute_result"
    }
   ],
   "source": [
    "# 状態変数 w のグリッドを生成する\n",
    "w_list = np.linspace(0.1, 1.0, 25)\n",
    "\n",
    "# カリブレーション\n",
    "beta = 0.985**30\n",
    "r = 1.025**30 - 1.0\n",
    "gamma: float = 2.0\n",
    "\n",
    "\n",
    "# theta0, theta1 をインプットに残差2乗和を計算する関数を定義\n",
    "calc_ssr = gen_ssr_func(w_list, r, beta, gamma)\n",
    "\n",
    "fmin(calc_ssr, x0=[0.5, 0.75], maxiter=2000, ftol=1e-10)"
   ]
  },
  {
   "cell_type": "markdown",
   "metadata": {},
   "source": [
    "正しく最適化されない！\n",
    "\n",
    "これはおそらく、このような値の大きい初期値の周辺ではaがwと比べて大きすぎていつでも\"消費が非正ならresidualは10^5\"ルールに引っかかるため、**初期値周辺で目的関数の傾きが完全に0となってそこが極小点だと判定されてしまう**ことが原因かと思われる。"
   ]
  },
  {
   "cell_type": "markdown",
   "metadata": {},
   "source": [
    "実際、theta0=0.7, theta1=0.75のケースとtheta0=0.701, theta1=0.75のケースにおけるMSEを比較してみると…"
   ]
  },
  {
   "cell_type": "code",
   "execution_count": 8,
   "metadata": {},
   "outputs": [
    {
     "name": "stdout",
     "output_type": "stream",
     "text": [
      "250000000000.0\n",
      "250000000000.0\n"
     ]
    }
   ],
   "source": [
    "print(calc_ssr([0.7,0.75]))\n",
    "print(calc_ssr([0.701,0.75]))"
   ]
  },
  {
   "cell_type": "markdown",
   "metadata": {},
   "source": [
    "…どちらもまったく同じ！"
   ]
  },
  {
   "cell_type": "markdown",
   "metadata": {},
   "source": [
    "解決策としては、たとえこのような（本当は最適な係数からは程遠いような）初期値から始めたときでも、少しパラメータの値を動かしたら目的関数の値が変わってくれる（＝目的関数の傾きが0とならない）ように設定すればよい。"
   ]
  },
  {
   "cell_type": "code",
   "execution_count": 9,
   "metadata": {},
   "outputs": [],
   "source": [
    "# 一つの評価点におけるresidualを計算する関数を定義する（修正版）\n",
    "def calc_residual_alt(\n",
    "    w: float, theta0: float, theta1: float, r: float, beta: float, gamma: float\n",
    ") -> float:\n",
    "    a = theta0 + theta1 * w\n",
    "\n",
    "    \"\"\"\n",
    "    モデルの設定上、貯蓄aは必ず正である必要がある。\n",
    "    しかし、theta0とtheta1の値によってはaが負になるので、それを避けるためにペナルティとしてresidualが大きくなるように設定する。\n",
    "    なお、ペナルティの値をinfにすると後のfmin関数でエラーが出るので、有限の大きな値に留めておく。\n",
    "    \"\"\"\n",
    "    if a < 0:\n",
    "        return 10**5\n",
    "    else:\n",
    "        \"\"\"\n",
    "        消費が非正になることを避けるためにペナルティをつける。\n",
    "        ただし、今度はresidual自体にペナルティを設定するのではなく、一期の限界効用にペナルティを設定する。\n",
    "        消費が非正のときには限界効用が非常に大きくなる（消費がほぼ0）というように設定。\n",
    "        \"\"\"    \n",
    "        if w - a > 0:\n",
    "            mu1 = (w-a)**(-gamma)\n",
    "        else:\n",
    "            mu1 = 10**10\n",
    "        \n",
    "        residual = (beta*(1+r))*((((1+r)*a)**(-gamma))/(mu1))-1\n",
    "        return residual\n",
    "    \n",
    "# 全ての評価点におけるresidualをまとめてMSEを計算する関数を定義する（修正版）\n",
    "def gen_ssr_func_alt(w_list, r, beta, gamma):\n",
    "    def calc_ssr(theta) -> float:\n",
    "        theta0, theta1 = theta\n",
    "        ssr = 0.0\n",
    "        for w in w_list:\n",
    "            try:\n",
    "                ssr += calc_residual_alt(w, theta0, theta1, r, beta, gamma) ** 2\n",
    "            except ValueError:  # as e:\n",
    "                # print(e)\n",
    "                continue\n",
    "        return ssr\n",
    "\n",
    "    return calc_ssr"
   ]
  },
  {
   "cell_type": "code",
   "execution_count": 10,
   "metadata": {},
   "outputs": [
    {
     "name": "stdout",
     "output_type": "stream",
     "text": [
      "Optimization terminated successfully.\n",
      "         Current function value: 0.000000\n",
      "         Iterations: 73\n",
      "         Function evaluations: 138\n"
     ]
    },
    {
     "data": {
      "text/plain": [
       "array([-5.42447508e-08,  3.55009021e-01])"
      ]
     },
     "execution_count": 10,
     "metadata": {},
     "output_type": "execute_result"
    }
   ],
   "source": [
    "# 状態変数 w のグリッドを生成する\n",
    "w_list = np.linspace(0.1, 1.0, 25)\n",
    "\n",
    "# カリブレーション\n",
    "beta = 0.985**30\n",
    "r = 1.025**30 - 1.0\n",
    "gamma: float = 2.0\n",
    "\n",
    "\n",
    "# theta0, theta1 をインプットに残差2乗和を計算する関数を定義\n",
    "calc_ssr = gen_ssr_func_alt(w_list, r, beta, gamma)\n",
    "\n",
    "fmin(calc_ssr, x0=[0.7, 0.75], maxiter=2000, ftol=1e-10)"
   ]
  },
  {
   "cell_type": "markdown",
   "metadata": {},
   "source": [
    "これなら、大きい初期値から始めてしまった場合でも正しく最適化されている。"
   ]
  },
  {
   "cell_type": "code",
   "execution_count": 11,
   "metadata": {},
   "outputs": [
    {
     "name": "stdout",
     "output_type": "stream",
     "text": [
      "24.999999998640604\n",
      "24.99999999864332\n"
     ]
    }
   ],
   "source": [
    "print(calc_ssr([0.7,0.75]))\n",
    "print(calc_ssr([0.701,0.75]))"
   ]
  },
  {
   "cell_type": "markdown",
   "metadata": {},
   "source": [
    "実際、theta0=0.7, theta1=0.75のケースとtheta0=0.701, theta1=0.75のケースとで、ほんのわずかではあるがMSEの値が変わっている。\n",
    "\n",
    "\n",
    "最適化アルゴリズムを回すときには、このほんのわずかの違いがとても重要だということ。"
   ]
  },
  {
   "cell_type": "markdown",
   "metadata": {},
   "source": [
    "## leastsqを使う"
   ]
  },
  {
   "cell_type": "markdown",
   "metadata": {},
   "source": [
    "今回のように評価点ごとのresidualの合計の仕方をMSEに設定する場合は、leastsq関数を使うともう少しスッキリ書ける。"
   ]
  },
  {
   "cell_type": "markdown",
   "metadata": {},
   "source": [
    "leastsq関数は関数\n",
    "\\begin{align*}\n",
    "F(x;\\Theta) = \\left[ f(x_1;\\Theta), \\cdots, f(x_N;\\Theta)\\right]'\n",
    "\\end{align*}\n",
    "を設定すると、以下のような問題を解いてくれる。\n",
    "\\begin{align*}\n",
    " \\min_{\\Theta}\\ \\  \\sum_{i=1}^N (f(x_i;\\Theta))^2\n",
    "\\end{align*}"
   ]
  },
  {
   "cell_type": "code",
   "execution_count": 12,
   "metadata": {},
   "outputs": [],
   "source": [
    "from scipy.optimize import leastsq\n",
    "import numpy as np\n",
    "from time import time"
   ]
  },
  {
   "cell_type": "code",
   "execution_count": 13,
   "metadata": {},
   "outputs": [],
   "source": [
    "# すべての評価点におけるresidualを計算して箱に入れて出力する関数をつくる\n",
    "def calc_residual(theta, w_list, r, beta, gamma):\n",
    "    \n",
    "    theta0, theta1 = theta\n",
    "    resid_box = np.empty(len(w_list))\n",
    "    \n",
    "    for i in range(len(w_list)): \n",
    "    \n",
    "        \n",
    "        w = w_list[i]\n",
    "        a = theta0 + theta1 * w\n",
    "\n",
    "        \"\"\"\n",
    "        モデルの設定上、貯蓄aは必ず正である必要がある。\n",
    "        しかし、theta0とtheta1の値によってはaが負になるので、それを避けるためにペナルティとしてresidualが大きくなるように設定する。\n",
    "        なお、ペナルティの値をinfにすると後のfmin関数でエラーが出るので、有限の大きな値に留めておく。\n",
    "        \"\"\"\n",
    "        if a < 0:\n",
    "            resid_box[i] = 10**5\n",
    "\n",
    "        else:\n",
    "            \"\"\"\n",
    "            消費が非正になることを避けるためにペナルティをつける。\n",
    "            ただし、今度はresidual自体にペナルティを設定するのではなく、一期の限界効用にペナルティを設定する。\n",
    "            消費が非正のときには限界効用が非常に大きくなる（消費がほぼ0）というように設定。\n",
    "            \"\"\"    \n",
    "            if w - a > 0:\n",
    "                mu1 = (w-a)**(-gamma)\n",
    "            else:\n",
    "                mu1 = 10**5      \n",
    "            \n",
    "            residual = (beta*(1+r))*((((1+r)*a)**(-gamma))/(mu1))-1\n",
    "            resid_box[i] = residual\n",
    "\n",
    "    return resid_box\n",
    "    "
   ]
  },
  {
   "cell_type": "code",
   "execution_count": 14,
   "metadata": {},
   "outputs": [],
   "source": [
    "def main():\n",
    "\n",
    "    # 状態変数 w のグリッドを生成する\n",
    "    w_list = np.linspace(0.1, 1.0, 25)\n",
    "\n",
    "    # カリブレーション\n",
    "    beta = 0.985**30\n",
    "    r = 1.025**30 - 1.0\n",
    "    gamma: float = 2.0\n",
    "\n",
    "\n",
    "\n",
    "    try:\n",
    "        # leastsqで最適な theta0, theta1 を探す\n",
    "        result = leastsq(calc_residual, x0=[0.7, 0.75], args=(w_list, r, beta, gamma))\n",
    "        return result\n",
    "    except Exception:\n",
    "        import traceback\n",
    "\n",
    "        with open(\"error.log\", \"a\") as f:\n",
    "            traceback.print_exc(file=f)"
   ]
  },
  {
   "cell_type": "code",
   "execution_count": 15,
   "metadata": {},
   "outputs": [
    {
     "name": "stdout",
     "output_type": "stream",
     "text": [
      "Computed policy function = \n",
      "\n",
      "(array([2.00549752e-10, 3.55008877e-01]), 2)\n",
      "\n",
      "in 0.002263784408569336 seconds.\n"
     ]
    }
   ],
   "source": [
    "t0 = time()\n",
    "pf = main()\n",
    "t1 = time()\n",
    "print(f\"Computed policy function = \\n\\n{pf}\\n\\nin {t1 - t0} seconds.\")"
   ]
  },
  {
   "cell_type": "code",
   "execution_count": 16,
   "metadata": {},
   "outputs": [],
   "source": [
    "theta0_range = np.linspace(0.0, 1.0, 10)\n",
    "theta1_range = np.linspace(-1.0, 1.0, 10)"
   ]
  },
  {
   "cell_type": "code",
   "execution_count": 17,
   "metadata": {},
   "outputs": [
    {
     "name": "stderr",
     "output_type": "stream",
     "text": [
      "/var/folders/y2/hwl07kg14b31nb5s126cjc8m0000gn/T/ipykernel_28595/1742608867.py:25: RuntimeWarning: divide by zero encountered in scalar power\n",
      "  residual = (beta*(1+r))*((((1+r)*a)**(-gamma))/(mu1))-1\n"
     ]
    }
   ],
   "source": [
    "# 3Dプロットのためのデータ作成\n",
    "theta0_vals, theta1_vals = np.meshgrid(theta0_range, theta1_range)\n",
    "ssr_vals = np.zeros_like(theta0_vals)\n",
    "\n",
    "for i in range(theta0_vals.shape[0]):\n",
    "    for j in range(theta0_vals.shape[1]):\n",
    "        theta0 = theta0_vals[i, j]\n",
    "        theta1 = theta1_vals[i, j]\n",
    "        theta = [theta0, theta1]\n",
    "        ssr_vals[i, j] = calc_ssr(theta)"
   ]
  },
  {
   "cell_type": "code",
   "execution_count": 19,
   "metadata": {},
   "outputs": [
    {
     "name": "stderr",
     "output_type": "stream",
     "text": [
      "/var/folders/y2/hwl07kg14b31nb5s126cjc8m0000gn/T/ipykernel_28595/1199220139.py:11: UserWarning: No artists with labels found to put in legend.  Note that artists whose label start with an underscore are ignored when legend() is called with no argument.\n",
      "  ax.legend()\n"
     ]
    },
    {
     "data": {
      "image/png": "[encoded data removed]",
      "text/plain": [
       "<Figure size 640x480 with 1 Axes>"
      ]
     },
     "metadata": {},
     "output_type": "display_data"
    }
   ],
   "source": [
    "# 3Dプロット\n",
    "fig = plt.figure()\n",
    "ax = fig.add_subplot(111, projection=\"3d\")\n",
    "ax.plot_surface(theta0_vals, theta1_vals, ssr_vals, cmap=\"viridis\")\n",
    "\n",
    "\n",
    "ax.set_xlabel(\"theta0\")\n",
    "ax.set_ylabel(\"theta1\")\n",
    "ax.set_zlabel(\"SSR\")\n",
    "ax.set_title(\"3D plot of SSR with respect to theta0 and theta1\")\n",
    "ax.legend()\n",
    "\n",
    "plt.show()"
   ]
  },
  {
   "cell_type": "code",
   "execution_count": null,
   "metadata": {},
   "outputs": [],
   "source": []
  }
 ],
 "metadata": {
  "kernelspec": {
   "display_name": "venv",
   "language": "python",
   "name": "python3"
  },
  "language_info": {
   "codemirror_mode": {
    "name": "ipython",
    "version": 3
   },
   "file_extension": ".py",
   "mimetype": "text/x-python",
   "name": "python",
   "nbconvert_exporter": "python",
   "pygments_lexer": "ipython3",
   "version": "3.12.4"
  }
 },
 "nbformat": 4,
 "nbformat_minor": 2
}
