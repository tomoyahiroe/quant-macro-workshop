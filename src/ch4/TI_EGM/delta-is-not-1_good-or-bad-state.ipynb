{
 "cells": [
  {
   "cell_type": "markdown",
   "metadata": {},
   "source": [
    "# 4章 4.2 EGM を用いた TI の準コード\n",
    "\n",
    "- $\\delta < 1$\n",
    "- $A_t = \\{A^{good}, A^{bad}\\}$"
   ]
  },
  {
   "cell_type": "markdown",
   "metadata": {},
   "source": [
    "### モデルの説明\n",
    "\n",
    "- CRRA型効用関数: $u(c) = \\frac{c^{1-\\gamma}}{1-\\gamma}$\n",
    "- 生産関数: $f(k; A) = Ak^\\alpha$\n",
    "  - 技術水準 $A$ は良い状態の時と悪い状態の時があるとする $\\{A^{good}, A^{bad}\\}$\n",
    "  - 技術水準の遷移確率: $P_A = \\begin{bmatrix} P_{gg} & P_{gb} \\\\ P_{bg} & P_{bb} \\end{bmatrix}$\n",
    "- 減耗した資本を含む富の関数: $m = \\tilde{f}(k; A, \\delta)$ = $f(k; A) + (1 - \\delta)k$"
   ]
  },
  {
   "cell_type": "code",
   "execution_count": 61,
   "metadata": {},
   "outputs": [],
   "source": [
    "# パッケージのインポート\n",
    "\n",
    "import numpy as np\n",
    "import numpy.typing as npt\n",
    "from numpy.polynomial.chebyshev import Chebyshev\n",
    "import matplotlib.pyplot as plt\n",
    "import math"
   ]
  },
  {
   "cell_type": "markdown",
   "metadata": {},
   "source": [
    "### 1. パラメータをカリブレーション"
   ]
  },
  {
   "cell_type": "code",
   "execution_count": 62,
   "metadata": {},
   "outputs": [],
   "source": [
    "# パラメータをカリブレーション\n",
    "beta = 0.96\n",
    "gamma = 1.0\n",
    "alpha = 0.4 \n",
    "delta = 0.025"
   ]
  },
  {
   "cell_type": "markdown",
   "metadata": {},
   "source": [
    "### 2. 収束の基準を定義"
   ]
  },
  {
   "cell_type": "code",
   "execution_count": 63,
   "metadata": {},
   "outputs": [],
   "source": [
    "# 収束の基準を定義\n",
    "epsilon = 1e-5"
   ]
  },
  {
   "cell_type": "markdown",
   "metadata": {},
   "source": [
    "### 3. 制御変数のグリッドを生成\n",
    "\n",
    "- $\\{ k^\\prime \\}_{i = 1}^N, \\;\\; N = 21$\n",
    "- $k_1^\\prime = 0, k_{21}^\\prime = 0.5$"
   ]
  },
  {
   "cell_type": "code",
   "execution_count": null,
   "metadata": {},
   "outputs": [],
   "source": [
    "# 制御変数のグリッドを生成\n",
    "nk = 20\n",
    "Kprime_grid = np.linspace(0.025, 0.5, nk)\n",
    "print(Kprime_grid)"
   ]
  },
  {
   "cell_type": "markdown",
   "metadata": {},
   "source": [
    "### 4. 技術水準の状態$A \\in \\{A^{good}, A^{bad}\\}$を定義"
   ]
  },
  {
   "cell_type": "code",
   "execution_count": 65,
   "metadata": {},
   "outputs": [],
   "source": [
    "# 技術水準の状態を定義\n",
    "na = 2\n",
    "A_grid = np.zeros(na)\n",
    "A_grid = np.array([1.01, 0.99])"
   ]
  },
  {
   "cell_type": "markdown",
   "metadata": {},
   "source": [
    "### 5. $\\{k_i^\\prime\\}^{N_k}_{i = 1}$と$\\{A_k\\}^{N_A}_{k=1}$から$m^\\prime$のグリッド（二次元）を計算する"
   ]
  },
  {
   "cell_type": "code",
   "execution_count": null,
   "metadata": {},
   "outputs": [],
   "source": [
    "# m'のグリッドを生成\n",
    "def f_tilde(k: float, A: float) -> float:\n",
    "    return (k**alpha) * A + (1 - delta) * k\n",
    "\n",
    "Mprime_matrix = np.zeros((nk, na))\n",
    "for i in range(nk):\n",
    "    for j in range(na):\n",
    "        Mprime_matrix[i, j] = f_tilde(Kprime_grid[i], A_grid[j])\n",
    "\n",
    "print(Mprime_matrix)"
   ]
  },
  {
   "cell_type": "markdown",
   "metadata": {},
   "source": [
    "### 5. $N_A \\times N_A$の遷移確率行列を手置き定義 "
   ]
  },
  {
   "cell_type": "code",
   "execution_count": 67,
   "metadata": {},
   "outputs": [],
   "source": [
    "# 遷移確率行列を定義\n",
    "P = np.array([[0.875, 0.125], [0.125, 0.875]])"
   ]
  },
  {
   "cell_type": "markdown",
   "metadata": {},
   "source": [
    "### 6. 初期値として政策関数を当て推量 $c_{i, j} = h^{(0)}(m^\\prime_{i,j})$"
   ]
  },
  {
   "cell_type": "code",
   "execution_count": null,
   "metadata": {},
   "outputs": [],
   "source": [
    "# 6. 初期値として政策関数を当て推量，富の増加関数とする\n",
    "h_old_matrix = np.zeros((nk, na))\n",
    "h_old_matrix = Mprime_matrix * 0.5\n",
    "np.set_printoptions(precision=3)\n",
    "print(h_old_matrix)"
   ]
  },
  {
   "cell_type": "markdown",
   "metadata": {},
   "source": [
    "### 7. 次のステップを収束するまで繰り返す(繰り返し記号：n)\n",
    "   1. 古い政策関数 $h^{(n-1)}(k_i^\\prime)$ を所与として，$\\{k^\\prime_i\\}_{i=1}^{N_k} \\times A_j \\in \\{A^{good}, A^{bad}\\}$ の各グリッドについて\n",
    "   \t\n",
    "      - $c_{i, j} = u^{\\prime -1} ( \\beta \\sum_{k=1}^{N_A} \\{ P_{j,k} u^\\prime(h^{(n-1)}(k^\\prime_i, A_k)) \\times \\tilde{f}^\\prime (k^\\prime_i, A_k)\\} )$\n",
    "      - $c_{i,j} + k^\\prime_i = \\tilde{f}(k_i, A_j) \\Rightarrow k_i = \\tilde{f}^{-1} (c_{i,j} + k^\\prime_i)$"
   ]
  },
  {
   "cell_type": "code",
   "execution_count": 69,
   "metadata": {},
   "outputs": [],
   "source": [
    "# ステップ7の準備（ndarrayが前提）\n",
    "def u_prime(c: float) -> float:\n",
    "    return c**(-gamma)\n",
    "def u_prime_inv(mu: float) -> float:\n",
    "    return mu**(-1/gamma)\n",
    "def f_tilde_prime(k: float, A: float) -> float:\n",
    "    return alpha * A * (k**(alpha - 1)) + (1 - delta)\n",
    "\n",
    "def interpolate_cheb(m_matrix,A_list,c_matrix):\n",
    "    \"\"\"チェビシェフ補間を行う関数を返す関数\n",
    "\n",
    "    Args:\n",
    "        m: 計算された m の行列 m[i, j]\n",
    "        A (npt.NDArray): 説明変数 A の配列（離散化された状態の長さ分）\n",
    "        c (npt.NDArray): 目的変数 c の配列\n",
    "    \"\"\"\n",
    "    def interp_func(m,a):\n",
    "        # A_list から aと一致する要素の番号を得る\n",
    "        A_idx = np.where(A_list == a)[0][0]\n",
    "        # m_matrixから k_matrix[i, z_idx]の配列を得る\n",
    "        m_list = m_matrix[:, A_idx]\n",
    "        c_list = c_matrix[:, A_idx]\n",
    "        cheb_fit = Chebyshev.fit(m_list, c_list, deg=15)\n",
    "        \n",
    "        return cheb_fit(m)\n",
    "    \n",
    "    return interp_func"
   ]
  },
  {
   "cell_type": "code",
   "execution_count": null,
   "metadata": {},
   "outputs": [],
   "source": [
    "diff = epsilon + 1\n",
    "loop = 0\n",
    "while diff > epsilon:\n",
    "    loop += 1\n",
    "    Gamma = np.zeros((nk, na)) # オイラー方程式の右辺\n",
    "    C_matrix = np.zeros((nk, na))\n",
    "    M_matrix = np.zeros((nk, na))\n",
    "    \n",
    "    for i in range(nk):\n",
    "        for j in range(na):\n",
    "            for k in range(na):\n",
    "                Gamma[i, j] += beta * P[j, k] * u_prime(h_old_matrix[i, k]) * f_tilde_prime(Kprime_grid[i], A_grid[k])\n",
    "            C_matrix[i, j] = u_prime_inv(Gamma[i, j])\n",
    "            M_matrix[i, j] = C_matrix[i,j] + Kprime_grid[i]\n",
    "\n",
    "\n",
    "    h_new_func = interpolate_cheb(M_matrix, A_grid, C_matrix)\n",
    "    np_h_new_func = np.frompyfunc(h_new_func, 2, 1)\n",
    "\n",
    "    # # 収束の確認 \n",
    "    A_matrix = np.array(list(A_grid) * nk).reshape(nk, na)\n",
    "    h_new_matrix = np_h_new_func(Mprime_matrix, A_matrix) #h_new_matrixには、次期の政策関数が入流べき！??\n",
    "    diff = np.max(np.abs(h_new_matrix - h_old_matrix))\n",
    "    \n",
    "    h_old_matrix = np.copy(h_new_matrix)\n",
    "    if loop % 50 == 0:\n",
    "        print(f\"loop: {loop}, diff: {diff}\")\n",
    "\n",
    "print(h_old_matrix)"
   ]
  },
  {
   "cell_type": "markdown",
   "metadata": {},
   "source": [
    "### 政策関数を 3次元プロット"
   ]
  },
  {
   "cell_type": "code",
   "execution_count": null,
   "metadata": {},
   "outputs": [],
   "source": [
    "# np_h_new_func を使って三次元プロット\n",
    "fig = plt.figure()\n",
    "ax = fig.add_subplot(111, projection='3d')\n",
    "ax.plot_surface(M_matrix, A_matrix, C_matrix, cmap='viridis')\n",
    "ax.set_xlabel('M')\n",
    "ax.set_ylabel('A')\n",
    "ax.set_zlabel('C')\n",
    "plt.show()\n",
    "print(loop)\n",
    "print(diff)"
   ]
  },
  {
   "cell_type": "markdown",
   "metadata": {},
   "source": [
    "### z の値を固定した政策関数の二次元プロット"
   ]
  },
  {
   "cell_type": "code",
   "execution_count": null,
   "metadata": {},
   "outputs": [],
   "source": [
    "for i in range(na):\n",
    "    M = M_matrix[:, i]\n",
    "    C = C_matrix[:, i]\n",
    "    plt.plot(M, C, label=f'A = {A_grid[i]}')\n",
    "plt.xlabel('M')\n",
    "plt.ylabel('C')\n",
    "plt.legend()\n",
    "plt.show()"
   ]
  },
  {
   "cell_type": "markdown",
   "metadata": {},
   "source": [
    "### Kprime と K のプロット"
   ]
  },
  {
   "cell_type": "code",
   "execution_count": null,
   "metadata": {},
   "outputs": [],
   "source": [
    "# K と K' の関係をプロット\n",
    "for i in range(na):\n",
    "    K = np.copy(Kprime_grid)\n",
    "    for j  in range(len(K)):\n",
    "        M[j] = f_tilde(K[j], A_grid[i])\n",
    "        C[j] = h_new_func(M[j], A_grid[i])\n",
    "    Kprime = M - C\n",
    "    plt.plot(K, Kprime, label=f'A = {A_grid[i]}')\n",
    "plt.xlabel('K')\n",
    "plt.ylabel('Kprime')\n",
    "plt.legend()\n",
    "plt.show()"
   ]
  },
  {
   "cell_type": "markdown",
   "metadata": {},
   "source": [
    "### $Z_t$ の流列を生成し、$K, C$の流列をシミュレーション"
   ]
  },
  {
   "cell_type": "code",
   "execution_count": null,
   "metadata": {},
   "outputs": [],
   "source": [
    "# 確率的シミュレーション\n",
    "T = 100\n",
    "# 0-100まで\n",
    "T_series = np.linspace(0, T, T)\n",
    "K_path = np.zeros(T)\n",
    "Z_path = np.zeros(T)\n",
    "C_path = np.zeros(T)\n",
    "K_path[0] = 1.0\n",
    "\n",
    "# Z_gridから Z_pathの値をランダムに生成\n",
    "for t in range(T):\n",
    "  Z_path[t] = Z_grid[np.random.choice(nz)]\n",
    "\n",
    "for t in range(1, T):\n",
    "  C_path[t-1] = h_new_func(f_tilde(K_path[t-1],Z_path[t-1]), Z_path[t-1])\n",
    "  K_path[t] = f_tilde(K_path[t-1], Z_path[t-1]) - C_path[t]\n",
    "\n",
    "# K_path, C_path, Z_path を T_series を横軸に3つ縦に並べてプロット\n",
    "# グラフの描画領域\n",
    "fig = plt.figure()\n",
    "# サブプロットの追加\n",
    "ax1 = fig.add_subplot(3, 1, 1)\n",
    "ax2 = fig.add_subplot(3, 1, 2)\n",
    "ax3 = fig.add_subplot(3, 1, 3)\n",
    "# プロット\n",
    "ax1.plot(T_series, K_path, label='K')\n",
    "ax2.plot(T_series, C_path, label='C')\n",
    "ax3.plot(T_series, Z_path, label='Z')\n",
    "# ラベル\n",
    "ax1.set_ylabel('K')\n",
    "ax2.set_ylabel('C')\n",
    "ax3.set_ylabel('Z')\n",
    "# タイトル\n",
    "ax1.set_title('K_path')\n",
    "ax2.set_title('C_path')\n",
    "ax3.set_title('Z_path')\n",
    "fig.tight_layout()\n",
    "plt.xlabel('T')\n",
    "plt.show()"
   ]
  },
  {
   "cell_type": "markdown",
   "metadata": {},
   "source": [
    "### リセット"
   ]
  },
  {
   "cell_type": "code",
   "execution_count": 60,
   "metadata": {},
   "outputs": [],
   "source": [
    "%reset -f"
   ]
  },
  {
   "cell_type": "code",
   "execution_count": null,
   "metadata": {},
   "outputs": [],
   "source": []
  }
 ],
 "metadata": {
  "kernelspec": {
   "display_name": "quant-macro-workshop-bUjjWVNQ-py3.12",
   "language": "python",
   "name": "python3"
  },
  "language_info": {
   "codemirror_mode": {
    "name": "ipython",
    "version": 3
   },
   "file_extension": ".py",
   "mimetype": "text/x-python",
   "name": "python",
   "nbconvert_exporter": "python",
   "pygments_lexer": "ipython3",
   "version": "3.12.6"
  }
 },
 "nbformat": 4,
 "nbformat_minor": 2
}
