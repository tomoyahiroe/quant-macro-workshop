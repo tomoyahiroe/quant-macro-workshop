{
 "cells": [
  {
   "cell_type": "markdown",
   "metadata": {},
   "source": [
    "# 4章 4.2 EGM を用いた TI の準コード\n",
    "\n",
    "- $\\delta < 1$\n",
    "- $A_t = e^{z_k}$\n",
    "- $z_k \\in \\{z_1, z_2, \\cdots, z_N\\}$"
   ]
  },
  {
   "cell_type": "markdown",
   "metadata": {},
   "source": [
    "## モデルの説明\n",
    "\n",
    "- \n",
    "- "
   ]
  },
  {
   "cell_type": "code",
   "execution_count": 122,
   "metadata": {},
   "outputs": [],
   "source": [
    "# パッケージのインポート\n",
    "\n",
    "import numpy as np\n",
    "import numpy.typing as npt\n",
    "from numpy.polynomial.chebyshev import Chebyshev\n",
    "import matplotlib.pyplot as plt\n",
    "# import japanize_matplotlib\n",
    "import math\n",
    "from scipy.stats import norm"
   ]
  },
  {
   "cell_type": "markdown",
   "metadata": {},
   "source": [
    "### 1. パラメータをカリブレーション"
   ]
  },
  {
   "cell_type": "code",
   "execution_count": 123,
   "metadata": {},
   "outputs": [],
   "source": [
    "# パラメータをカリブレーション\n",
    "beta = 0.96\n",
    "gamma = 1.0\n",
    "alpha = 0.4 # 1を割った時に正数となる値にすると f_tildeで複素数を回避できる\n",
    "delta = 0.025"
   ]
  },
  {
   "cell_type": "markdown",
   "metadata": {},
   "source": [
    "### 2. 収束の基準を定義"
   ]
  },
  {
   "cell_type": "code",
   "execution_count": 124,
   "metadata": {},
   "outputs": [],
   "source": [
    "# 収束の基準を定義\n",
    "epsilon = 1e-5"
   ]
  },
  {
   "cell_type": "markdown",
   "metadata": {},
   "source": [
    "### 3. 制御変数のグリッドを生成\n",
    "\n",
    "- $\\{ k^\\prime \\}_{i = 1}^N, \\;\\; N = 21$\n",
    "- $k_1^\\prime = 0, k_{21}^\\prime = 0.5$"
   ]
  },
  {
   "cell_type": "code",
   "execution_count": null,
   "metadata": {},
   "outputs": [],
   "source": [
    "# 制御変数のグリッドを生成\n",
    "nk = 20\n",
    "Kprime_grid = np.linspace(0.025, 0.5, nk)\n",
    "print(Kprime_grid)"
   ]
  },
  {
   "cell_type": "markdown",
   "metadata": {},
   "source": [
    "### 4. 確率変数$z$のグリッド$\\{ z_j \\}_{j = 1}^N$を生成（Tauchenの方法）"
   ]
  },
  {
   "cell_type": "code",
   "execution_count": null,
   "metadata": {},
   "outputs": [],
   "source": [
    "# パラメータの値は教科書に則ったもの\n",
    "nz = 12 # 0を避けるために12に設定\n",
    "rho = 0.95\n",
    "sigma = 0.01\n",
    "m = 2.575\n",
    "Z_max = m * sigma / math.sqrt(1 - rho**2)\n",
    "Z_grid = np.linspace(-Z_max, Z_max, nz)\n",
    "print(Z_grid)"
   ]
  },
  {
   "cell_type": "markdown",
   "metadata": {},
   "source": [
    "### 4. 確率変数のグリッド$\\{z_j\\}^2_{j = 1}$を生成（$z_{high},z_{low}$）"
   ]
  },
  {
   "cell_type": "code",
   "execution_count": 137,
   "metadata": {},
   "outputs": [],
   "source": [
    "nz = 4\n",
    "Z_grid = np.zeros(nz)\n",
    "Z_grid = np.array([-0.5, -0.25, 0.25, 0.5])"
   ]
  },
  {
   "cell_type": "markdown",
   "metadata": {},
   "source": [
    "### 5. $\\{k_i^\\prime\\}^{N_k}_{i = 1}$と$\\{z_k\\}^{N_z}_{k=1}$から$m^\\prime$のグリッド（二次元）を計算する"
   ]
  },
  {
   "cell_type": "code",
   "execution_count": null,
   "metadata": {},
   "outputs": [],
   "source": [
    "# m'のグリッドを生成\n",
    "def f_tilde(k: float, z: float) -> float:\n",
    "    return k**alpha * np.exp(z) + (1 - delta) * k\n",
    "\n",
    "Mprime_matrix = np.zeros((nk, nz))\n",
    "for i in range(nk):\n",
    "    for j in range(nz):\n",
    "        Mprime_matrix[i, j] = f_tilde(Kprime_grid[i], Z_grid[j])\n",
    "\n",
    "print(Mprime_matrix)"
   ]
  },
  {
   "cell_type": "markdown",
   "metadata": {},
   "source": [
    "### 5. $N_z \\times N_z$の遷移確率行列を定義（Tauchenの方法）"
   ]
  },
  {
   "cell_type": "code",
   "execution_count": null,
   "metadata": {},
   "outputs": [],
   "source": [
    "# Tauchenの方法\n",
    "d = 2 * Z_max / (nz - 1)\n",
    "P = np.zeros((nz, nz))\n",
    "for i in range(nz):\n",
    "    for j in range(nz):\n",
    "        if j == 0:\n",
    "            P[i, j] = norm.cdf(Z_grid[j] + d / 2 - rho * Z_grid[i], loc = 0, scale = sigma)\n",
    "        elif j == nz:\n",
    "            P[i, j] = 1 - norm.cdf(Z_grid[j] - d / 2 - rho * Z_grid[i], loc = 0, scale = sigma)\n",
    "        else:\n",
    "            P[i, j] = norm.cdf(Z_grid[j] + d /2 - rho * Z_grid[i], sigma) - norm.cdf(Z_grid[j] - d / 2 - rho * Z_grid[i], loc = 0, scale = sigma)\n",
    "# np.printoptions(precision = 5)\n",
    "print(P)"
   ]
  },
  {
   "cell_type": "markdown",
   "metadata": {},
   "source": [
    "### 5. $N_z \\times N_z$の遷移確率行列を手置き定義 "
   ]
  },
  {
   "cell_type": "code",
   "execution_count": 139,
   "metadata": {},
   "outputs": [],
   "source": [
    "# 0.8 0.6 0.4 0.2 からなる遷移確率行列 4x4\n",
    "P = np.array([[0.6, 0.3, 0.1, 0.0], [0.1, 0.6, 0.2, 0.1], [0.0, 0.1, 0.6, 0.3], [0.2, 0.1, 0.3, 0.6]])"
   ]
  },
  {
   "cell_type": "markdown",
   "metadata": {},
   "source": [
    "### 6. 初期値として政策関数を当て推量 $c_{i, j} = h^{(0)}(m^\\prime_{i,j})$"
   ]
  },
  {
   "cell_type": "code",
   "execution_count": null,
   "metadata": {},
   "outputs": [],
   "source": [
    "# 6. 初期値として政策関数を当て推量，富の増加関数とする\n",
    "h_old_matrix = np.zeros((nk, nz))\n",
    "h_old_matrix = Mprime_matrix * 0.9\n",
    "np.set_printoptions(precision=3)\n",
    "print(h_old_matrix)"
   ]
  },
  {
   "cell_type": "markdown",
   "metadata": {},
   "source": [
    "### 7. 次のステップを収束するまで繰り返す(繰り返し記号：n)\n",
    "   1. 古い政策関数 $h^{(n-1)}(k_i^\\prime)$ を所与として，$\\{k^\\prime_i\\}_{i=1}^{N_k} \\times \\{z_s\\}_{s=1}^{N_z}$ の各グリッドについて\n",
    "   \t\n",
    "      - $c_{i, s} = u^{\\prime -1} ( \\beta \\sum_{t=1}^{N_z} \\{ P_{s,t} u^\\prime(h^{(n-1)}(k^\\prime_i, z_t)) \\times \\tilde{f}^\\prime (k^\\prime_i, z_t)\\} )$\n",
    "      - $c_{i,s} + k^\\prime_i = \\tilde{f}(k_i, z_s) \\Rightarrow k_i = \\tilde{f}^{-1} (c_{i,s} + k^\\prime_i)$"
   ]
  },
  {
   "cell_type": "code",
   "execution_count": 147,
   "metadata": {},
   "outputs": [],
   "source": [
    "# ステップ7の準備（ndarrayが前提）\n",
    "def u_prime(c: float) -> float:\n",
    "    return c**(-gamma)\n",
    "def u_prime_inv(mu: float) -> float:\n",
    "    return mu**(-1/gamma)\n",
    "def f_tilde(k: float, z: float) -> float:\n",
    "    return np.exp(z) * k**alpha + (1 - delta) * k\n",
    "def f_tilde_prime(k: float, z: float) -> float:\n",
    "    return alpha * np.exp(z) * k**(alpha - 1) + (1 - delta)\n",
    "\n",
    "def interpolate_cheb(m_matrix,z_list,c_matrix):\n",
    "    \"\"\"チェビシェフ補間を行う関数を返す関数\n",
    "\n",
    "    Args:\n",
    "        k: 計算された k の行列 k[i, j]\n",
    "        z (npt.NDArray): 説明変数 z の配列（離散化された状態の長さ分）\n",
    "        c (npt.NDArray): 目的変数 c の配列\n",
    "    \"\"\"\n",
    "    def interp_func(k,z):\n",
    "        # z_list から zと一致する要素の番号を得る\n",
    "        z_idx = np.where(z_list == z)[0][0]\n",
    "        # k_matrixから k_matrix[i, z_idx]の配列を得る\n",
    "        k_list = m_matrix[:, z_idx]\n",
    "        c_list = c_matrix[:, z_idx]\n",
    "        cheb_fit = Chebyshev.fit(k_list, c_list, deg=15)\n",
    "        \n",
    "        return cheb_fit(k)\n",
    "    \n",
    "    return interp_func"
   ]
  },
  {
   "cell_type": "code",
   "execution_count": null,
   "metadata": {},
   "outputs": [],
   "source": [
    "diff = epsilon + 1\n",
    "loop = 0\n",
    "while diff > epsilon:\n",
    "    loop += 1\n",
    "    Gamma = np.zeros((nk, nz)) # オイラー方程式の右辺\n",
    "    C_matrix = np.zeros((nk, nz))\n",
    "    M_matrix = np.zeros((nk, nz))\n",
    "    \n",
    "    for i in range(nk):\n",
    "        for j in range(nz):\n",
    "            for k in range(nz):\n",
    "                Gamma[i, j] += beta * P[j, k] * u_prime(h_old_matrix[i, k]) * f_tilde_prime(Kprime_grid[i], Z_grid[k])\n",
    "            C_matrix[i, j] = u_prime_inv(Gamma[i, j])\n",
    "            M_matrix[i, j] = C_matrix[i,j] + Kprime_grid[i]\n",
    "\n",
    "\n",
    "    h_new_func = interpolate_cheb(M_matrix, Z_grid, C_matrix)\n",
    "    np_h_new_func = np.frompyfunc(h_new_func, 2, 1)\n",
    "\n",
    "    # # 収束の確認\n",
    "    Z_matrix = np.array(list(Z_grid) * nk).reshape(nk, nz)\n",
    "    h_new_matrix = np_h_new_func(M_matrix, Z_matrix)\n",
    "    diff = np.max(np.abs(h_new_matrix - h_old_matrix))\n",
    "    \n",
    "    h_old_matrix = h_new_matrix\n",
    "\n",
    "print(h_old_matrix)"
   ]
  },
  {
   "cell_type": "markdown",
   "metadata": {},
   "source": [
    "### 政策関数を 3次元プロット"
   ]
  },
  {
   "cell_type": "code",
   "execution_count": null,
   "metadata": {},
   "outputs": [],
   "source": [
    "# np_h_new_func を使って三次元プロット\n",
    "Kprime_matrix = np.zeros((nk, nz))\n",
    "for i in range(nk):\n",
    "    for j in range(nz):\n",
    "        Kprime_matrix[i, j] = Kprime_grid[i]\n",
    "fig = plt.figure()\n",
    "ax = fig.add_subplot(111, projection='3d')\n",
    "ax.plot_surface(Kprime_matrix, Z_matrix, np_h_new_func(M_matrix, Z_matrix), cmap='viridis')\n",
    "ax.set_xlabel('K')\n",
    "ax.set_ylabel('Z')\n",
    "ax.set_zlabel('c')\n",
    "plt.show()\n",
    "print(loop)\n",
    "print(diff)"
   ]
  },
  {
   "cell_type": "markdown",
   "metadata": {},
   "source": [
    "### z の値を固定した政策関数の二次元プロット"
   ]
  },
  {
   "cell_type": "code",
   "execution_count": null,
   "metadata": {},
   "outputs": [],
   "source": [
    "# Z_grid の要素ごとに 縦軸 np_h_new_func(K_grid, Z)を同じグラフにプロット\n",
    "for j in range(nz):\n",
    "    Z_repeat = np.repeat(Z_grid[j], nk)\n",
    "    C = np.zeros((nz, nk))\n",
    "    C[j, :] = np_h_new_func(Kprime_grid, Z_repeat)\n",
    "    plt.plot(Kprime_grid, C[j,:], label=f'Z = {Z_grid[j]}')\n",
    "plt.xlabel('K')\n",
    "plt.ylabel('c')\n",
    "plt.title('h(k, z_constant)')\n",
    "plt.legend()\n",
    "plt.show()"
   ]
  },
  {
   "cell_type": "markdown",
   "metadata": {},
   "source": [
    "### Kprime と K のプロット"
   ]
  },
  {
   "cell_type": "code",
   "execution_count": null,
   "metadata": {},
   "outputs": [],
   "source": [
    "K = np.copy(Kprime_grid)\n",
    "z = 0.25 # 0.25 に固定\n",
    "m_grid = np.zeros(nk)\n",
    "for i in range(nk):\n",
    "    m_grid[i] = f_tilde(K[i], z)\n",
    "c_grid = np_h_new_func(m_grid, z)\n",
    "kprime_grid = m_grid - c_grid\n",
    "\n",
    "plt.plot(K, kprime_grid)\n",
    "plt.xlabel('K')\n",
    "plt.ylabel('Kprime')\n",
    "plt.title('Policy Function')\n",
    "plt.show()"
   ]
  },
  {
   "cell_type": "markdown",
   "metadata": {},
   "source": [
    "### $Z_t$ の流列を生成し、$K, C$の流列をシミュレーション"
   ]
  },
  {
   "cell_type": "code",
   "execution_count": null,
   "metadata": {},
   "outputs": [],
   "source": [
    "# 確率的シミュレーション\n",
    "T = 100\n",
    "# 0-100まで\n",
    "T_series = np.linspace(0, T, T)\n",
    "K_path = np.zeros(T)\n",
    "Z_path = np.zeros(T)\n",
    "C_path = np.zeros(T)\n",
    "K_path[0] = 1.0\n",
    "\n",
    "# Z_gridから Z_pathの値をランダムに生成\n",
    "for t in range(T):\n",
    "  Z_path[t] = Z_grid[np.random.choice(nz)]\n",
    "\n",
    "for t in range(1, T):\n",
    "  C_path[t-1] = h_new_func(f_tilde(K_path[t-1],Z_path[t-1]), Z_path[t-1])\n",
    "  K_path[t] = f_tilde(K_path[t-1], Z_path[t-1]) - C_path[t]\n",
    "\n",
    "# K_path, C_path, Z_path を T_series を横軸に3つ縦に並べてプロット\n",
    "# グラフの描画領域\n",
    "fig = plt.figure()\n",
    "# サブプロットの追加\n",
    "ax1 = fig.add_subplot(3, 1, 1)\n",
    "ax2 = fig.add_subplot(3, 1, 2)\n",
    "ax3 = fig.add_subplot(3, 1, 3)\n",
    "# プロット\n",
    "ax1.plot(T_series, K_path, label='K')\n",
    "ax2.plot(T_series, C_path, label='C')\n",
    "ax3.plot(T_series, Z_path, label='Z')\n",
    "# ラベル\n",
    "ax1.set_ylabel('K')\n",
    "ax2.set_ylabel('C')\n",
    "ax3.set_ylabel('Z')\n",
    "# タイトル\n",
    "ax1.set_title('K_path')\n",
    "ax2.set_title('C_path')\n",
    "ax3.set_title('Z_path')\n",
    "fig.tight_layout()\n",
    "plt.xlabel('T')\n",
    "plt.show()"
   ]
  },
  {
   "cell_type": "markdown",
   "metadata": {},
   "source": [
    "### リセット"
   ]
  },
  {
   "cell_type": "code",
   "execution_count": 150,
   "metadata": {},
   "outputs": [],
   "source": [
    "%reset -f"
   ]
  },
  {
   "cell_type": "code",
   "execution_count": null,
   "metadata": {},
   "outputs": [],
   "source": []
  }
 ],
 "metadata": {
  "kernelspec": {
   "display_name": "quant-macro-workshop-bUjjWVNQ-py3.12",
   "language": "python",
   "name": "python3"
  },
  "language_info": {
   "codemirror_mode": {
    "name": "ipython",
    "version": 3
   },
   "file_extension": ".py",
   "mimetype": "text/x-python",
   "name": "python",
   "nbconvert_exporter": "python",
   "pygments_lexer": "ipython3",
   "version": "3.12.6"
  }
 },
 "nbformat": 4,
 "nbformat_minor": 2
}
