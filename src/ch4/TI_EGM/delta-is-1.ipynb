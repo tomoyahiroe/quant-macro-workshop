{
 "cells": [
  {
   "cell_type": "markdown",
   "metadata": {},
   "source": [
    "# 4章 4.2 EGM を用いた TI の準コード（$\\delta = 1.0$）"
   ]
  },
  {
   "cell_type": "code",
   "execution_count": 1,
   "metadata": {},
   "outputs": [],
   "source": [
    "# パッケージのインポート\n",
    "\n",
    "import numpy as np\n",
    "import numpy.typing as npt\n",
    "import matplotlib.pyplot as plt\n",
    "import pandas as pd\n",
    "from scipy.optimize import leastsq\n",
    "import numpy as np\n",
    "from numpy.polynomial.chebyshev import Chebyshev"
   ]
  },
  {
   "cell_type": "markdown",
   "metadata": {},
   "source": [
    "### 1. パラメータをカリブレーション"
   ]
  },
  {
   "cell_type": "code",
   "execution_count": 2,
   "metadata": {},
   "outputs": [],
   "source": [
    "# パラメータをカリブレーション\n",
    "beta = 0.96\n",
    "gamma = 1.0\n",
    "alpha = 0.4\n",
    "delta = 1.0"
   ]
  },
  {
   "cell_type": "markdown",
   "metadata": {},
   "source": [
    "### 2. 収束の基準を定義"
   ]
  },
  {
   "cell_type": "code",
   "execution_count": 3,
   "metadata": {},
   "outputs": [],
   "source": [
    "# 収束の基準を定義\n",
    "epsilon = 1e-5"
   ]
  },
  {
   "cell_type": "markdown",
   "metadata": {},
   "source": [
    "### 3. 制御変数のグリッドを生成\n",
    "\n",
    "- $\\{ k^\\prime \\}_{i = 1}^N, \\;\\; N = 21$\n",
    "- $k_1^\\prime = 0, k_{21}^\\prime = 0.5$"
   ]
  },
  {
   "cell_type": "code",
   "execution_count": 4,
   "metadata": {},
   "outputs": [
    {
     "name": "stdout",
     "output_type": "stream",
     "text": [
      "[0.025 0.05  0.075 0.1   0.125 0.15  0.175 0.2   0.225 0.25  0.275 0.3\n",
      " 0.325 0.35  0.375 0.4   0.425 0.45  0.475 0.5  ]\n"
     ]
    }
   ],
   "source": [
    "# 制御変数のグリッドを生成\n",
    "kprime_grid = np.linspace(0.025, 0.5, 20)\n",
    "print(kprime_grid)"
   ]
  },
  {
   "cell_type": "markdown",
   "metadata": {},
   "source": [
    "### 4. $k_i^\\prime$ に対応する $c_i^\\prime$ を当て推量する\n",
    "\n",
    "- 政策関数 $c_i^\\prime = h^{(0)}(k^\\prime)$\n",
    "- 初期値は次期の資本 $k^\\prime$ のグリッド * 0.8の値とする"
   ]
  },
  {
   "cell_type": "code",
   "execution_count": 5,
   "metadata": {},
   "outputs": [
    {
     "name": "stdout",
     "output_type": "stream",
     "text": [
      "[0.02 0.04 0.06 0.08 0.1  0.12 0.14 0.16 0.18 0.2  0.22 0.24 0.26 0.28\n",
      " 0.3  0.32 0.34 0.36 0.38 0.4 ]\n"
     ]
    }
   ],
   "source": [
    "# 政策関数の初期値を当て推量\n",
    "h_old_discrete = kprime_grid * 0.8\n",
    "print(h_old_discrete)"
   ]
  },
  {
   "cell_type": "markdown",
   "metadata": {},
   "source": [
    "### 5. 古い政策関数 $h^{(n-1)}(k^\\prime)$ を所与として，各 $k_i^\\prime$ について ($c_i,\\;k_i$)の組を求める\n",
    "\n",
    "  - $c_i = u^{\\prime -1}(\\beta u^\\prime(h(k_i^\\prime))\\tilde{f}(k_i^\\prime))$ から，$c_i$ を得る\n",
    "  - 求めた$c_i$ と $c_i + k_i^\\prime = \\tilde{f}(k_i) \\Rightarrow k_i = \\tilde{f}^{-1}(c_i + k_i^\\prime)$ から$k_i$ を得る"
   ]
  },
  {
   "cell_type": "code",
   "execution_count": 135,
   "metadata": {},
   "outputs": [],
   "source": [
    "# 5. 古い政策関数を所与として，各グリッドについて今期の消費と貯蓄の組を求める\n",
    "def compute_h_new_discrete(h_old_discrete: npt.NDArray[np.float64], \n",
    "                            kprime_grid: npt.NDArray[np.float64]\n",
    "                            ):\n",
    "    # 求める政策関数の値を格納する配列\n",
    "    c_grid = np.zeros_like(kprime_grid)\n",
    "    k_grid = np.zeros_like(kprime_grid)\n",
    "\n",
    "    # 計算で使用する関数を定義\n",
    "    def mu_reverse(mu: float): # 限界効用関数の逆関数\n",
    "        return 1.0 / mu\n",
    "    def mu(c: float): # 限界効用関数\n",
    "        return 1.0 / c\n",
    "    def mf_tilde(k: float): # 限界生産関数\n",
    "        return alpha * k ** (alpha - 1)\n",
    "    def f_tilde_reverse(f_tilde: float): # 生産関数の逆関数\n",
    "        return f_tilde ** (1 / alpha)\n",
    "    \n",
    "    # 各グリッドについて今期の消費と貯蓄の組を求める\n",
    "    for i, kprime in enumerate(kprime_grid):\n",
    "        \n",
    "        cprime = h_old_discrete[i] \n",
    "        c_grid[i] = mu_reverse(beta * mu(cprime) * mf_tilde(kprime))\n",
    "        k_grid[i] = f_tilde_reverse(c_grid[i] + kprime)\n",
    "\n",
    "    return c_grid, k_grid"
   ]
  },
  {
   "cell_type": "markdown",
   "metadata": {},
   "source": [
    "### 6. チェビシェフ多項式を用いて補間することで，連続な新しい政策関数を得る"
   ]
  },
  {
   "cell_type": "code",
   "execution_count": 159,
   "metadata": {},
   "outputs": [],
   "source": [
    "# 6. 新しい政策関数を表す消費と貯蓄の組みの配列をチェビシェフ多項式を\n",
    "# 用いて補間することで，連続な新しい政策関数 c = h^(n)(k) を得る\n",
    "\n",
    "def compute_h_new_continuous(c_grid, k_grid):\n",
    "    # k_gridに対してチェビシェフ多項式のフィッティングを行う\n",
    "    cheb_fit = Chebyshev.fit(k_grid, c_grid, deg=16) # 次数は適当に10とした\n",
    "    \n",
    "    # 新しいkの入力に対して連続的な政策関数h^(n)(k)を評価する関数を返す\n",
    "    def h_new(k):\n",
    "        return cheb_fit(k)\n",
    "    \n",
    "    return h_new\n"
   ]
  },
  {
   "cell_type": "markdown",
   "metadata": {},
   "source": [
    "### $6^\\prime$ スプライン補間を用いて補間することで，連続な新しい政策関数を得る"
   ]
  },
  {
   "cell_type": "code",
   "execution_count": 137,
   "metadata": {},
   "outputs": [],
   "source": [
    "from scipy.interpolate import interp1d\n",
    "\n",
    "def sp_compute_h_new_continuous(c_grid, k_grid):\n",
    "    # 線形補間を使用\n",
    "    interpolator = interp1d(k_grid, c_grid, kind='cubic')\n",
    "    \n",
    "    def h_new(k):\n",
    "        return interpolator(k)\n",
    "    \n",
    "    return h_new\n"
   ]
  },
  {
   "cell_type": "markdown",
   "metadata": {},
   "source": [
    "### 7. 新しい政策関数と古い政策関数を比較し収束を判定, 収束しない場合は 5,6を繰り返す"
   ]
  },
  {
   "cell_type": "code",
   "execution_count": 160,
   "metadata": {},
   "outputs": [
    {
     "name": "stdout",
     "output_type": "stream",
     "text": [
      "loop: 1\n",
      "diff: 0.21416628062725068\n",
      "loop: 2\n",
      "diff: 0.6138398256152868\n",
      "loop: 3\n",
      "diff: 36.3693544305861\n",
      "loop: 4\n",
      "diff: 35.957133028656244\n",
      "loop: 5\n",
      "diff: 0.032903959724876586\n",
      "loop: 6\n",
      "diff: 0.009589350666942664\n",
      "loop: 7\n",
      "diff: 0.0040241066019746086\n",
      "loop: 8\n",
      "diff: 0.0015077042745019753\n",
      "loop: 9\n",
      "diff: 0.0005166986489655301\n",
      "loop: 10\n",
      "diff: 0.000177063791738874\n",
      "loop: 11\n",
      "diff: 6.27045623673439e-05\n",
      "loop: 12\n",
      "diff: 2.279802993143676e-05\n",
      "loop: 13\n",
      "diff: 8.400536671615555e-06\n"
     ]
    },
    {
     "name": "stderr",
     "output_type": "stream",
     "text": [
      "/Users/hiroetomokana/Library/Caches/pypoetry/virtualenvs/quant-macro-workshop-bUjjWVNQ-py3.12/lib/python3.12/site-packages/numpy/polynomial/chebyshev.py:1671: RankWarning: The fit may be poorly conditioned\n",
      "  return pu._fit(chebvander, x, y, deg, rcond, full, w)\n",
      "/Users/hiroetomokana/Library/Caches/pypoetry/virtualenvs/quant-macro-workshop-bUjjWVNQ-py3.12/lib/python3.12/site-packages/numpy/polynomial/chebyshev.py:1671: RankWarning: The fit may be poorly conditioned\n",
      "  return pu._fit(chebvander, x, y, deg, rcond, full, w)\n"
     ]
    }
   ],
   "source": [
    "diff = 1e-5 + 1.0\n",
    "loop = 0\n",
    "h_old_discrete = kprime_grid\n",
    "while diff > epsilon:\n",
    "    loop += 1\n",
    "    print(f\"loop: {loop}\")\n",
    "    \n",
    "    # 5. 古い政策関数を所与として，各グリッドについて今期の消費と貯蓄の組を求める\n",
    "    c_grid, k_grid = compute_h_new_discrete(h_old_discrete, kprime_grid)\n",
    "    # print(\"c_grid: \", c_grid)\n",
    "    # print(\"k_grid: \", k_grid)\n",
    "\n",
    "    # 6. 新しい政策関数を表す消費と貯蓄の組みの配列をチェビシェフ多項式を\n",
    "    # 用いて補間することで，連続な新しい政策関数 c = h^(n)(k) を得る\n",
    "    h_new_continuous = compute_h_new_continuous(c_grid, k_grid)\n",
    "\n",
    "    np_h_new_continuous = np.frompyfunc(h_new_continuous, 1, 1)\n",
    "    \n",
    "    # 7. 収束の基準を満たしているか確認\n",
    "    # cprime_grid = np_h_new_continuous(kprime_grid)\n",
    "    # print(f\"cprime_grid: {cprime_grid}\")\n",
    "    diffs = h_old_discrete - np_h_new_continuous(kprime_grid)\n",
    "    abc_diffs = np.abs(diffs)\n",
    "    diff = np.max(abc_diffs)\n",
    "    print(f\"diff: {diff}\")\n",
    "    h_old_discrete = h_new_continuous(kprime_grid)"
   ]
  },
  {
   "cell_type": "code",
   "execution_count": 129,
   "metadata": {},
   "outputs": [],
   "source": [
    "# %reset -f"
   ]
  },
  {
   "cell_type": "code",
   "execution_count": 161,
   "metadata": {},
   "outputs": [
    {
     "name": "stdout",
     "output_type": "stream",
     "text": [
      "13\n",
      "[0.1435989  0.18529991 0.21708944 0.24567856 0.26931548 0.28833038\n",
      " 0.30493377 0.32110336 0.33748691 0.35356701 0.36844396 0.38157395\n",
      " 0.39309954 0.40373002 0.41434021 0.42552984 0.43734704 0.44927741\n",
      " 0.46048417 0.47019258]\n"
     ]
    }
   ],
   "source": [
    "print(loop)\n",
    "print(h_old_discrete)"
   ]
  },
  {
   "cell_type": "code",
   "execution_count": 163,
   "metadata": {},
   "outputs": [
    {
     "data": {
      "image/png": "[encoded data removed]",
      "text/plain": [
       "<Figure size 640x480 with 1 Axes>"
      ]
     },
     "metadata": {},
     "output_type": "display_data"
    }
   ],
   "source": [
    "# k_gridを横軸にkprime_gridを縦軸にプロット, ラベルもつける, 45度線を引く. 縦軸の上限を0.5にする\n",
    "k_grid =  (h_old_discrete + kprime_grid) ** (1 / alpha) \n",
    "plt.plot(k_grid, kprime_grid)\n",
    "plt.plot(kprime_grid, kprime_grid, linestyle=\"--\")\n",
    "plt.xlabel(\"k\")\n",
    "plt.ylabel(\"k'\")\n",
    "plt.xlim(0, 0.5)\n",
    "plt.ylim(0, 0.5)\n",
    "plt.show()"
   ]
  }
 ],
 "metadata": {
  "kernelspec": {
   "display_name": "quant-macro-workshop-bUjjWVNQ-py3.12",
   "language": "python",
   "name": "python3"
  },
  "language_info": {
   "codemirror_mode": {
    "name": "ipython",
    "version": 3
   },
   "file_extension": ".py",
   "mimetype": "text/x-python",
   "name": "python",
   "nbconvert_exporter": "python",
   "pygments_lexer": "ipython3",
   "version": "3.12.6"
  }
 },
 "nbformat": 4,
 "nbformat_minor": 2
}
