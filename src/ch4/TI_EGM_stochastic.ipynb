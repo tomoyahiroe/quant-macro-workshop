{
 "cells": [
  {
   "cell_type": "markdown",
   "metadata": {},
   "source": [
    "# 4章 4.2 EGM を用いた TI の準コード"
   ]
  },
  {
   "cell_type": "code",
   "execution_count": 487,
   "metadata": {},
   "outputs": [],
   "source": [
    "# パッケージのインポート\n",
    "\n",
    "import numpy as np\n",
    "import numpy.typing as npt\n",
    "from numpy.polynomial.chebyshev import Chebyshev\n",
    "import matplotlib.pyplot as plt\n",
    "import math\n",
    "from scipy.stats import norm"
   ]
  },
  {
   "cell_type": "markdown",
   "metadata": {},
   "source": [
    "### 1. パラメータをカリブレーション"
   ]
  },
  {
   "cell_type": "code",
   "execution_count": 488,
   "metadata": {},
   "outputs": [],
   "source": [
    "# パラメータをカリブレーション\n",
    "beta = 0.96\n",
    "gamma = 1.0\n",
    "alpha = 0.4 # 1を割った時に正数となる値にすると f_tildeで複素数を回避できる\n",
    "delta = 1.0"
   ]
  },
  {
   "cell_type": "markdown",
   "metadata": {},
   "source": [
    "### 2. 収束の基準を定義"
   ]
  },
  {
   "cell_type": "code",
   "execution_count": 489,
   "metadata": {},
   "outputs": [],
   "source": [
    "# 収束の基準を定義\n",
    "epsilon = 1e-5"
   ]
  },
  {
   "cell_type": "markdown",
   "metadata": {},
   "source": [
    "### 3. 制御変数のグリッドを生成\n",
    "\n",
    "- $\\{ k^\\prime \\}_{i = 1}^N, \\;\\; N = 21$\n",
    "- $k_1^\\prime = 0, k_{21}^\\prime = 0.5$"
   ]
  },
  {
   "cell_type": "code",
   "execution_count": 497,
   "metadata": {},
   "outputs": [
    {
     "name": "stdout",
     "output_type": "stream",
     "text": [
      "[0.25 0.5  0.75 1.   1.25 1.5  1.75 2.   2.25 2.5  2.75 3.   3.25 3.5\n",
      " 3.75 4.   4.25 4.5  4.75 5.  ]\n"
     ]
    }
   ],
   "source": [
    "# 制御変数のグリッドを生成\n",
    "nk = 20\n",
    "Kprime_grid = np.linspace(0.25, 5.0, nk)\n",
    "print(Kprime_grid)"
   ]
  },
  {
   "cell_type": "markdown",
   "metadata": {},
   "source": [
    "### 4. 確率変数$z$のグリッド$\\{ z_j \\}_{j = 1}^N$を生成（Tauchenの方法）"
   ]
  },
  {
   "cell_type": "code",
   "execution_count": null,
   "metadata": {},
   "outputs": [],
   "source": [
    "# パラメータの値は教科書に則ったもの\n",
    "nz = 12 # 0を避けるために12に設定\n",
    "rho = 0.95\n",
    "sigma = 0.01\n",
    "m = 2.575\n",
    "Z_max = m * sigma / math.sqrt(1 - rho**2)\n",
    "Z_grid = np.linspace(-Z_max, Z_max, nz)\n",
    "print(Z_grid)"
   ]
  },
  {
   "cell_type": "markdown",
   "metadata": {},
   "source": [
    "### 4. 確率変数のグリッド$\\{z_j\\}^2_{j = 1}$を生成（$z_{high},z_{low}$）"
   ]
  },
  {
   "cell_type": "code",
   "execution_count": 498,
   "metadata": {},
   "outputs": [],
   "source": [
    "nz = 4\n",
    "Z_grid = np.zeros(nz)\n",
    "Z_grid = np.array([-0.5, -0.25, 0.25, 0.5])"
   ]
  },
  {
   "cell_type": "markdown",
   "metadata": {},
   "source": [
    "### 5. $N_z \\times N_z$の遷移確率行列を定義（Tauchenの方法）"
   ]
  },
  {
   "cell_type": "code",
   "execution_count": null,
   "metadata": {},
   "outputs": [],
   "source": [
    "# Tauchenの方法\n",
    "d = 2 * Z_max / (nz - 1)\n",
    "P = np.zeros((nz, nz))\n",
    "for i in range(nz):\n",
    "    for j in range(nz):\n",
    "        if j == 0:\n",
    "            P[i, j] = norm.cdf(Z_grid[j] + d / 2 - rho * Z_grid[i], loc = 0, scale = sigma)\n",
    "        elif j == nz:\n",
    "            P[i, j] = 1 - norm.cdf(Z_grid[j] - d / 2 - rho * Z_grid[i], loc = 0, scale = sigma)\n",
    "        else:\n",
    "            P[i, j] = norm.cdf(Z_grid[j] + d /2 - rho * Z_grid[i], sigma) - norm.cdf(Z_grid[j] - d / 2 - rho * Z_grid[i], loc = 0, scale = sigma)\n",
    "# np.printoptions(precision = 5)\n",
    "print(P)"
   ]
  },
  {
   "cell_type": "markdown",
   "metadata": {},
   "source": [
    "### 5. $N_z \\times N_z$の遷移確率行列を定義, "
   ]
  },
  {
   "cell_type": "code",
   "execution_count": 499,
   "metadata": {},
   "outputs": [],
   "source": [
    "# 0.8 0.6 0.4 0.2 からなる遷移確率行列 4x4\n",
    "P = np.array([[0.6, 0.3, 0.1, 0.0], [0.1, 0.6, 0.2, 0.1], [0.0, 0.1, 0.6, 0.3], [0.2, 0.1, 0.3, 0.6]])"
   ]
  },
  {
   "cell_type": "markdown",
   "metadata": {},
   "source": [
    "### 6. 初期値として政策関数を当て推量 $c_{i, t} = h^{(0)}(k_i^\\prime, z_t)$"
   ]
  },
  {
   "cell_type": "code",
   "execution_count": 500,
   "metadata": {},
   "outputs": [
    {
     "name": "stdout",
     "output_type": "stream",
     "text": [
      "[[0.121 0.156 0.257 0.33 ]\n",
      " [0.243 0.312 0.514 0.659]\n",
      " [0.364 0.467 0.77  0.989]\n",
      " [0.485 0.623 1.027 1.319]\n",
      " [0.607 0.779 1.284 1.649]\n",
      " [0.728 0.935 1.541 1.978]\n",
      " [0.849 1.09  1.798 2.308]\n",
      " [0.97  1.246 2.054 2.638]\n",
      " [1.092 1.402 2.311 2.968]\n",
      " [1.213 1.558 2.568 3.297]\n",
      " [1.334 1.713 2.825 3.627]\n",
      " [1.456 1.869 3.082 3.957]\n",
      " [1.577 2.025 3.338 4.287]\n",
      " [1.698 2.181 3.595 4.616]\n",
      " [1.82  2.336 3.852 4.946]\n",
      " [1.941 2.492 4.109 5.276]\n",
      " [2.062 2.648 4.366 5.606]\n",
      " [2.184 2.804 4.622 5.935]\n",
      " [2.305 2.959 4.879 6.265]\n",
      " [2.426 3.115 5.136 6.595]]\n"
     ]
    }
   ],
   "source": [
    "# 6. 初期値として政策関数を当て推量 $c_{i, t} = h^{(0)}(k_i^\\prime, z_t)$を設定\n",
    "# kprime と z の値に従って, 増加するような c を生成\n",
    "h_old_grid = np.dot(Kprime_grid.reshape(nk, 1),np.exp(Z_grid).reshape(1, nz)) * 0.8\n",
    "np.set_printoptions(precision=3)\n",
    "print(h_old_grid)"
   ]
  },
  {
   "cell_type": "markdown",
   "metadata": {},
   "source": [
    "### 7. 次のステップを収束するまで繰り返す(繰り返し記号：n)\n",
    "   1. 古い政策関数 $h^{(n-1)}(k_i^\\prime)$ を所与として，$\\{k^\\prime_i\\}_{i=1}^{N_k} \\times \\{z_s\\}_{s=1}^{N_z}$ の各グリッドについて\n",
    "   \t\n",
    "      - $c_{i, s} = u^{\\prime -1} ( \\beta \\sum_{t=1}^{N_z} \\{ P_{s,t} u^\\prime(h^{(n-1)}(k^\\prime_i, z_t)) \\times \\tilde{f}^\\prime (k^\\prime_i, z_t)\\} )$\n",
    "      - $c_{i,s} + k^\\prime_i = \\tilde{f}(k_i, z_s) \\Rightarrow k_i = \\tilde{f}^{-1} (c_{i,s} + k^\\prime_i)$"
   ]
  },
  {
   "cell_type": "code",
   "execution_count": 501,
   "metadata": {},
   "outputs": [],
   "source": [
    "# ステップ7の準備（ndarrayが前提）\n",
    "def u_prime(c: float) -> float:\n",
    "    return c**(-gamma)\n",
    "def u_prime_inv(mu: float) -> float:\n",
    "    return mu**(-1/gamma)\n",
    "def f_tilde(k: float, z: float) -> float:\n",
    "    return np.exp(z) * k**alpha\n",
    "def f_tilde_prime(k: float, z: float) -> float:\n",
    "    return alpha * np.exp(z) * k**(alpha - 1)\n",
    "def f_tilde_inv(y: float, z: float) -> float:\n",
    "    result = (y / math.exp(z))**(1 / alpha) \n",
    "    return result\n",
    "\n",
    "def interpolate_cheb(k_matrix,z_list,c_matrix):\n",
    "    \"\"\"チェビシェフ補間を行う関数を返す関数\n",
    "\n",
    "    Args:\n",
    "        k: 計算された k の行列 k[i, j]\n",
    "        z (npt.NDArray): 説明変数 z の配列（離散化された状態の長さ分）\n",
    "        c (npt.NDArray): 目的変数 c の配列\n",
    "    \"\"\"\n",
    "    def interp_func(k,z):\n",
    "        # z_list から zと一致する要素の番号を得る\n",
    "        z_idx = np.where(z_list == z)[0][0]\n",
    "        # k_matrixから k_matrix[i, z_idx]の配列を得る\n",
    "        k_list = k_matrix[:, z_idx]\n",
    "        c_list = c_matrix[:, z_idx]\n",
    "        cheb_fit = Chebyshev.fit(k_list, c_list, deg=8)\n",
    "        \n",
    "        return cheb_fit(k)\n",
    "    \n",
    "    return interp_func"
   ]
  },
  {
   "cell_type": "code",
   "execution_count": 502,
   "metadata": {},
   "outputs": [
    {
     "name": "stdout",
     "output_type": "stream",
     "text": [
      "[[np.float64(1.8966684326289744) np.float64(1.255003611627643)\n",
      "  np.float64(0.8608104964973169) np.float64(0.8150968647945138)]\n",
      " [np.float64(1.900253036483587) np.float64(1.2643423481896132)\n",
      "  np.float64(0.900113755297383) np.float64(0.8904936433953612)]\n",
      " [np.float64(1.9038354915744051) np.float64(1.2736602354262399)\n",
      "  np.float64(0.9389028052510273) np.float64(0.963826011519056)]\n",
      " [np.float64(1.9074157991595122) np.float64(1.2829573178402853)\n",
      "  np.float64(0.9771840503639346) np.float64(1.03514810112359)]\n",
      " [np.float64(1.9109939604964516) np.float64(1.2922336398613972)\n",
      "  np.float64(1.0149638337407882) np.float64(1.1045129589263158)]\n",
      " [np.float64(1.9145699768421771) np.float64(1.3014892458462075)\n",
      "  np.float64(1.0522484380072932) np.float64(1.1719725622692483)]\n",
      " [np.float64(1.9181438494530525) np.float64(1.3107241800784202)\n",
      "  np.float64(1.0890440857302242) np.float64(1.237577834823968)]\n",
      " [np.float64(1.921715579584916) np.float64(1.3199384867688853)\n",
      "  np.float64(1.125356939835422) np.float64(1.3013786621371217)]\n",
      " [np.float64(1.9252851684929837) np.float64(1.3291322100557128)\n",
      "  np.float64(1.1611931040237877) np.float64(1.3634239070175287)]\n",
      " [np.float64(1.9288526174319252) np.float64(1.338305394004328)\n",
      "  np.float64(1.1965586231852825) np.float64(1.4237614247658925)]\n",
      " [np.float64(1.9324179276558269) np.float64(1.3474580826075915)\n",
      "  np.float64(1.2314594838109372) np.float64(1.482438078248144)]\n",
      " [np.float64(1.9359811004182106) np.float64(1.3565903197858518)\n",
      "  np.float64(1.2659016144028339) np.float64(1.5394997528133647)]\n",
      " [np.float64(1.9395421369720154) np.float64(1.365702149387074)\n",
      "  np.float64(1.2998908858821459) np.float64(1.594991371057322)]\n",
      " [np.float64(1.9431010385696261) np.float64(1.374793615186885)\n",
      "  np.float64(1.3334331119951646) np.float64(1.6489569074326091)]\n",
      " [np.float64(1.946657806462838) np.float64(1.383864760888697)\n",
      "  np.float64(1.3665340497173784) np.float64(1.7014394027063542)]\n",
      " [np.float64(1.9502124419028881) np.float64(1.3929156301237686)\n",
      "  np.float64(1.3991993996555667) np.float64(1.7524809782664956)]\n",
      " [np.float64(1.9537649461404278) np.float64(1.401946266451299)\n",
      "  np.float64(1.4314348064479416) np.float64(1.8021228502776117)]\n",
      " [np.float64(1.957315320425547) np.float64(1.4109567133585283)\n",
      "  np.float64(1.4632458591623125) np.float64(1.8504053436872772)]\n",
      " [np.float64(1.9608635660077667) np.float64(1.4199470142608064)\n",
      "  np.float64(1.4946380916923534) np.float64(1.8973679060839315)]\n",
      " [np.float64(1.964409684136033) np.float64(1.4289172125016911)\n",
      "  np.float64(1.5256169831518536) np.float64(1.9430491214071992)]]\n"
     ]
    }
   ],
   "source": [
    "diff = epsilon + 1\n",
    "loop = 0\n",
    "while diff > epsilon:\n",
    "    loop += 1\n",
    "    Gamma = np.zeros((nk, nz)) # オイラー方程式の右辺\n",
    "    C0 = np.zeros((nk, nz))\n",
    "    K = np.zeros((nk, nz))\n",
    "    \n",
    "    for i in range(nk):\n",
    "        for j in range(nz):\n",
    "            for k in range(nz):\n",
    "                Gamma[i, j] += beta * P[j, k] * u_prime(h_old_grid[i, k]) * (f_tilde_prime(Kprime_grid[i], Z_grid[k]))\n",
    "            C0[i, j] = u_prime_inv(Gamma[i, j])\n",
    "            K[i, j] = f_tilde_inv(C0[i, j] + Kprime_grid[i], Z_grid[j])\n",
    "\n",
    "\n",
    "    h_new_func = interpolate_cheb(K, Z_grid, C0)\n",
    "    np_h_new_func = np.frompyfunc(h_new_func, 2, 1)\n",
    "\n",
    "    # # 収束の確認\n",
    "    K_matrix = np.zeros((nk, nz))\n",
    "    for i in range(nk):\n",
    "        K_matrix[i, :] = Kprime_grid[i]\n",
    "    Z_matrix = np.array(list(Z_grid) * nk).reshape(nk, nz)\n",
    "    h_new_grid = np_h_new_func(K_matrix, Z_matrix)\n",
    "    diff = np.max(np.abs(h_new_grid - h_old_grid))\n",
    "    \n",
    "    h_old_grid = h_new_grid\n",
    "\n",
    "print(h_old_grid)"
   ]
  },
  {
   "cell_type": "code",
   "execution_count": 503,
   "metadata": {},
   "outputs": [
    {
     "data": {
      "image/png": "[encoded data removed]",
      "text/plain": [
       "<Figure size 640x480 with 1 Axes>"
      ]
     },
     "metadata": {},
     "output_type": "display_data"
    },
    {
     "name": "stdout",
     "output_type": "stream",
     "text": [
      "21\n",
      "8.658593266375192e-06\n"
     ]
    }
   ],
   "source": [
    "# np_h_new_func を使って三次元プロット\n",
    "fig = plt.figure()\n",
    "ax = fig.add_subplot(111, projection='3d')\n",
    "ax.plot_surface(K_matrix, Z_matrix, np_h_new_func(K_matrix, Z_matrix), cmap='viridis')\n",
    "ax.set_xlabel('K')\n",
    "ax.set_ylabel('Z')\n",
    "ax.set_zlabel('c')\n",
    "plt.show()\n",
    "print(loop)\n",
    "print(diff)"
   ]
  },
  {
   "cell_type": "code",
   "execution_count": 504,
   "metadata": {},
   "outputs": [
    {
     "data": {
      "text/plain": [
       "array([[np.float64(1.8966684326289744), np.float64(1.255003611627643),\n",
       "        np.float64(0.8608104964973169), np.float64(0.8150968647945138)],\n",
       "       [np.float64(1.900253036483587), np.float64(1.2643423481896132),\n",
       "        np.float64(0.900113755297383), np.float64(0.8904936433953612)],\n",
       "       [np.float64(1.9038354915744051), np.float64(1.2736602354262399),\n",
       "        np.float64(0.9389028052510273), np.float64(0.963826011519056)],\n",
       "       [np.float64(1.9074157991595122), np.float64(1.2829573178402853),\n",
       "        np.float64(0.9771840503639346), np.float64(1.03514810112359)],\n",
       "       [np.float64(1.9109939604964516), np.float64(1.2922336398613972),\n",
       "        np.float64(1.0149638337407882), np.float64(1.1045129589263158)],\n",
       "       [np.float64(1.9145699768421771), np.float64(1.3014892458462075),\n",
       "        np.float64(1.0522484380072932), np.float64(1.1719725622692483)],\n",
       "       [np.float64(1.9181438494530525), np.float64(1.3107241800784202),\n",
       "        np.float64(1.0890440857302242), np.float64(1.237577834823968)],\n",
       "       [np.float64(1.921715579584916), np.float64(1.3199384867688853),\n",
       "        np.float64(1.125356939835422), np.float64(1.3013786621371217)],\n",
       "       [np.float64(1.9252851684929837), np.float64(1.3291322100557128),\n",
       "        np.float64(1.1611931040237877), np.float64(1.3634239070175287)],\n",
       "       [np.float64(1.9288526174319252), np.float64(1.338305394004328),\n",
       "        np.float64(1.1965586231852825), np.float64(1.4237614247658925)],\n",
       "       [np.float64(1.9324179276558269), np.float64(1.3474580826075915),\n",
       "        np.float64(1.2314594838109372), np.float64(1.482438078248144)],\n",
       "       [np.float64(1.9359811004182106), np.float64(1.3565903197858518),\n",
       "        np.float64(1.2659016144028339), np.float64(1.5394997528133647)],\n",
       "       [np.float64(1.9395421369720154), np.float64(1.365702149387074),\n",
       "        np.float64(1.2998908858821459), np.float64(1.594991371057322)],\n",
       "       [np.float64(1.9431010385696261), np.float64(1.374793615186885),\n",
       "        np.float64(1.3334331119951646), np.float64(1.6489569074326091)],\n",
       "       [np.float64(1.946657806462838), np.float64(1.383864760888697),\n",
       "        np.float64(1.3665340497173784), np.float64(1.7014394027063542)],\n",
       "       [np.float64(1.9502124419028881), np.float64(1.3929156301237686),\n",
       "        np.float64(1.3991993996555667), np.float64(1.7524809782664956)],\n",
       "       [np.float64(1.9537649461404278), np.float64(1.401946266451299),\n",
       "        np.float64(1.4314348064479416), np.float64(1.8021228502776117)],\n",
       "       [np.float64(1.957315320425547), np.float64(1.4109567133585283),\n",
       "        np.float64(1.4632458591623125), np.float64(1.8504053436872772)],\n",
       "       [np.float64(1.9608635660077667), np.float64(1.4199470142608064),\n",
       "        np.float64(1.4946380916923534), np.float64(1.8973679060839315)],\n",
       "       [np.float64(1.964409684136033), np.float64(1.4289172125016911),\n",
       "        np.float64(1.5256169831518536), np.float64(1.9430491214071992)]],\n",
       "      dtype=object)"
      ]
     },
     "execution_count": 504,
     "metadata": {},
     "output_type": "execute_result"
    }
   ],
   "source": [
    "h_new_grid"
   ]
  },
  {
   "cell_type": "code",
   "execution_count": 486,
   "metadata": {},
   "outputs": [],
   "source": [
    "%reset -f"
   ]
  },
  {
   "cell_type": "code",
   "execution_count": null,
   "metadata": {},
   "outputs": [],
   "source": []
  }
 ],
 "metadata": {
  "kernelspec": {
   "display_name": "quant-macro-workshop-bUjjWVNQ-py3.12",
   "language": "python",
   "name": "python3"
  },
  "language_info": {
   "codemirror_mode": {
    "name": "ipython",
    "version": 3
   },
   "file_extension": ".py",
   "mimetype": "text/x-python",
   "name": "python",
   "nbconvert_exporter": "python",
   "pygments_lexer": "ipython3",
   "version": "3.12.6"
  }
 },
 "nbformat": 4,
 "nbformat_minor": 2
}
