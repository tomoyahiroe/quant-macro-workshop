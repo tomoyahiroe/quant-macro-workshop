{
 "cells": [
  {
   "cell_type": "markdown",
   "metadata": {},
   "source": [
    "# 3章Policy Function Iteration"
   ]
  },
  {
   "cell_type": "markdown",
   "metadata": {},
   "source": [
    "### 0. 準備"
   ]
  },
  {
   "cell_type": "code",
   "execution_count": 338,
   "metadata": {},
   "outputs": [],
   "source": [
    "# ライブラリのインポート\n",
    "# import math\n",
    "import numpy as np\n",
    "from collections.abc import Callable\n",
    "from scipy.optimize import fmin"
   ]
  },
  {
   "cell_type": "code",
   "execution_count": 339,
   "metadata": {},
   "outputs": [],
   "source": [
    "# 使用する関数の定義\n",
    "def output(k, A, alpha):\n",
    "    return A * (k ** alpha)\n",
    "def wealth(k: float, \n",
    "            A:float, \n",
    "            alpha: float, \n",
    "            delta: float,\n",
    "            output: Callable[[float, float, float], float]):\n",
    "    return output(k, A, alpha) + (1 - delta) * k\n",
    "def utility(c: float, gamma: float):\n",
    "    if c < 0:\n",
    "        return - 10**5 + c # 消費が負の場合のペナルティ\n",
    "    if gamma == 1:\n",
    "        return np.log(c)\n",
    "    else: \n",
    "        return (c ** (1 - gamma)) / (1 - gamma)\n",
    "\n",
    "# 新しい価値関数のグリッドを計算する関数\n",
    "def calc_vf_new(k_grid, pf_kprime_grid, A, P, alpha, delta, output, gamma, beta, vf_old): \n",
    "    vf_new = np.zeros((k_grid.size, A.size))\n",
    "    for i, K in enumerate(k_grid):\n",
    "        for l, a in enumerate(A):\n",
    "            C = wealth(K, a, alpha, delta, output) - pf_kprime_grid[i, l]\n",
    "            for k in range(len(A)):\n",
    "                expected_vf_old =+ P[l, k] * vf_old[i, k]\n",
    "            vf_new[i, l] =+ utility(C, gamma) + beta * expected_vf_old\n",
    "    return vf_new\n",
    "\n",
    "# 価値関数の補間する関数\n",
    "def vf_interp(k_grid, A, vf_grid): \n",
    "    def vf(k, a):\n",
    "        A_index = np.where(A == a)[0][0]\n",
    "        cheb_fit = np.polynomial.Chebyshev.fit(k_grid, vf_grid[:, A_index], deg = 16)\n",
    "        return cheb_fit(k)\n",
    "    return vf\n",
    "\n",
    "# ベルマン方程式の右辺\n",
    "def rhs_bellman(kprime_star, k ,a, A, P, alpha, beta, gamma, delta, # 変数とパラメータ\n",
    "                utility, output, wealth, vf): # 必要な関数\n",
    "    C = wealth(k, a, alpha, delta, output) - kprime_star\n",
    "    if C < 0:\n",
    "        rhs = - 10**5 + C\n",
    "    else:\n",
    "        A_index = np.where(A == a)[0][0]\n",
    "        for k, aprime in enumerate(A):\n",
    "            expected_vf =+ P[A_index, k] * vf(kprime_star, aprime)\n",
    "        rhs = utility(C, gamma) + beta * expected_vf\n",
    "    return - rhs\n",
    "# 連続な価値関数 vf を使用してベルマン方程式の右辺を最大化する pf_kprime_grid を計算する関数\n",
    "def optimize_pf(k_grid, A, P, alpha, beta, gamma, delta, # 変数とパラメータ\n",
    "                utility, output, wealth, vf, rhs_bellman): # 必要な関数\n",
    "    pf_kprime_grid = np.zeros((k_grid.size, A.size))\n",
    "    for i, k in enumerate(k_grid): # 政策関数を求める\n",
    "        for l, a in enumerate(A):\n",
    "            pf_kprime_grid[i, l] = fmin(rhs_bellman, \n",
    "                                    x0 = k_grid[i], \n",
    "                                    args = (k, a, A, P, alpha, beta, gamma, delta,\n",
    "                                            utility, output, wealth, vf), \n",
    "                                    disp = 0)[0]\n",
    "    return pf_kprime_grid"
   ]
  },
  {
   "cell_type": "markdown",
   "metadata": {},
   "source": [
    "### 1. グリッド生成"
   ]
  },
  {
   "cell_type": "code",
   "execution_count": 340,
   "metadata": {},
   "outputs": [
    {
     "name": "stdout",
     "output_type": "stream",
     "text": [
      "[0.025   0.04875 0.0725  0.09625 0.12    0.14375 0.1675  0.19125 0.215\n",
      " 0.23875 0.2625  0.28625 0.31    0.33375 0.3575  0.38125 0.405   0.42875\n",
      " 0.4525  0.47625 0.5    ]\n"
     ]
    }
   ],
   "source": [
    "nk = 21\n",
    "k_grid = np.linspace(0.025, 0.5, 21)\n",
    "print(k_grid)"
   ]
  },
  {
   "cell_type": "markdown",
   "metadata": {},
   "source": [
    "### 2. カリブレーションしたパラメータの値を設定"
   ]
  },
  {
   "cell_type": "code",
   "execution_count": 341,
   "metadata": {},
   "outputs": [],
   "source": [
    "beta = 0.96\n",
    "gamma = 1.0\n",
    "alpha = 0.4\n",
    "delta = 1.0"
   ]
  },
  {
   "cell_type": "markdown",
   "metadata": {},
   "source": [
    "### 3. 収束の基準を与える"
   ]
  },
  {
   "cell_type": "code",
   "execution_count": 342,
   "metadata": {},
   "outputs": [],
   "source": [
    "epsilon = 1e-5"
   ]
  },
  {
   "cell_type": "markdown",
   "metadata": {},
   "source": [
    "### 4. 確率変数 $A = \\{A_{good}, A_{bad}\\}$を定義"
   ]
  },
  {
   "cell_type": "code",
   "execution_count": 343,
   "metadata": {},
   "outputs": [
    {
     "name": "stdout",
     "output_type": "stream",
     "text": [
      "[1.01 0.99]\n"
     ]
    }
   ],
   "source": [
    "A = np.array([1.01, 0.99])\n",
    "print(A)"
   ]
  },
  {
   "cell_type": "markdown",
   "metadata": {},
   "source": [
    "### 5. 遷移確率行列 $P$を定義"
   ]
  },
  {
   "cell_type": "code",
   "execution_count": 344,
   "metadata": {},
   "outputs": [
    {
     "name": "stdout",
     "output_type": "stream",
     "text": [
      "[[0.875 0.125]\n",
      " [0.125 0.875]]\n"
     ]
    }
   ],
   "source": [
    "P = np.array([[0.875, 0.125], [0.125, 0.875]])\n",
    "print(P)"
   ]
  },
  {
   "cell_type": "markdown",
   "metadata": {},
   "source": [
    "### 6. 政策関数の初期値をguess\n",
    "\n",
    "- 今回は富の関数の半分の値とする"
   ]
  },
  {
   "cell_type": "code",
   "execution_count": 345,
   "metadata": {},
   "outputs": [
    {
     "name": "stdout",
     "output_type": "stream",
     "text": [
      "[[0.11546953 0.113183  ]\n",
      " [0.15082774 0.14784105]\n",
      " [0.17677733 0.17327679]\n",
      " [0.19799384 0.19407317]\n",
      " [0.21625386 0.21197161]\n",
      " [0.23245266 0.22784964]\n",
      " [0.24711397 0.24222063]\n",
      " [0.26057453 0.25541463]\n",
      " [0.27306546 0.26765822]\n",
      " [0.28475328 0.2791146 ]\n",
      " [0.2957625  0.28990581]\n",
      " [0.30618899 0.30012585]\n",
      " [0.31610841 0.30984884]\n",
      " [0.32558163 0.31913447]\n",
      " [0.33465845 0.32803155]\n",
      " [0.34338026 0.33658065]\n",
      " [0.35178182 0.34481584]\n",
      " [0.35989269 0.35276611]\n",
      " [0.36773826 0.36045631]\n",
      " [0.37534045 0.36790797]\n",
      " [0.38271843 0.37513985]]\n"
     ]
    }
   ],
   "source": [
    "kprime_grid = np.zeros((k_grid.size, A.size))\n",
    "for i, k in enumerate(k_grid):\n",
    "    for l, a in enumerate(A):\n",
    "        kprime_grid[i, l] = wealth(k, a, alpha, delta, output) /2\n",
    "print(kprime_grid)"
   ]
  },
  {
   "cell_type": "markdown",
   "metadata": {},
   "source": [
    "### 7. 当て推量した政策関数を用いて価値関数を計算する"
   ]
  },
  {
   "cell_type": "code",
   "execution_count": 346,
   "metadata": {},
   "outputs": [
    {
     "name": "stdout",
     "output_type": "stream",
     "text": [
      "iteration: 1, diff: 0.4413933605487257\n"
     ]
    },
    {
     "name": "stderr",
     "output_type": "stream",
     "text": [
      "/Users/hiroetomokana/Library/Caches/pypoetry/virtualenvs/quant-macro-workshop-bUjjWVNQ-py3.12/lib/python3.12/site-packages/numpy/polynomial/chebyshev.py:1175: RuntimeWarning: overflow encountered in multiply\n",
      "  return c0 + c1*x\n"
     ]
    },
    {
     "name": "stdout",
     "output_type": "stream",
     "text": [
      "iteration: 2, diff: 43.62716045850465\n",
      "iteration: 3, diff: 67.38411175683268\n",
      "iteration: 4, diff: 67.0964296843809\n",
      "iteration: 5, diff: 43.87718197601647\n",
      "iteration: 6, diff: 43.88527644230106\n",
      "iteration: 7, diff: 43.88527644230102\n",
      "iteration: 8, diff: 43.60554953609548\n",
      "iteration: 9, diff: 43.951804432150624\n",
      "iteration: 10, diff: 43.88477105686454\n",
      "iteration: 11, diff: 43.88477105686456\n",
      "iteration: 12, diff: 43.60554953609548\n",
      "iteration: 13, diff: 43.70691439337696\n",
      "iteration: 14, diff: 43.706914393376955\n",
      "iteration: 15, diff: 66.30122960765807\n",
      "iteration: 16, diff: 44.17220053234624\n",
      "iteration: 17, diff: 44.17220053234626\n",
      "iteration: 18, diff: 43.941484341038525\n",
      "iteration: 19, diff: 44.17164504350441\n",
      "iteration: 20, diff: 0.9358169838221044\n",
      "iteration: 21, diff: 22.903073453381523\n",
      "iteration: 22, diff: 64.76409290771039\n",
      "iteration: 23, diff: 43.352709650365554\n",
      "iteration: 24, diff: 66.23779465183046\n",
      "iteration: 25, diff: 66.23779465183044\n",
      "iteration: 26, diff: 44.172453129316324\n",
      "iteration: 27, diff: 43.88477105686456\n",
      "iteration: 28, diff: 43.60878901554826\n",
      "iteration: 29, diff: 43.70691439337696\n",
      "iteration: 30, diff: 43.706914393376955\n",
      "iteration: 31, diff: 66.30122960765807\n",
      "iteration: 32, diff: 44.17220053234624\n",
      "iteration: 33, diff: 44.17220053234626\n",
      "iteration: 34, diff: 43.941484341038525\n",
      "iteration: 35, diff: 44.17164504350441\n",
      "iteration: 36, diff: 0.9358169838221044\n",
      "iteration: 37, diff: 22.903073453381523\n",
      "iteration: 38, diff: 64.76409290771039\n",
      "iteration: 39, diff: 43.352709650365554\n",
      "iteration: 40, diff: 66.23779465183046\n",
      "iteration: 41, diff: 66.23779465183044\n",
      "iteration: 42, diff: 44.172453129316324\n",
      "iteration: 43, diff: 43.88477105686456\n",
      "iteration: 44, diff: 43.60878901554826\n",
      "iteration: 45, diff: 43.70691439337696\n",
      "iteration: 46, diff: 43.706914393376955\n",
      "iteration: 47, diff: 66.30122960765807\n",
      "iteration: 48, diff: 44.17220053234624\n",
      "iteration: 49, diff: 44.17220053234626\n",
      "iteration: 50, diff: 43.941484341038525\n",
      "iteration: 51, diff: 44.17164504350441\n",
      "iteration: 52, diff: 0.9358169838221044\n",
      "iteration: 53, diff: 22.903073453381523\n",
      "iteration: 54, diff: 64.76409290771039\n",
      "iteration: 55, diff: 43.352709650365554\n",
      "iteration: 56, diff: 66.23779465183046\n",
      "iteration: 57, diff: 66.23779465183044\n",
      "iteration: 58, diff: 44.172453129316324\n",
      "iteration: 59, diff: 43.88477105686456\n",
      "iteration: 60, diff: 43.60878901554826\n",
      "iteration: 61, diff: 43.70691439337696\n",
      "iteration: 62, diff: 43.706914393376955\n",
      "iteration: 63, diff: 66.30122960765807\n",
      "iteration: 64, diff: 44.17220053234624\n",
      "iteration: 65, diff: 44.17220053234626\n"
     ]
    },
    {
     "ename": "KeyboardInterrupt",
     "evalue": "",
     "output_type": "error",
     "traceback": [
      "\u001b[0;31m---------------------------------------------------------------------------\u001b[0m",
      "\u001b[0;31mKeyboardInterrupt\u001b[0m                         Traceback (most recent call last)",
      "Cell \u001b[0;32mIn[346], line 21\u001b[0m\n\u001b[1;32m     18\u001b[0m vf \u001b[38;5;241m=\u001b[39m vf_interp(k_grid, A, vf_new) \u001b[38;5;66;03m# 価値関数の補間\u001b[39;00m\n\u001b[1;32m     20\u001b[0m \u001b[38;5;66;03m# 連続な価値関数を用いて政策関数を求める\u001b[39;00m\n\u001b[0;32m---> 21\u001b[0m pf_kprime_grid \u001b[38;5;241m=\u001b[39m \u001b[43moptimize_pf\u001b[49m\u001b[43m(\u001b[49m\u001b[43mk_grid\u001b[49m\u001b[43m,\u001b[49m\u001b[43m \u001b[49m\u001b[43mA\u001b[49m\u001b[43m,\u001b[49m\u001b[43m \u001b[49m\u001b[43mP\u001b[49m\u001b[43m,\u001b[49m\u001b[43m \u001b[49m\u001b[43malpha\u001b[49m\u001b[43m,\u001b[49m\u001b[43m \u001b[49m\u001b[43mbeta\u001b[49m\u001b[43m,\u001b[49m\u001b[43m \u001b[49m\u001b[43mgamma\u001b[49m\u001b[43m,\u001b[49m\u001b[43m \u001b[49m\u001b[43mdelta\u001b[49m\u001b[43m,\u001b[49m\n\u001b[1;32m     22\u001b[0m \u001b[43m                            \u001b[49m\u001b[43mutility\u001b[49m\u001b[43m,\u001b[49m\u001b[43m \u001b[49m\u001b[43moutput\u001b[49m\u001b[43m,\u001b[49m\u001b[43m \u001b[49m\u001b[43mwealth\u001b[49m\u001b[43m,\u001b[49m\u001b[43m \u001b[49m\u001b[43mvf\u001b[49m\u001b[43m,\u001b[49m\u001b[43m \u001b[49m\u001b[43mrhs_bellman\u001b[49m\u001b[43m)\u001b[49m\n\u001b[1;32m     24\u001b[0m \u001b[38;5;66;03m# 新しい政策関数を使って新しい価値関数を計算\u001b[39;00m\n\u001b[1;32m     25\u001b[0m vf_new \u001b[38;5;241m=\u001b[39m calc_vf_new(k_grid, pf_kprime_grid, A, P, alpha, delta, output, gamma, beta, vf_old)\n",
      "Cell \u001b[0;32mIn[339], line 55\u001b[0m, in \u001b[0;36moptimize_pf\u001b[0;34m(k_grid, A, P, alpha, beta, gamma, delta, utility, output, wealth, vf, rhs_bellman)\u001b[0m\n\u001b[1;32m     53\u001b[0m \u001b[38;5;28;01mfor\u001b[39;00m i, k \u001b[38;5;129;01min\u001b[39;00m \u001b[38;5;28menumerate\u001b[39m(k_grid): \u001b[38;5;66;03m# 政策関数を求める\u001b[39;00m\n\u001b[1;32m     54\u001b[0m     \u001b[38;5;28;01mfor\u001b[39;00m l, a \u001b[38;5;129;01min\u001b[39;00m \u001b[38;5;28menumerate\u001b[39m(A):\n\u001b[0;32m---> 55\u001b[0m         pf_kprime_grid[i, l] \u001b[38;5;241m=\u001b[39m \u001b[43mfmin\u001b[49m\u001b[43m(\u001b[49m\u001b[43mrhs_bellman\u001b[49m\u001b[43m,\u001b[49m\u001b[43m \u001b[49m\n\u001b[1;32m     56\u001b[0m \u001b[43m                                \u001b[49m\u001b[43mx0\u001b[49m\u001b[43m \u001b[49m\u001b[38;5;241;43m=\u001b[39;49m\u001b[43m \u001b[49m\u001b[43mk_grid\u001b[49m\u001b[43m[\u001b[49m\u001b[43mi\u001b[49m\u001b[43m]\u001b[49m\u001b[43m,\u001b[49m\u001b[43m \u001b[49m\n\u001b[1;32m     57\u001b[0m \u001b[43m                                \u001b[49m\u001b[43margs\u001b[49m\u001b[43m \u001b[49m\u001b[38;5;241;43m=\u001b[39;49m\u001b[43m \u001b[49m\u001b[43m(\u001b[49m\u001b[43mk\u001b[49m\u001b[43m,\u001b[49m\u001b[43m \u001b[49m\u001b[43ma\u001b[49m\u001b[43m,\u001b[49m\u001b[43m \u001b[49m\u001b[43mA\u001b[49m\u001b[43m,\u001b[49m\u001b[43m \u001b[49m\u001b[43mP\u001b[49m\u001b[43m,\u001b[49m\u001b[43m \u001b[49m\u001b[43malpha\u001b[49m\u001b[43m,\u001b[49m\u001b[43m \u001b[49m\u001b[43mbeta\u001b[49m\u001b[43m,\u001b[49m\u001b[43m \u001b[49m\u001b[43mgamma\u001b[49m\u001b[43m,\u001b[49m\u001b[43m \u001b[49m\u001b[43mdelta\u001b[49m\u001b[43m,\u001b[49m\n\u001b[1;32m     58\u001b[0m \u001b[43m                                        \u001b[49m\u001b[43mutility\u001b[49m\u001b[43m,\u001b[49m\u001b[43m \u001b[49m\u001b[43moutput\u001b[49m\u001b[43m,\u001b[49m\u001b[43m \u001b[49m\u001b[43mwealth\u001b[49m\u001b[43m,\u001b[49m\u001b[43m \u001b[49m\u001b[43mvf\u001b[49m\u001b[43m)\u001b[49m\u001b[43m,\u001b[49m\u001b[43m \u001b[49m\n\u001b[1;32m     59\u001b[0m \u001b[43m                                \u001b[49m\u001b[43mdisp\u001b[49m\u001b[43m \u001b[49m\u001b[38;5;241;43m=\u001b[39;49m\u001b[43m \u001b[49m\u001b[38;5;241;43m0\u001b[39;49m\u001b[43m)\u001b[49m[\u001b[38;5;241m0\u001b[39m]\n\u001b[1;32m     60\u001b[0m \u001b[38;5;28;01mreturn\u001b[39;00m pf_kprime_grid\n",
      "File \u001b[0;32m~/Library/Caches/pypoetry/virtualenvs/quant-macro-workshop-bUjjWVNQ-py3.12/lib/python3.12/site-packages/scipy/optimize/_optimize.py:653\u001b[0m, in \u001b[0;36mfmin\u001b[0;34m(func, x0, args, xtol, ftol, maxiter, maxfun, full_output, disp, retall, callback, initial_simplex)\u001b[0m\n\u001b[1;32m    644\u001b[0m opts \u001b[38;5;241m=\u001b[39m {\u001b[38;5;124m'\u001b[39m\u001b[38;5;124mxatol\u001b[39m\u001b[38;5;124m'\u001b[39m: xtol,\n\u001b[1;32m    645\u001b[0m         \u001b[38;5;124m'\u001b[39m\u001b[38;5;124mfatol\u001b[39m\u001b[38;5;124m'\u001b[39m: ftol,\n\u001b[1;32m    646\u001b[0m         \u001b[38;5;124m'\u001b[39m\u001b[38;5;124mmaxiter\u001b[39m\u001b[38;5;124m'\u001b[39m: maxiter,\n\u001b[0;32m   (...)\u001b[0m\n\u001b[1;32m    649\u001b[0m         \u001b[38;5;124m'\u001b[39m\u001b[38;5;124mreturn_all\u001b[39m\u001b[38;5;124m'\u001b[39m: retall,\n\u001b[1;32m    650\u001b[0m         \u001b[38;5;124m'\u001b[39m\u001b[38;5;124minitial_simplex\u001b[39m\u001b[38;5;124m'\u001b[39m: initial_simplex}\n\u001b[1;32m    652\u001b[0m callback \u001b[38;5;241m=\u001b[39m _wrap_callback(callback)\n\u001b[0;32m--> 653\u001b[0m res \u001b[38;5;241m=\u001b[39m \u001b[43m_minimize_neldermead\u001b[49m\u001b[43m(\u001b[49m\u001b[43mfunc\u001b[49m\u001b[43m,\u001b[49m\u001b[43m \u001b[49m\u001b[43mx0\u001b[49m\u001b[43m,\u001b[49m\u001b[43m \u001b[49m\u001b[43margs\u001b[49m\u001b[43m,\u001b[49m\u001b[43m \u001b[49m\u001b[43mcallback\u001b[49m\u001b[38;5;241;43m=\u001b[39;49m\u001b[43mcallback\u001b[49m\u001b[43m,\u001b[49m\u001b[43m \u001b[49m\u001b[38;5;241;43m*\u001b[39;49m\u001b[38;5;241;43m*\u001b[39;49m\u001b[43mopts\u001b[49m\u001b[43m)\u001b[49m\n\u001b[1;32m    654\u001b[0m \u001b[38;5;28;01mif\u001b[39;00m full_output:\n\u001b[1;32m    655\u001b[0m     retlist \u001b[38;5;241m=\u001b[39m res[\u001b[38;5;124m'\u001b[39m\u001b[38;5;124mx\u001b[39m\u001b[38;5;124m'\u001b[39m], res[\u001b[38;5;124m'\u001b[39m\u001b[38;5;124mfun\u001b[39m\u001b[38;5;124m'\u001b[39m], res[\u001b[38;5;124m'\u001b[39m\u001b[38;5;124mnit\u001b[39m\u001b[38;5;124m'\u001b[39m], res[\u001b[38;5;124m'\u001b[39m\u001b[38;5;124mnfev\u001b[39m\u001b[38;5;124m'\u001b[39m], res[\u001b[38;5;124m'\u001b[39m\u001b[38;5;124mstatus\u001b[39m\u001b[38;5;124m'\u001b[39m]\n",
      "File \u001b[0;32m~/Library/Caches/pypoetry/virtualenvs/quant-macro-workshop-bUjjWVNQ-py3.12/lib/python3.12/site-packages/scipy/optimize/_optimize.py:842\u001b[0m, in \u001b[0;36m_minimize_neldermead\u001b[0;34m(func, x0, args, callback, maxiter, maxfev, disp, return_all, initial_simplex, xatol, fatol, adaptive, bounds, **unknown_options)\u001b[0m\n\u001b[1;32m    840\u001b[0m \u001b[38;5;28;01mif\u001b[39;00m bounds \u001b[38;5;129;01mis\u001b[39;00m \u001b[38;5;129;01mnot\u001b[39;00m \u001b[38;5;28;01mNone\u001b[39;00m:\n\u001b[1;32m    841\u001b[0m     xr \u001b[38;5;241m=\u001b[39m np\u001b[38;5;241m.\u001b[39mclip(xr, lower_bound, upper_bound)\n\u001b[0;32m--> 842\u001b[0m fxr \u001b[38;5;241m=\u001b[39m \u001b[43mfunc\u001b[49m\u001b[43m(\u001b[49m\u001b[43mxr\u001b[49m\u001b[43m)\u001b[49m\n\u001b[1;32m    843\u001b[0m doshrink \u001b[38;5;241m=\u001b[39m \u001b[38;5;241m0\u001b[39m\n\u001b[1;32m    845\u001b[0m \u001b[38;5;28;01mif\u001b[39;00m fxr \u001b[38;5;241m<\u001b[39m fsim[\u001b[38;5;241m0\u001b[39m]:\n",
      "File \u001b[0;32m~/Library/Caches/pypoetry/virtualenvs/quant-macro-workshop-bUjjWVNQ-py3.12/lib/python3.12/site-packages/scipy/optimize/_optimize.py:526\u001b[0m, in \u001b[0;36m_wrap_scalar_function_maxfun_validation.<locals>.function_wrapper\u001b[0;34m(x, *wrapper_args)\u001b[0m\n\u001b[1;32m    524\u001b[0m ncalls[\u001b[38;5;241m0\u001b[39m] \u001b[38;5;241m+\u001b[39m\u001b[38;5;241m=\u001b[39m \u001b[38;5;241m1\u001b[39m\n\u001b[1;32m    525\u001b[0m \u001b[38;5;66;03m# A copy of x is sent to the user function (gh13740)\u001b[39;00m\n\u001b[0;32m--> 526\u001b[0m fx \u001b[38;5;241m=\u001b[39m \u001b[43mfunction\u001b[49m\u001b[43m(\u001b[49m\u001b[43mnp\u001b[49m\u001b[38;5;241;43m.\u001b[39;49m\u001b[43mcopy\u001b[49m\u001b[43m(\u001b[49m\u001b[43mx\u001b[49m\u001b[43m)\u001b[49m\u001b[43m,\u001b[49m\u001b[43m \u001b[49m\u001b[38;5;241;43m*\u001b[39;49m\u001b[43m(\u001b[49m\u001b[43mwrapper_args\u001b[49m\u001b[43m \u001b[49m\u001b[38;5;241;43m+\u001b[39;49m\u001b[43m \u001b[49m\u001b[43margs\u001b[49m\u001b[43m)\u001b[49m\u001b[43m)\u001b[49m\n\u001b[1;32m    527\u001b[0m \u001b[38;5;66;03m# Ideally, we'd like to a have a true scalar returned from f(x). For\u001b[39;00m\n\u001b[1;32m    528\u001b[0m \u001b[38;5;66;03m# backwards-compatibility, also allow np.array([1.3]),\u001b[39;00m\n\u001b[1;32m    529\u001b[0m \u001b[38;5;66;03m# np.array([[1.3]]) etc.\u001b[39;00m\n\u001b[1;32m    530\u001b[0m \u001b[38;5;28;01mif\u001b[39;00m \u001b[38;5;129;01mnot\u001b[39;00m np\u001b[38;5;241m.\u001b[39misscalar(fx):\n",
      "Cell \u001b[0;32mIn[339], line 46\u001b[0m, in \u001b[0;36mrhs_bellman\u001b[0;34m(kprime_star, k, a, A, P, alpha, beta, gamma, delta, utility, output, wealth, vf)\u001b[0m\n\u001b[1;32m     44\u001b[0m     A_index \u001b[38;5;241m=\u001b[39m np\u001b[38;5;241m.\u001b[39mwhere(A \u001b[38;5;241m==\u001b[39m a)[\u001b[38;5;241m0\u001b[39m][\u001b[38;5;241m0\u001b[39m]\n\u001b[1;32m     45\u001b[0m     \u001b[38;5;28;01mfor\u001b[39;00m k, aprime \u001b[38;5;129;01min\u001b[39;00m \u001b[38;5;28menumerate\u001b[39m(A):\n\u001b[0;32m---> 46\u001b[0m         expected_vf \u001b[38;5;241m=\u001b[39m\u001b[38;5;241m+\u001b[39m P[A_index, k] \u001b[38;5;241m*\u001b[39m \u001b[43mvf\u001b[49m\u001b[43m(\u001b[49m\u001b[43mkprime_star\u001b[49m\u001b[43m,\u001b[49m\u001b[43m \u001b[49m\u001b[43maprime\u001b[49m\u001b[43m)\u001b[49m\n\u001b[1;32m     47\u001b[0m     rhs \u001b[38;5;241m=\u001b[39m utility(C, gamma) \u001b[38;5;241m+\u001b[39m beta \u001b[38;5;241m*\u001b[39m expected_vf\n\u001b[1;32m     48\u001b[0m \u001b[38;5;28;01mreturn\u001b[39;00m \u001b[38;5;241m-\u001b[39m rhs\n",
      "Cell \u001b[0;32mIn[339], line 33\u001b[0m, in \u001b[0;36mvf_interp.<locals>.vf\u001b[0;34m(k, a)\u001b[0m\n\u001b[1;32m     31\u001b[0m \u001b[38;5;28;01mdef\u001b[39;00m \u001b[38;5;21mvf\u001b[39m(k, a):\n\u001b[1;32m     32\u001b[0m     A_index \u001b[38;5;241m=\u001b[39m np\u001b[38;5;241m.\u001b[39mwhere(A \u001b[38;5;241m==\u001b[39m a)[\u001b[38;5;241m0\u001b[39m][\u001b[38;5;241m0\u001b[39m]\n\u001b[0;32m---> 33\u001b[0m     cheb_fit \u001b[38;5;241m=\u001b[39m \u001b[43mnp\u001b[49m\u001b[38;5;241;43m.\u001b[39;49m\u001b[43mpolynomial\u001b[49m\u001b[38;5;241;43m.\u001b[39;49m\u001b[43mChebyshev\u001b[49m\u001b[38;5;241;43m.\u001b[39;49m\u001b[43mfit\u001b[49m\u001b[43m(\u001b[49m\u001b[43mk_grid\u001b[49m\u001b[43m,\u001b[49m\u001b[43m \u001b[49m\u001b[43mvf_grid\u001b[49m\u001b[43m[\u001b[49m\u001b[43m:\u001b[49m\u001b[43m,\u001b[49m\u001b[43m \u001b[49m\u001b[43mA_index\u001b[49m\u001b[43m]\u001b[49m\u001b[43m,\u001b[49m\u001b[43m \u001b[49m\u001b[43mdeg\u001b[49m\u001b[43m \u001b[49m\u001b[38;5;241;43m=\u001b[39;49m\u001b[43m \u001b[49m\u001b[38;5;241;43m16\u001b[39;49m\u001b[43m)\u001b[49m\n\u001b[1;32m     34\u001b[0m     \u001b[38;5;28;01mreturn\u001b[39;00m cheb_fit(k)\n",
      "File \u001b[0;32m~/Library/Caches/pypoetry/virtualenvs/quant-macro-workshop-bUjjWVNQ-py3.12/lib/python3.12/site-packages/numpy/polynomial/_polybase.py:1051\u001b[0m, in \u001b[0;36mABCPolyBase.fit\u001b[0;34m(cls, x, y, deg, domain, rcond, full, w, window, symbol)\u001b[0m\n\u001b[1;32m   1048\u001b[0m     window \u001b[38;5;241m=\u001b[39m \u001b[38;5;28mcls\u001b[39m\u001b[38;5;241m.\u001b[39mwindow\n\u001b[1;32m   1050\u001b[0m xnew \u001b[38;5;241m=\u001b[39m pu\u001b[38;5;241m.\u001b[39mmapdomain(x, domain, window)\n\u001b[0;32m-> 1051\u001b[0m res \u001b[38;5;241m=\u001b[39m \u001b[38;5;28;43mcls\u001b[39;49m\u001b[38;5;241;43m.\u001b[39;49m\u001b[43m_fit\u001b[49m\u001b[43m(\u001b[49m\u001b[43mxnew\u001b[49m\u001b[43m,\u001b[49m\u001b[43m \u001b[49m\u001b[43my\u001b[49m\u001b[43m,\u001b[49m\u001b[43m \u001b[49m\u001b[43mdeg\u001b[49m\u001b[43m,\u001b[49m\u001b[43m \u001b[49m\u001b[43mw\u001b[49m\u001b[38;5;241;43m=\u001b[39;49m\u001b[43mw\u001b[49m\u001b[43m,\u001b[49m\u001b[43m \u001b[49m\u001b[43mrcond\u001b[49m\u001b[38;5;241;43m=\u001b[39;49m\u001b[43mrcond\u001b[49m\u001b[43m,\u001b[49m\u001b[43m \u001b[49m\u001b[43mfull\u001b[49m\u001b[38;5;241;43m=\u001b[39;49m\u001b[43mfull\u001b[49m\u001b[43m)\u001b[49m\n\u001b[1;32m   1052\u001b[0m \u001b[38;5;28;01mif\u001b[39;00m full:\n\u001b[1;32m   1053\u001b[0m     [coef, status] \u001b[38;5;241m=\u001b[39m res\n",
      "File \u001b[0;32m~/Library/Caches/pypoetry/virtualenvs/quant-macro-workshop-bUjjWVNQ-py3.12/lib/python3.12/site-packages/numpy/polynomial/chebyshev.py:1671\u001b[0m, in \u001b[0;36mchebfit\u001b[0;34m(x, y, deg, rcond, full, w)\u001b[0m\n\u001b[1;32m   1547\u001b[0m \u001b[38;5;28;01mdef\u001b[39;00m \u001b[38;5;21mchebfit\u001b[39m(x, y, deg, rcond\u001b[38;5;241m=\u001b[39m\u001b[38;5;28;01mNone\u001b[39;00m, full\u001b[38;5;241m=\u001b[39m\u001b[38;5;28;01mFalse\u001b[39;00m, w\u001b[38;5;241m=\u001b[39m\u001b[38;5;28;01mNone\u001b[39;00m):\n\u001b[1;32m   1548\u001b[0m \u001b[38;5;250m    \u001b[39m\u001b[38;5;124;03m\"\"\"\u001b[39;00m\n\u001b[1;32m   1549\u001b[0m \u001b[38;5;124;03m    Least squares fit of Chebyshev series to data.\u001b[39;00m\n\u001b[1;32m   1550\u001b[0m \n\u001b[0;32m   (...)\u001b[0m\n\u001b[1;32m   1669\u001b[0m \n\u001b[1;32m   1670\u001b[0m \u001b[38;5;124;03m    \"\"\"\u001b[39;00m\n\u001b[0;32m-> 1671\u001b[0m     \u001b[38;5;28;01mreturn\u001b[39;00m \u001b[43mpu\u001b[49m\u001b[38;5;241;43m.\u001b[39;49m\u001b[43m_fit\u001b[49m\u001b[43m(\u001b[49m\u001b[43mchebvander\u001b[49m\u001b[43m,\u001b[49m\u001b[43m \u001b[49m\u001b[43mx\u001b[49m\u001b[43m,\u001b[49m\u001b[43m \u001b[49m\u001b[43my\u001b[49m\u001b[43m,\u001b[49m\u001b[43m \u001b[49m\u001b[43mdeg\u001b[49m\u001b[43m,\u001b[49m\u001b[43m \u001b[49m\u001b[43mrcond\u001b[49m\u001b[43m,\u001b[49m\u001b[43m \u001b[49m\u001b[43mfull\u001b[49m\u001b[43m,\u001b[49m\u001b[43m \u001b[49m\u001b[43mw\u001b[49m\u001b[43m)\u001b[49m\n",
      "File \u001b[0;32m~/Library/Caches/pypoetry/virtualenvs/quant-macro-workshop-bUjjWVNQ-py3.12/lib/python3.12/site-packages/numpy/polynomial/polyutils.py:643\u001b[0m, in \u001b[0;36m_fit\u001b[0;34m(vander_f, x, y, deg, rcond, full, w)\u001b[0m\n\u001b[1;32m    640\u001b[0m scl[scl \u001b[38;5;241m==\u001b[39m \u001b[38;5;241m0\u001b[39m] \u001b[38;5;241m=\u001b[39m \u001b[38;5;241m1\u001b[39m\n\u001b[1;32m    642\u001b[0m \u001b[38;5;66;03m# Solve the least squares problem.\u001b[39;00m\n\u001b[0;32m--> 643\u001b[0m c, resids, rank, s \u001b[38;5;241m=\u001b[39m \u001b[43mnp\u001b[49m\u001b[38;5;241;43m.\u001b[39;49m\u001b[43mlinalg\u001b[49m\u001b[38;5;241;43m.\u001b[39;49m\u001b[43mlstsq\u001b[49m\u001b[43m(\u001b[49m\u001b[43mlhs\u001b[49m\u001b[38;5;241;43m.\u001b[39;49m\u001b[43mT\u001b[49m\u001b[38;5;241;43m/\u001b[39;49m\u001b[43mscl\u001b[49m\u001b[43m,\u001b[49m\u001b[43m \u001b[49m\u001b[43mrhs\u001b[49m\u001b[38;5;241;43m.\u001b[39;49m\u001b[43mT\u001b[49m\u001b[43m,\u001b[49m\u001b[43m \u001b[49m\u001b[43mrcond\u001b[49m\u001b[43m)\u001b[49m\n\u001b[1;32m    644\u001b[0m c \u001b[38;5;241m=\u001b[39m (c\u001b[38;5;241m.\u001b[39mT\u001b[38;5;241m/\u001b[39mscl)\u001b[38;5;241m.\u001b[39mT\n\u001b[1;32m    646\u001b[0m \u001b[38;5;66;03m# Expand c to include non-fitted coefficients which are set to zero\u001b[39;00m\n",
      "File \u001b[0;32m~/Library/Caches/pypoetry/virtualenvs/quant-macro-workshop-bUjjWVNQ-py3.12/lib/python3.12/site-packages/numpy/linalg/_linalg.py:2508\u001b[0m, in \u001b[0;36mlstsq\u001b[0;34m(a, b, rcond)\u001b[0m\n\u001b[1;32m   2504\u001b[0m     b \u001b[38;5;241m=\u001b[39m zeros(b\u001b[38;5;241m.\u001b[39mshape[:\u001b[38;5;241m-\u001b[39m\u001b[38;5;241m2\u001b[39m] \u001b[38;5;241m+\u001b[39m (m, n_rhs \u001b[38;5;241m+\u001b[39m \u001b[38;5;241m1\u001b[39m), dtype\u001b[38;5;241m=\u001b[39mb\u001b[38;5;241m.\u001b[39mdtype)\n\u001b[1;32m   2506\u001b[0m \u001b[38;5;28;01mwith\u001b[39;00m errstate(call\u001b[38;5;241m=\u001b[39m_raise_linalgerror_lstsq, invalid\u001b[38;5;241m=\u001b[39m\u001b[38;5;124m'\u001b[39m\u001b[38;5;124mcall\u001b[39m\u001b[38;5;124m'\u001b[39m,\n\u001b[1;32m   2507\u001b[0m               over\u001b[38;5;241m=\u001b[39m\u001b[38;5;124m'\u001b[39m\u001b[38;5;124mignore\u001b[39m\u001b[38;5;124m'\u001b[39m, divide\u001b[38;5;241m=\u001b[39m\u001b[38;5;124m'\u001b[39m\u001b[38;5;124mignore\u001b[39m\u001b[38;5;124m'\u001b[39m, under\u001b[38;5;241m=\u001b[39m\u001b[38;5;124m'\u001b[39m\u001b[38;5;124mignore\u001b[39m\u001b[38;5;124m'\u001b[39m):\n\u001b[0;32m-> 2508\u001b[0m     x, resids, rank, s \u001b[38;5;241m=\u001b[39m \u001b[43mgufunc\u001b[49m\u001b[43m(\u001b[49m\u001b[43ma\u001b[49m\u001b[43m,\u001b[49m\u001b[43m \u001b[49m\u001b[43mb\u001b[49m\u001b[43m,\u001b[49m\u001b[43m \u001b[49m\u001b[43mrcond\u001b[49m\u001b[43m,\u001b[49m\u001b[43m \u001b[49m\u001b[43msignature\u001b[49m\u001b[38;5;241;43m=\u001b[39;49m\u001b[43msignature\u001b[49m\u001b[43m)\u001b[49m\n\u001b[1;32m   2509\u001b[0m \u001b[38;5;28;01mif\u001b[39;00m m \u001b[38;5;241m==\u001b[39m \u001b[38;5;241m0\u001b[39m:\n\u001b[1;32m   2510\u001b[0m     x[\u001b[38;5;241m.\u001b[39m\u001b[38;5;241m.\u001b[39m\u001b[38;5;241m.\u001b[39m] \u001b[38;5;241m=\u001b[39m \u001b[38;5;241m0\u001b[39m\n",
      "\u001b[0;31mKeyboardInterrupt\u001b[0m: "
     ]
    }
   ],
   "source": [
    "# a. 初期の価値関数をguess\n",
    "vf_old = np.zeros((k_grid.size, A.size))\n",
    "\n",
    "diff = 1.0 + epsilon\n",
    "iter_count = 0\n",
    "pf_kprime_grid = np.copy(kprime_grid)\n",
    "\n",
    "while diff > epsilon:\n",
    "    iter_count += 1\n",
    "\n",
    "    # 7b. 新たな価値観数を得る\n",
    "    for loop in range(1000):\n",
    "        vf_new = calc_vf_new(k_grid, pf_kprime_grid, A, P, alpha, delta, output, gamma, beta, vf_old)\n",
    "        vf_old = vf_new.copy()\n",
    "    # print(vf_old)\n",
    "    \n",
    "    # 8 得られた新しい価値関数を用いて政策関数を求める\n",
    "    vf = vf_interp(k_grid, A, vf_new) # 価値関数の補間\n",
    "    \n",
    "    # 連続な価値関数を用いて政策関数を求める\n",
    "    pf_kprime_grid = optimize_pf(k_grid, A, P, alpha, beta, gamma, delta,\n",
    "                                utility, output, wealth, vf, rhs_bellman)\n",
    "\n",
    "    # 新しい政策関数を使って新しい価値関数を計算\n",
    "    vf_new = calc_vf_new(k_grid, pf_kprime_grid, A, P, alpha, delta, output, gamma, beta, vf_old)\n",
    "\n",
    "    diff = np.max(np.abs(vf_old - vf_new)) # 収束の判定\n",
    "    vf_old = vf_new.copy()\n",
    "    if iter_count%1 == 0:\n",
    "        print(f'iteration: {iter_count}, diff: {diff}')"
   ]
  },
  {
   "cell_type": "code",
   "execution_count": null,
   "metadata": {},
   "outputs": [],
   "source": [
    "vf_old"
   ]
  },
  {
   "cell_type": "markdown",
   "metadata": {},
   "source": [
    "### p78 図3.6の価値関数と政策関数をプロット"
   ]
  },
  {
   "cell_type": "code",
   "execution_count": 347,
   "metadata": {},
   "outputs": [
    {
     "name": "stderr",
     "output_type": "stream",
     "text": [
      "/Users/hiroetomokana/Library/Caches/pypoetry/virtualenvs/quant-macro-workshop-bUjjWVNQ-py3.12/lib/python3.12/site-packages/numpy/polynomial/chebyshev.py:1175: RuntimeWarning: overflow encountered in multiply\n",
      "  return c0 + c1*x\n"
     ]
    }
   ],
   "source": [
    "# PFIで得られた新しい価値関数から政策関数を計算する\n",
    "vf = vf_interp(k_grid, A, vf_new)\n",
    "kprime_grid = optimize_pf(k_grid, A, P, alpha, beta, gamma, delta,\n",
    "                          utility, output, wealth, vf, rhs_bellman)"
   ]
  },
  {
   "cell_type": "code",
   "execution_count": 348,
   "metadata": {},
   "outputs": [
    {
     "name": "stdout",
     "output_type": "stream",
     "text": [
      "[[-2.95147905e+18 -2.95147905e+18]\n",
      " [-2.87769208e+18 -2.87769208e+18]\n",
      " [ 6.36074219e-02  6.47402344e-02]\n",
      " [ 1.10612305e-01  1.15199219e-01]\n",
      " [ 1.11187500e-01  1.15312500e-01]\n",
      " [ 1.11687012e-01  1.15393066e-01]\n",
      " [ 1.86082031e-01  1.94457031e-01]\n",
      " [ 1.86842285e-01  1.94611816e-01]\n",
      " [ 1.87453125e-01  1.94675781e-01]\n",
      " [ 1.88015625e-01  2.67567871e-01]\n",
      " [-2.90536219e+18  2.67729492e-01]\n",
      " [ 1.88746094e-01  2.67912109e-01]\n",
      " [-3.43109440e+18  2.68041016e-01]\n",
      " [-2.46264033e+18  3.48742676e-01]\n",
      " [-2.63788440e+18  3.48841797e-01]\n",
      " [-2.81312847e+18  3.49007568e-01]\n",
      " [ 4.17972656e-01  4.23984375e-01]\n",
      " [-2.37271246e+18  4.23976807e-01]\n",
      " [ 4.69910645e-01  4.70440918e-01]\n",
      " [-2.63557856e+18  4.70482910e-01]\n",
      " [ 4.69921875e-01  4.70507812e-01]]\n"
     ]
    },
    {
     "data": {
      "image/png": "[encoded data removed]",
      "text/plain": [
       "<Figure size 640x480 with 1 Axes>"
      ]
     },
     "metadata": {},
     "output_type": "display_data"
    }
   ],
   "source": [
    "print(kprime_grid)\n",
    "# k_grid と kprime_grid をプロット\n",
    "import matplotlib.pyplot as plt\n",
    "fig, ax = plt.subplots()\n",
    "for l, a in enumerate(A):\n",
    "    ax.plot(k_grid, kprime_grid[:, l], label = f\"A = {a}\")\n",
    "ax.plot(k_grid, k_grid, linestyle = \"--\", color = \"k\")\n",
    "ax.set_xlabel(\"k\")\n",
    "ax.set_ylabel(\"k'\")\n",
    "ax.legend()\n",
    "plt.show()"
   ]
  },
  {
   "cell_type": "code",
   "execution_count": 337,
   "metadata": {},
   "outputs": [],
   "source": [
    "# %reset -f"
   ]
  },
  {
   "cell_type": "code",
   "execution_count": null,
   "metadata": {},
   "outputs": [],
   "source": [
    "iter_count\n",
    "kprime_grid"
   ]
  },
  {
   "cell_type": "code",
   "execution_count": null,
   "metadata": {},
   "outputs": [],
   "source": []
  }
 ],
 "metadata": {
  "kernelspec": {
   "display_name": "quant-macro-workshop-bUjjWVNQ-py3.12",
   "language": "python",
   "name": "python3"
  },
  "language_info": {
   "codemirror_mode": {
    "name": "ipython",
    "version": 3
   },
   "file_extension": ".py",
   "mimetype": "text/x-python",
   "name": "python",
   "nbconvert_exporter": "python",
   "pygments_lexer": "ipython3",
   "version": "3.12.6"
  }
 },
 "nbformat": 4,
 "nbformat_minor": 2
}
