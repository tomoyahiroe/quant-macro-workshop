{
 "cells": [
  {
   "cell_type": "markdown",
   "metadata": {},
   "source": [
    "# 3章Policy Function Iteration"
   ]
  },
  {
   "cell_type": "code",
   "execution_count": 264,
   "metadata": {},
   "outputs": [],
   "source": [
    "# ライブラリのインポート\n",
    "import numpy as np\n",
    "from collections.abc import Callable\n",
    "from scipy.optimize import fmin\n",
    "# from numpy.polynomial.chebyshev import Chebyshev\n",
    "from scipy.interpolate import RectBivariateSpline\n",
    "import copy\n",
    "import matplotlib.pyplot as plt"
   ]
  },
  {
   "cell_type": "markdown",
   "metadata": {},
   "source": [
    "### ステップ 1&2&3&4&5\n",
    "1. グリッド生成\n",
    "2. カリブレーションしたパラメータの値を設定\n",
    "3. 収束の定義\n",
    "4. 確率変数 $A = \\{A_{good}, A_{bad}\\}$を定義\n",
    "5. 遷移確率行列 $P$を定義"
   ]
  },
  {
   "cell_type": "code",
   "execution_count": 265,
   "metadata": {},
   "outputs": [],
   "source": [
    "# パラメータを定義したクラス\n",
    "# 再代入されたりしないようにただの変数とは区別して定義する\n",
    "class Parameters():\n",
    "    '''\n",
    "    モデルのパラメータをまとめたクラス\n",
    "    '''\n",
    "    def __init__(self, beta: float, gamma: float, alpha: float, delta: float,\n",
    "                A: np.ndarray, P: np.ndarray,\n",
    "                kmax: float, kmin: float, ksize: int,\n",
    "                epsilon: float, max_iter: int):\n",
    "        self.beta = beta; self.gamma = gamma; self.alpha = alpha; self.delta = delta\n",
    "        self.A = A; self.P = P\n",
    "        self.kmax = kmax; self.kmin = kmin; self.ksize = ksize\n",
    "        self.epsilon = epsilon; self.max_iter = max_iter\n",
    "        self.k_grid = np.linspace(start = self.kmin, stop = self.kmax, num  = self.ksize)"
   ]
  },
  {
   "cell_type": "code",
   "execution_count": 266,
   "metadata": {},
   "outputs": [],
   "source": [
    "params = Parameters(alpha = 0.4, beta = 0.96, gamma = 1.0, delta = 1.0,\n",
    "                    kmax = 0.5, kmin = 0.025, ksize = 20,\n",
    "                    epsilon = 1e-5, max_iter = 1000,\n",
    "                    A = np.array([0.99, 1.01]),\n",
    "                    P = np.array([[0.875, 0.125],[0.125, 0.875]]),\n",
    "                    )"
   ]
  },
  {
   "cell_type": "markdown",
   "metadata": {},
   "source": [
    "### ステップ6. 政策関数$k'=g^{[0]}(k_i,z_l)$をguess\n",
    "\n",
    "- 今回は富の関数の半分の値とする"
   ]
  },
  {
   "cell_type": "code",
   "execution_count": 267,
   "metadata": {},
   "outputs": [],
   "source": [
    "# 富の関数\n",
    "def wealth(params: Parameters, k: float, a: float) -> float:\n",
    "    return a * (k**params.alpha) + (1 - params.delta) * k"
   ]
  },
  {
   "cell_type": "code",
   "execution_count": 268,
   "metadata": {},
   "outputs": [],
   "source": [
    "def guess_pf(params: Parameters) -> np.ndarray:\n",
    "    mesh_k, mesh_a = np.meshgrid(params.k_grid, params.A, indexing = 'ij')\n",
    "    kprime_g0_grid = (mesh_a * (mesh_k ** params.alpha) + (1 - params.delta) )/2\n",
    "    return kprime_g0_grid"
   ]
  },
  {
   "cell_type": "code",
   "execution_count": 269,
   "metadata": {},
   "outputs": [],
   "source": [
    "guess_pf_grid = guess_pf(params)"
   ]
  },
  {
   "cell_type": "markdown",
   "metadata": {},
   "source": [
    "### ステップ7. 当て推量した政策関数を用いて価値関数を計算する"
   ]
  },
  {
   "cell_type": "code",
   "execution_count": 270,
   "metadata": {},
   "outputs": [],
   "source": [
    "# 効用関数\n",
    "def utility(params: Parameters, c: float):\n",
    "    if params.gamma == 1.0:\n",
    "        return np.log(c)\n",
    "\n",
    "    return (c ** (1 - params.gamma)) / (1 - params.gamma)"
   ]
  },
  {
   "cell_type": "code",
   "execution_count": 271,
   "metadata": {},
   "outputs": [],
   "source": [
    "# utility関数のテスト あっていれば何も出力されない\n",
    "assert utility(params, 1.0) == 0.0\n",
    "assert utility(params, 2.0) == np.log(2.0)\n",
    "assert utility(params, 0.5) == np.log(0.5)"
   ]
  },
  {
   "cell_type": "code",
   "execution_count": 272,
   "metadata": {},
   "outputs": [],
   "source": [
    "# ベルマン方程式の右辺\n",
    "def rhs_bellman(params: Parameters, wealth: float, kprime: float, a: float,\n",
    "                utility: Callable, vf: Callable[[float, float], float]):\n",
    "    Aidx = np.where(params.A == a)[0][0]\n",
    "    for k, aprime in enumerate(params.A):\n",
    "        expected_vf =+ params.P[Aidx, k] * vf(kprime, aprime)\n",
    "    rhs = utility(params, wealth - kprime) + params.beta * expected_vf\n",
    "    return rhs"
   ]
  },
  {
   "cell_type": "code",
   "execution_count": 273,
   "metadata": {},
   "outputs": [],
   "source": [
    "# rhs_bellmanのテスト\n",
    "assert rhs_bellman(params, 1.0, 0.5, 1.01, utility, lambda x, y: 0.0) == np.log(0.5)\n",
    "assert rhs_bellman(params, 1.0, 0.5, 0.99, utility, lambda x, y: 0.0) == np.log(0.5)"
   ]
  },
  {
   "cell_type": "code",
   "execution_count": 274,
   "metadata": {},
   "outputs": [],
   "source": [
    "# 政策関数を所与として価値関数を更新する関数\n",
    "def update_vf(params: Parameters, loops: int, pf_grid: np.ndarray, utility: Callable,\n",
    "                wealth: Callable, rhs_bellman: Callable,\n",
    "                vf_old: Callable):\n",
    "    vf_new_grid = np.zeros((params.ksize, params.A.size))\n",
    "    loop = 0\n",
    "    while loop < loops: \n",
    "        for i, K in enumerate(params.k_grid):\n",
    "            for l, a in enumerate(params.A):\n",
    "                vf_new_grid[i, l] = rhs_bellman(params, wealth(params, K, a), pf_grid[i, l], a, utility, vf_old)\n",
    "        vf_new = RectBivariateSpline(params.k_grid, params.A, vf_new_grid, kx = 1, ky = 1)\n",
    "        vf_old = copy.copy(vf_new)\n",
    "        loop += 1\n",
    "    return vf_new"
   ]
  },
  {
   "cell_type": "code",
   "execution_count": 275,
   "metadata": {},
   "outputs": [],
   "source": [
    "# 価値関数を所与として政策関数を更新する関数\n",
    "def update_pf(params: Parameters, calc_wealth: Callable,\n",
    "            rhs_bellman: Callable, utility: Callable, vf: Callable):\n",
    "    pf_new_grid = np.zeros((params.ksize, params.A.size))\n",
    "    \n",
    "    def wrap_rhs_bellman(kprime: float, params: Callable, wealth: float,\n",
    "                        a: float, utility: Callable, vf: Callable):\n",
    "        # 消費が負になる場合はペナルティを与える\n",
    "        if wealth < kprime:             \n",
    "            return 10**5 + kprime\n",
    "        return - rhs_bellman(params, wealth, kprime, a, utility, vf)\n",
    "    \n",
    "    for i, K in enumerate(params.k_grid):\n",
    "        for l, a in enumerate(params.A):\n",
    "            wealth = calc_wealth(params, K, a)\n",
    "            pf_new_grid[i, l] = fmin(wrap_rhs_bellman,\n",
    "                                    x0 = [params.k_grid[i]],\n",
    "                                    args = (params, wealth, a, utility, vf),\n",
    "                                    disp=False)\n",
    "    return pf_new_grid"
   ]
  },
  {
   "cell_type": "code",
   "execution_count": 276,
   "metadata": {},
   "outputs": [],
   "source": [
    "# 収束の計算をする関数\n",
    "def is_converged(params: Parameters, vf_old, vf_new):\n",
    "    np_vf_old = np.frompyfunc(vf_old, 2, 1)\n",
    "    np_vf_new = np.frompyfunc(vf_new, 2, 1)\n",
    "    # k_grid行A列の行列を生成\n",
    "    KK, AA = np.meshgrid(params.k_grid, params.A, indexing = \"ij\")\n",
    "    vf_old_grid = np_vf_old(KK, AA)\n",
    "    vf_new_grid = np_vf_new(KK, AA)\n",
    "    diff = np.max(np.abs(vf_new_grid - vf_old_grid))\n",
    "    print(diff)\n",
    "    if diff < params.epsilon:\n",
    "        return True\n",
    "    return False"
   ]
  },
  {
   "cell_type": "code",
   "execution_count": 277,
   "metadata": {},
   "outputs": [],
   "source": [
    "def PFI(params: Parameters, update_vf: Callable, update_pf: Callable,\n",
    "        is_converged: Callable, utility: Callable, wealth: Callable, rhs_bellman: Callable, \n",
    "        old_pf_grid):\n",
    "    # 価値関数の当て推量\n",
    "    vf_old = lambda k, a: k+a\n",
    "    vf_new = lambda k, a: k+a + 1\n",
    "\n",
    "    new_pf_grid = np.zeros((params.k_grid.size, params.A.size))\n",
    "    \n",
    "    loop = 0\n",
    "    while is_converged(params, vf_old, vf_new) != True:\n",
    "\n",
    "        vf_old = copy.copy(vf_new)\n",
    "        # 当て推量した政策関数を用いて, 価値関数を計算\n",
    "        vf_new = update_vf(params, params.max_iter, old_pf_grid, utility,\n",
    "                            wealth, rhs_bellman, vf_old)\n",
    "        \n",
    "        # 新しい価値関数を用いて政策関数を計算する\n",
    "        new_pf_grid = update_pf(params, wealth, rhs_bellman, utility, vf_new)\n",
    "        \n",
    "        # 新しく得られた政策関数を用いて価値関数を再計算する\n",
    "        vf_new = update_vf(params, params.max_iter, new_pf_grid, utility,\n",
    "                            wealth, rhs_bellman, vf_new)\n",
    "        \n",
    "        # kprime_g0_grid = kprime_g1_grid\n",
    "        loop += 1\n",
    "        print(f'loops {loop}')\n",
    "\n",
    "    return vf_new, new_pf_grid, params"
   ]
  },
  {
   "cell_type": "code",
   "execution_count": 278,
   "metadata": {},
   "outputs": [
    {
     "name": "stdout",
     "output_type": "stream",
     "text": [
      "1.0000000000000002\n"
     ]
    },
    {
     "name": "stderr",
     "output_type": "stream",
     "text": [
      "/var/folders/y2/hwl07kg14b31nb5s126cjc8m0000gn/T/ipykernel_28962/1589754197.py:10: DeprecationWarning: Conversion of an array with ndim > 0 to a scalar is deprecated, and will error in future. Ensure you extract a single element from your array before performing this operation. (Deprecated NumPy 1.25.)\n",
      "  vf_new_grid[i, l] = rhs_bellman(params, wealth(params, K, a), pf_grid[i, l], a, utility, vf_old)\n",
      "/var/folders/y2/hwl07kg14b31nb5s126cjc8m0000gn/T/ipykernel_28962/2968808564.py:16: DeprecationWarning: Conversion of an array with ndim > 0 to a scalar is deprecated, and will error in future. Ensure you extract a single element from your array before performing this operation. (Deprecated NumPy 1.25.)\n",
      "  pf_new_grid[i, l] = fmin(wrap_rhs_bellman,\n"
     ]
    },
    {
     "name": "stdout",
     "output_type": "stream",
     "text": [
      "loops 1\n",
      "[[62.1588838]]\n",
      "loops 2\n",
      "[[0.]]\n"
     ]
    }
   ],
   "source": [
    "vf_new, new_pf_grid, params = PFI(params, update_vf, update_pf, is_converged, utility,\n",
    "                                    wealth, rhs_bellman, guess_pf_grid)"
   ]
  },
  {
   "cell_type": "code",
   "execution_count": 279,
   "metadata": {},
   "outputs": [
    {
     "name": "stdout",
     "output_type": "stream",
     "text": [
      "[[-1.58456325e+27  7.50000000e-02]\n",
      " [-3.16912650e+27  1.00000000e-01]\n",
      " [-4.75368975e+27  1.24980469e-01]\n",
      " [-6.33825300e+27  1.30625000e-01]\n",
      " [-7.92281625e+27  1.50000000e-01]\n",
      " [-9.50737950e+27  1.53867188e-01]\n",
      " [-1.10919428e+28  1.75000000e-01]\n",
      " [-1.26765060e+28  1.75000000e-01]\n",
      " [-1.42610693e+28  1.85009766e-01]\n",
      " [-1.58456325e+28  2.00000000e-01]\n",
      " [-1.74301958e+28  2.00019531e-01]\n",
      " [-1.90147590e+28  2.06953125e-01]\n",
      " [-2.05993223e+28  2.24960937e-01]\n",
      " [-2.21838855e+28  2.24970703e-01]\n",
      " [-2.37684488e+28  2.25000000e-01]\n",
      " [-2.53530120e+28  2.28750000e-01]\n",
      " [-2.69375753e+28  2.45952148e-01]\n",
      " [-2.85221385e+28  2.49960938e-01]\n",
      " [-3.01067018e+28  2.50024414e-01]\n",
      " [-3.16912650e+28  2.50000000e-01]]\n"
     ]
    }
   ],
   "source": [
    "print(new_pf_grid)"
   ]
  },
  {
   "cell_type": "code",
   "execution_count": 280,
   "metadata": {},
   "outputs": [],
   "source": [
    "def plot_pf(params: Parameters, pf_grid: np.ndarray):\n",
    "    fig, ax = plt.subplots()\n",
    "    for l, a in enumerate(params.A):\n",
    "        ax.plot(params.k_grid, pf_grid[:, l], label = f\"a = {a}\")\n",
    "    ax.set(xlabel = 'k', ylabel = 'kprime', title = 'Policy Function')\n",
    "    ax.legend()\n",
    "    plt.show()"
   ]
  },
  {
   "cell_type": "code",
   "execution_count": 281,
   "metadata": {},
   "outputs": [],
   "source": [
    "def plot_vf(params: Parameters, vf: Callable):\n",
    "    fig, ax = plt.subplots()\n",
    "    for l, a in enumerate(params.A):\n",
    "        ax.plot(params.k_grid, vf(params.k_grid, a), label = f\"a = {a}\")\n",
    "    ax.set(xlabel = 'k', ylabel = 'V(k)', title = 'Value Function')\n",
    "    ax.legend()\n",
    "    plt.show()"
   ]
  },
  {
   "cell_type": "code",
   "execution_count": 282,
   "metadata": {},
   "outputs": [
    {
     "data": {
      "image/png": "[encoded data removed]",
      "text/plain": [
       "<Figure size 640x480 with 1 Axes>"
      ]
     },
     "metadata": {},
     "output_type": "display_data"
    }
   ],
   "source": [
    "# kprime_g1_grid をプロット\n",
    "plot_pf(params, new_pf_grid)"
   ]
  },
  {
   "cell_type": "code",
   "execution_count": 283,
   "metadata": {},
   "outputs": [
    {
     "data": {
      "image/png": "[encoded data removed]",
      "text/plain": [
       "<Figure size 640x480 with 1 Axes>"
      ]
     },
     "metadata": {},
     "output_type": "display_data"
    }
   ],
   "source": [
    "# 収束後の価値関数をプロット\n",
    "plot_vf(params, vf_new)"
   ]
  },
  {
   "cell_type": "markdown",
   "metadata": {},
   "source": [
    "### p78 図3.6の価値関数と政策関数をプロット"
   ]
  },
  {
   "cell_type": "code",
   "execution_count": 263,
   "metadata": {},
   "outputs": [],
   "source": [
    "%reset -f"
   ]
  },
  {
   "cell_type": "code",
   "execution_count": null,
   "metadata": {},
   "outputs": [],
   "source": []
  }
 ],
 "metadata": {
  "kernelspec": {
   "display_name": "quant-macro-workshop-bUjjWVNQ-py3.12",
   "language": "python",
   "name": "python3"
  },
  "language_info": {
   "codemirror_mode": {
    "name": "ipython",
    "version": 3
   },
   "file_extension": ".py",
   "mimetype": "text/x-python",
   "name": "python",
   "nbconvert_exporter": "python",
   "pygments_lexer": "ipython3",
   "version": "3.12.6"
  }
 },
 "nbformat": 4,
 "nbformat_minor": 2
}
