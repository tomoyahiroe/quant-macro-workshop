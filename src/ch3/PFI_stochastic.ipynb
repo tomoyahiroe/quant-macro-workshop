{
 "cells": [
  {
   "cell_type": "markdown",
   "metadata": {},
   "source": [
    "# 3章Policy Function Iteration"
   ]
  },
  {
   "cell_type": "markdown",
   "metadata": {},
   "source": [
    "### 0. 準備"
   ]
  },
  {
   "cell_type": "code",
   "execution_count": 68,
   "metadata": {},
   "outputs": [],
   "source": [
    "# ライブラリのインポート\n",
    "import numpy as np\n",
    "from collections.abc import Callable\n",
    "from scipy.optimize import fmin"
   ]
  },
  {
   "cell_type": "code",
   "execution_count": 69,
   "metadata": {},
   "outputs": [],
   "source": [
    "# 使用する関数の定義\n",
    "def output(k, A, alpha):\n",
    "    return A * (k ** alpha)\n",
    "def wealth(k: float, \n",
    "            A:float, \n",
    "            alpha: float, \n",
    "            delta: float,\n",
    "            output: Callable[[float, float, float], float]):\n",
    "    return output(k, A, alpha) + (1 - delta) * k\n",
    "def utility(c: float, gamma: float):\n",
    "    if gamma == 1:\n",
    "        return np.log(c)\n",
    "    else: \n",
    "        return (c ** (1 - gamma)) / (1 - gamma)\n",
    "\n",
    "# 価値関数のグリッドを計算する関数\n",
    "def calc_vf_new(k_grid, kprime_grid, A, P, alpha, delta, output, gamma, beta, vf_old): \n",
    "    vf_new = np.zeros((k_grid.size, A.size))\n",
    "    for i, K in enumerate(k_grid):\n",
    "        for l, a in enumerate(A):\n",
    "            for k in range(len(A)):\n",
    "                vf_new[i, l] += P[l, k] * (utility(wealth(K, a, alpha, delta, output) - kprime_grid[i, k], gamma) + beta * vf_old[i, k])\n",
    "    return vf_new\n",
    "\n",
    "# 価値関数の補間する関数\n",
    "def vf_interp(k_grid, A, vf_grid): \n",
    "    def vf(k, a):\n",
    "        A_index = np.where(A == a)[0][0]\n",
    "        cheb_fit = np.polynomial.Chebyshev.fit(k_grid, vf_grid[:, A_index], deg = 16)\n",
    "        return cheb_fit(k)\n",
    "    return vf\n",
    "\n",
    "# ベルマン方程式の右辺\n",
    "def rhs_bellman(kprime_star, k ,a, alpha, beta, gamma, delta, # 変数とパラメータ\n",
    "                utility, output, wealth, vf): # 必要な関数\n",
    "    rhs = utility(wealth(k, a, alpha, delta, output) - kprime_star,\n",
    "                gamma) + beta * vf(kprime_star, a)\n",
    "    return - rhs"
   ]
  },
  {
   "cell_type": "markdown",
   "metadata": {},
   "source": [
    "### 1. グリッド生成"
   ]
  },
  {
   "cell_type": "code",
   "execution_count": 70,
   "metadata": {},
   "outputs": [
    {
     "name": "stdout",
     "output_type": "stream",
     "text": [
      "[0.025   0.04875 0.0725  0.09625 0.12    0.14375 0.1675  0.19125 0.215\n",
      " 0.23875 0.2625  0.28625 0.31    0.33375 0.3575  0.38125 0.405   0.42875\n",
      " 0.4525  0.47625 0.5    ]\n"
     ]
    }
   ],
   "source": [
    "nk = 21\n",
    "k_grid = np.linspace(0.025, 0.5, 21)\n",
    "print(k_grid)"
   ]
  },
  {
   "cell_type": "markdown",
   "metadata": {},
   "source": [
    "### 2. カリブレーションしたパラメータの値を設定"
   ]
  },
  {
   "cell_type": "code",
   "execution_count": 71,
   "metadata": {},
   "outputs": [],
   "source": [
    "beta = 0.96\n",
    "gamma = 1.0\n",
    "alpha = 0.4\n",
    "delta = 1.0"
   ]
  },
  {
   "cell_type": "markdown",
   "metadata": {},
   "source": [
    "### 3. 収束の基準を与える"
   ]
  },
  {
   "cell_type": "code",
   "execution_count": 72,
   "metadata": {},
   "outputs": [],
   "source": [
    "epsilon = 1e-5"
   ]
  },
  {
   "cell_type": "markdown",
   "metadata": {},
   "source": [
    "### 4. 確率変数 $A = \\{A_{good}, A_{bad}\\}$を定義"
   ]
  },
  {
   "cell_type": "code",
   "execution_count": 73,
   "metadata": {},
   "outputs": [
    {
     "name": "stdout",
     "output_type": "stream",
     "text": [
      "[1.01 0.99]\n"
     ]
    }
   ],
   "source": [
    "A = np.array([1.01, 0.99])\n",
    "print(A)"
   ]
  },
  {
   "cell_type": "markdown",
   "metadata": {},
   "source": [
    "### 5. 遷移確率行列 $P$を定義"
   ]
  },
  {
   "cell_type": "code",
   "execution_count": 74,
   "metadata": {},
   "outputs": [
    {
     "name": "stdout",
     "output_type": "stream",
     "text": [
      "[[0.875 0.125]\n",
      " [0.125 0.875]]\n"
     ]
    }
   ],
   "source": [
    "P = np.array([[0.875, 0.125], [0.125, 0.875]])\n",
    "print(P)"
   ]
  },
  {
   "cell_type": "markdown",
   "metadata": {},
   "source": [
    "### 6. 政策関数の初期値をguess\n",
    "\n",
    "- 今回は富の関数の半分の値とする"
   ]
  },
  {
   "cell_type": "code",
   "execution_count": 75,
   "metadata": {},
   "outputs": [
    {
     "name": "stdout",
     "output_type": "stream",
     "text": [
      "[[0.11546953 0.113183  ]\n",
      " [0.15082774 0.14784105]\n",
      " [0.17677733 0.17327679]\n",
      " [0.19799384 0.19407317]\n",
      " [0.21625386 0.21197161]\n",
      " [0.23245266 0.22784964]\n",
      " [0.24711397 0.24222063]\n",
      " [0.26057453 0.25541463]\n",
      " [0.27306546 0.26765822]\n",
      " [0.28475328 0.2791146 ]\n",
      " [0.2957625  0.28990581]\n",
      " [0.30618899 0.30012585]\n",
      " [0.31610841 0.30984884]\n",
      " [0.32558163 0.31913447]\n",
      " [0.33465845 0.32803155]\n",
      " [0.34338026 0.33658065]\n",
      " [0.35178182 0.34481584]\n",
      " [0.35989269 0.35276611]\n",
      " [0.36773826 0.36045631]\n",
      " [0.37534045 0.36790797]\n",
      " [0.38271843 0.37513985]]\n"
     ]
    }
   ],
   "source": [
    "kprime_grid = np.zeros((k_grid.size, A.size))\n",
    "for i, k in enumerate(k_grid):\n",
    "    for l, a in enumerate(A):\n",
    "        kprime_grid[i, l] = wealth(k, a, alpha, delta, output) /2\n",
    "print(kprime_grid)"
   ]
  },
  {
   "cell_type": "markdown",
   "metadata": {},
   "source": [
    "### 7. 当て推量した政策関数を用いて価値関数を計算する"
   ]
  },
  {
   "cell_type": "code",
   "execution_count": 76,
   "metadata": {},
   "outputs": [
    {
     "name": "stderr",
     "output_type": "stream",
     "text": [
      "/var/folders/y2/hwl07kg14b31nb5s126cjc8m0000gn/T/ipykernel_33468/276007681.py:12: RuntimeWarning: invalid value encountered in log\n",
      "  return np.log(c)\n"
     ]
    },
    {
     "name": "stdout",
     "output_type": "stream",
     "text": [
      "iteration: 1, diff: 1.6966156481626982\n",
      "[-55.82320778 -55.95620379]\n",
      "iteration: 2, diff: nan\n",
      "[-49.50755016 -49.68421503]\n"
     ]
    }
   ],
   "source": [
    "# a. 初期の価値関数をguess\n",
    "vf_old = np.zeros((k_grid.size, A.size))\n",
    "diff = 1.0 + epsilon\n",
    "iter_count = 0\n",
    "pf_kprime_grid = np.copy(kprime_grid)\n",
    "\n",
    "while diff > epsilon:\n",
    "    iter_count += 1\n",
    "\n",
    "    # 7b. 新たな価値観数を得る\n",
    "    for loop in range(1000):\n",
    "        vf_new = calc_vf_new(k_grid, pf_kprime_grid, A, P, alpha, delta, output, gamma, beta, vf_old)\n",
    "        vf_old = vf_new.copy()\n",
    "    \n",
    "    # 8 得られた新しい価値関数を用いて政策関数を求める\n",
    "    vf = vf_interp(k_grid, A, vf_new) # 価値関数の補間\n",
    "    \n",
    "    \n",
    "    for i, k in enumerate(k_grid): # 政策関数を求める\n",
    "        for l, a in enumerate(A):\n",
    "            pf_kprime_grid[i, l] = fmin(rhs_bellman, \n",
    "                                    x0 = k_grid[i], \n",
    "                                    args = (k, a, alpha, beta, gamma, delta,\n",
    "                                            utility, output, wealth, vf), \n",
    "                                    disp = 0)[0]\n",
    "\n",
    "    # 新しい政策関数を使って新しい価値関数を計算\n",
    "    vf_new = calc_vf_new(k_grid, pf_kprime_grid, A, P, alpha, delta, output, gamma, beta, vf_old)\n",
    "\n",
    "    diff = np.max(np.abs(vf_old - vf_new)) # 収束の判定\n",
    "    vf_old = vf_new.copy()\n",
    "    if iter_count%1 == 0:\n",
    "        print(f'iteration: {iter_count}, diff: {diff}')\n",
    "        print(vf_old[0])"
   ]
  },
  {
   "cell_type": "markdown",
   "metadata": {},
   "source": [
    "### p78 図3.6の価値関数と政策関数をプロット"
   ]
  },
  {
   "cell_type": "code",
   "execution_count": 79,
   "metadata": {},
   "outputs": [
    {
     "name": "stdout",
     "output_type": "stream",
     "text": [
      "[[0.11546953 0.113183  ]\n",
      " [0.15082774 0.14784105]\n",
      " [0.17677733 0.17327679]\n",
      " [0.19799384 0.19407317]\n",
      " [0.21625386 0.21197161]\n",
      " [0.23245266 0.22784964]\n",
      " [0.24711397 0.24222063]\n",
      " [0.26057453 0.25541463]\n",
      " [0.27306546 0.26765822]\n",
      " [0.28475328 0.2791146 ]\n",
      " [0.2957625  0.28990581]\n",
      " [0.30618899 0.30012585]\n",
      " [0.31610841 0.30984884]\n",
      " [0.32558163 0.31913447]\n",
      " [0.33465845 0.32803155]\n",
      " [0.34338026 0.33658065]\n",
      " [0.35178182 0.34481584]\n",
      " [0.35989269 0.35276611]\n",
      " [0.36773826 0.36045631]\n",
      " [0.37534045 0.36790797]\n",
      " [0.38271843 0.37513985]]\n"
     ]
    },
    {
     "data": {
      "image/png": "[encoded data removed]",
      "text/plain": [
       "<Figure size 640x480 with 1 Axes>"
      ]
     },
     "metadata": {},
     "output_type": "display_data"
    }
   ],
   "source": [
    "print(kprime_grid)\n",
    "# k_grid と kprime_grid をプロット\n",
    "import matplotlib.pyplot as plt\n",
    "fig, ax = plt.subplots()\n",
    "for l, a in enumerate(A):\n",
    "    ax.plot(k_grid, kprime_grid[:, l], label = f\"A = {a}\")\n",
    "ax.plot(k_grid, k_grid, linestyle = \"--\", color = \"k\")\n",
    "ax.set_xlabel(\"k\")\n",
    "ax.set_ylabel(\"k'\")\n",
    "ax.legend()\n",
    "plt.show()"
   ]
  },
  {
   "cell_type": "code",
   "execution_count": 67,
   "metadata": {},
   "outputs": [],
   "source": [
    "%reset -f"
   ]
  },
  {
   "cell_type": "code",
   "execution_count": null,
   "metadata": {},
   "outputs": [],
   "source": [
    "iter_count"
   ]
  },
  {
   "cell_type": "markdown",
   "metadata": {},
   "source": [
    "### iterationが収束しなかった原因\n",
    "\n",
    "- 価値関数の添字を kではなくlにしていた"
   ]
  },
  {
   "cell_type": "code",
   "execution_count": null,
   "metadata": {},
   "outputs": [],
   "source": []
  }
 ],
 "metadata": {
  "kernelspec": {
   "display_name": "quant-macro-workshop-bUjjWVNQ-py3.12",
   "language": "python",
   "name": "python3"
  },
  "language_info": {
   "codemirror_mode": {
    "name": "ipython",
    "version": 3
   },
   "file_extension": ".py",
   "mimetype": "text/x-python",
   "name": "python",
   "nbconvert_exporter": "python",
   "pygments_lexer": "ipython3",
   "version": "3.12.6"
  }
 },
 "nbformat": 4,
 "nbformat_minor": 2
}
