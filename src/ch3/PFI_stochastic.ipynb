{
 "cells": [
  {
   "cell_type": "markdown",
   "metadata": {},
   "source": [
    "# 3章Policy Function Iteration"
   ]
  },
  {
   "cell_type": "markdown",
   "metadata": {},
   "source": [
    "### 0. 準備"
   ]
  },
  {
   "cell_type": "code",
   "execution_count": 4,
   "metadata": {},
   "outputs": [],
   "source": [
    "# ライブラリのインポート\n",
    "import numpy as np\n",
    "from collections.abc import Callable\n",
    "from scipy.optimize import fmin"
   ]
  },
  {
   "cell_type": "code",
   "execution_count": 5,
   "metadata": {},
   "outputs": [],
   "source": [
    "# 使用する関数の定義\n",
    "def output(k, A, alpha):\n",
    "    return A * (k ** alpha)\n",
    "def wealth(k: float, \n",
    "            A:float, \n",
    "            alpha: float, \n",
    "            delta: float,\n",
    "            output: Callable[[float, float, float], float]):\n",
    "    return output(k, A, alpha) + (1 - delta) * k\n",
    "def utility(c: float, gamma: float):\n",
    "    if gamma == 1:\n",
    "        return np.log(c)\n",
    "    else: \n",
    "        return (c ** (1 - gamma)) / (1 - gamma)"
   ]
  },
  {
   "cell_type": "markdown",
   "metadata": {},
   "source": [
    "### 1. グリッド生成"
   ]
  },
  {
   "cell_type": "code",
   "execution_count": 6,
   "metadata": {},
   "outputs": [
    {
     "name": "stdout",
     "output_type": "stream",
     "text": [
      "[0.025   0.04875 0.0725  0.09625 0.12    0.14375 0.1675  0.19125 0.215\n",
      " 0.23875 0.2625  0.28625 0.31    0.33375 0.3575  0.38125 0.405   0.42875\n",
      " 0.4525  0.47625 0.5    ]\n"
     ]
    }
   ],
   "source": [
    "nk = 21\n",
    "k_grid = np.linspace(0.025, 0.5, 21)\n",
    "print(k_grid)"
   ]
  },
  {
   "cell_type": "markdown",
   "metadata": {},
   "source": [
    "### 2. カリブレーションしたパラメータの値を設定"
   ]
  },
  {
   "cell_type": "code",
   "execution_count": 7,
   "metadata": {},
   "outputs": [],
   "source": [
    "beta = 0.96\n",
    "gamma = 1.0\n",
    "alpha = 0.4\n",
    "delta = 1.0"
   ]
  },
  {
   "cell_type": "markdown",
   "metadata": {},
   "source": [
    "### 3. 収束の基準を与える"
   ]
  },
  {
   "cell_type": "code",
   "execution_count": 8,
   "metadata": {},
   "outputs": [],
   "source": [
    "epsilon = 1e-5"
   ]
  },
  {
   "cell_type": "markdown",
   "metadata": {},
   "source": [
    "### 4. 確率変数 $A = \\{A_{good}, A_{bad}\\}$を定義"
   ]
  },
  {
   "cell_type": "code",
   "execution_count": 9,
   "metadata": {},
   "outputs": [],
   "source": [
    "A = np.array([1.01, 0.99])"
   ]
  },
  {
   "cell_type": "markdown",
   "metadata": {},
   "source": [
    "### 5. 遷移確率行列 $P$を定義"
   ]
  },
  {
   "cell_type": "code",
   "execution_count": 10,
   "metadata": {},
   "outputs": [],
   "source": [
    "P = np.array([[0.875, 0.125], [0.125, 0.875]])"
   ]
  },
  {
   "cell_type": "markdown",
   "metadata": {},
   "source": [
    "### 6. 政策関数の初期値をguess\n",
    "\n",
    "- 今回は富の関数の半分の値とする"
   ]
  },
  {
   "cell_type": "code",
   "execution_count": 11,
   "metadata": {},
   "outputs": [],
   "source": [
    "kprime_grid = np.zeros((k_grid.size, A.size))\n",
    "for i, k in enumerate(k_grid):\n",
    "    for l, a in enumerate(A):\n",
    "        kprime_grid[i, l] = wealth(k, a, alpha, delta, output) /2"
   ]
  },
  {
   "cell_type": "markdown",
   "metadata": {},
   "source": [
    "### 7. 当て推量した政策関数を用いて価値関数を計算する"
   ]
  },
  {
   "cell_type": "code",
   "execution_count": 14,
   "metadata": {},
   "outputs": [
    {
     "name": "stderr",
     "output_type": "stream",
     "text": [
      "/var/folders/y2/hwl07kg14b31nb5s126cjc8m0000gn/T/ipykernel_89113/146179979.py:12: RuntimeWarning: invalid value encountered in log\n",
      "  return np.log(c)\n",
      "/var/folders/y2/hwl07kg14b31nb5s126cjc8m0000gn/T/ipykernel_89113/4215163994.py:33: DeprecationWarning: Conversion of an array with ndim > 0 to a scalar is deprecated, and will error in future. Ensure you extract a single element from your array before performing this operation. (Deprecated NumPy 1.25.)\n",
      "  kprime_grid[i, l] = fmin(rhs_bellman, k_grid[0], args = (k, a), disp = 0)\n"
     ]
    }
   ],
   "source": [
    "# a. 初期の価値関数をguess\n",
    "vf_old = np.zeros((k_grid.size, A.size))\n",
    "diff = 1.0 + epsilon\n",
    "while diff > epsilon:\n",
    "    for loop in range(1000) :# 7b. 新たな価値観数を得る\n",
    "        vf_new = np.zeros((k_grid.size, A.size))\n",
    "        for i, K in enumerate(k_grid):\n",
    "            for l, a in enumerate(A):\n",
    "                for k, aprime in enumerate(A): # 次期の技術水準の添字 k\n",
    "                    vf_new[i, l] += P[l ,k] * (utility(wealth(K, a, alpha, delta, output) \n",
    "                                                - kprime_grid[i, l], gamma) + \n",
    "                                        beta * vf_old[i, k])\n",
    "        if np.max(np.abs(vf_old - vf_new)) < epsilon:\n",
    "            break\n",
    "        vf_old = vf_new.copy()\n",
    "    \n",
    "    # 8 得られた新しい価値関数を用いて政策関数を求める\n",
    "    def vf_interp(k_grid, A, vf_grid): # 価値関数の補間する関数\n",
    "        def vf(k, a):\n",
    "            A_index = np.where(A == a)[0][0]\n",
    "            cheb_fit = np.polynomial.Chebyshev.fit(k_grid, vf_grid[:, A_index], deg = 8)\n",
    "            return cheb_fit(k)\n",
    "        return vf\n",
    "    vf = vf_interp(k_grid, A, vf_new) # 価値関数の補間\n",
    "    \n",
    "    def rhs_bellman(kprime_star, k ,a): # ベルマン方程式の右辺\n",
    "        rhs = utility(wealth(k, a, alpha, delta, output) - kprime_star,\n",
    "                    gamma) + beta * vf(kprime_star, a)\n",
    "        return - rhs\n",
    "    \n",
    "    for i, k in enumerate(k_grid): # 右辺を最小化するkprime_starを求める\n",
    "        for l, a in enumerate(A):\n",
    "            kprime_grid[i, l] = fmin(rhs_bellman, k_grid[0], args = (k, a), disp = 0)\n",
    "    \n",
    "    vf_new = np.zeros((k_grid.size, A.size)) # 得られた政策関数を用いて新しい価値関数を求める\n",
    "    for i, K in enumerate(k_grid):\n",
    "        for l, a in enumerate(A):\n",
    "            for k, aprime in enumerate(A): # 次期の技術水準の添字 k\n",
    "                vf_new[i, l] += P[l ,k]*(utility(wealth(K, a, alpha, delta, output) \n",
    "                                            - kprime_grid[i, l], gamma) + \n",
    "                                    beta * vf_old[i, k])\n",
    "\n",
    "    diff = np.max(np.abs(vf_old - vf_new)) # 収束の判定"
   ]
  },
  {
   "cell_type": "markdown",
   "metadata": {},
   "source": [
    "### p78 図3.6の価値関数と政策関数をプロット"
   ]
  },
  {
   "cell_type": "code",
   "execution_count": 17,
   "metadata": {},
   "outputs": [
    {
     "name": "stdout",
     "output_type": "stream",
     "text": [
      "[[-1.58456325e+27 -1.58456325e+27]\n",
      " [-1.58456325e+27 -1.58456325e+27]\n",
      " [-1.58456325e+27 -1.58456325e+27]\n",
      " [-1.58456325e+27 -1.58456325e+27]\n",
      " [-1.58456325e+27 -1.58456325e+27]\n",
      " [-1.58456325e+27 -1.58456325e+27]\n",
      " [-1.58456325e+27 -1.58456325e+27]\n",
      " [-1.58456325e+27 -1.58456325e+27]\n",
      " [-1.58456325e+27 -1.58456325e+27]\n",
      " [-1.58456325e+27 -1.58456325e+27]\n",
      " [-1.58456325e+27 -1.58456325e+27]\n",
      " [-1.58456325e+27 -1.58456325e+27]\n",
      " [-1.58456325e+27 -1.58456325e+27]\n",
      " [-1.58456325e+27 -1.58456325e+27]\n",
      " [-1.58456325e+27 -1.58456325e+27]\n",
      " [-1.58456325e+27 -1.58456325e+27]\n",
      " [-1.58456325e+27 -1.58456325e+27]\n",
      " [-1.58456325e+27 -1.58456325e+27]\n",
      " [-1.58456325e+27 -1.58456325e+27]\n",
      " [-1.58456325e+27 -1.58456325e+27]\n",
      " [-1.58456325e+27 -1.58456325e+27]]\n"
     ]
    }
   ],
   "source": [
    "print(kprime_grid)"
   ]
  },
  {
   "cell_type": "code",
   "execution_count": null,
   "metadata": {},
   "outputs": [],
   "source": []
  }
 ],
 "metadata": {
  "kernelspec": {
   "display_name": "quant-macro-workshop-bUjjWVNQ-py3.12",
   "language": "python",
   "name": "python3"
  },
  "language_info": {
   "codemirror_mode": {
    "name": "ipython",
    "version": 3
   },
   "file_extension": ".py",
   "mimetype": "text/x-python",
   "name": "python",
   "nbconvert_exporter": "python",
   "pygments_lexer": "ipython3",
   "version": "3.12.6"
  }
 },
 "nbformat": 4,
 "nbformat_minor": 2
}
