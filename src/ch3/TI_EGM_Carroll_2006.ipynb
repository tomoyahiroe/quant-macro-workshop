{
 "cells": [
  {
   "cell_type": "markdown",
   "metadata": {},
   "source": [
    "# 4章 4.2 EGM を用いた TI の準コード（$\\delta < 1.0$ の場合）"
   ]
  },
  {
   "cell_type": "code",
   "execution_count": 7,
   "metadata": {},
   "outputs": [],
   "source": [
    "# パッケージのインポート\n",
    "\n",
    "import numpy as np\n",
    "import numpy.typing as npt\n",
    "import matplotlib.pyplot as plt\n",
    "import pandas as pd\n",
    "import numpy as np\n",
    "from numpy.polynomial.chebyshev import Chebyshev"
   ]
  },
  {
   "cell_type": "markdown",
   "metadata": {},
   "source": [
    "### 1. パラメータをカリブレーション"
   ]
  },
  {
   "cell_type": "code",
   "execution_count": 8,
   "metadata": {},
   "outputs": [],
   "source": [
    "# パラメータをカリブレーション\n",
    "beta = 0.96\n",
    "gamma = 1.0\n",
    "alpha = 0.4\n",
    "delta = 0.8"
   ]
  },
  {
   "cell_type": "markdown",
   "metadata": {},
   "source": [
    "### 2. 収束の基準を定義"
   ]
  },
  {
   "cell_type": "code",
   "execution_count": 9,
   "metadata": {},
   "outputs": [],
   "source": [
    "# 収束の基準を定義\n",
    "epsilon = 1e-5"
   ]
  },
  {
   "cell_type": "markdown",
   "metadata": {},
   "source": [
    "### 3. 制御変数のグリッドを生成\n",
    "\n",
    "- $\\{ k^\\prime \\}_{i = 1}^N, \\;\\; N = 21$\n",
    "- $k_1^\\prime = 0, k_{21}^\\prime = 0.5$"
   ]
  },
  {
   "cell_type": "code",
   "execution_count": 10,
   "metadata": {},
   "outputs": [
    {
     "name": "stdout",
     "output_type": "stream",
     "text": [
      "[0.025 0.05  0.075 0.1   0.125 0.15  0.175 0.2   0.225 0.25  0.275 0.3\n",
      " 0.325 0.35  0.375 0.4   0.425 0.45  0.475 0.5  ]\n"
     ]
    }
   ],
   "source": [
    "# 制御変数のグリッドを生成\n",
    "kprime_grid = np.linspace(0.025, 0.5, 20)\n",
    "print(kprime_grid)"
   ]
  },
  {
   "cell_type": "markdown",
   "metadata": {},
   "source": [
    "### 4. $k_i^\\prime$ に対応する $m_i^\\prime$ を $\\tilde{f}(k^\\prime_i)$ から求める\n",
    "\n",
    "- 政策関数 $c_i^\\prime = h^{(0)}(k^\\prime)$\n",
    "- 初期値は次期の資本 $k^\\prime$ のグリッド * 0.8の値とする"
   ]
  },
  {
   "cell_type": "code",
   "execution_count": 11,
   "metadata": {},
   "outputs": [
    {
     "name": "stdout",
     "output_type": "stream",
     "text": [
      "[0.23365252596366318 0.31170881682725815 0.36983341038127754\n",
      " 0.4181071705534973 0.4602752816480621 0.4982054920046205\n",
      " 0.5329838052704776 0.5653055608807535 0.5956466573774779\n",
      " 0.6243491774985174 0.651668454455246 0.6778008505674118 0.702901090218769\n",
      " 0.7270935704911837 0.7504800192603066 0.7731448431551463\n",
      " 0.7951589618881499 0.8165826204502337 0.8374674928188804\n",
      " 0.857858283255199]\n"
     ]
    }
   ],
   "source": [
    "# 次期の m のグリッドを計算\n",
    "def f_tilde(k: float)-> float:\n",
    "    return k ** alpha + (1 - delta) * k\n",
    "\n",
    "np_f_tilde = np.frompyfunc(f_tilde, 1, 1)\n",
    "\n",
    "mprime_grid = np_f_tilde(kprime_grid)\n",
    "print(mprime_grid)"
   ]
  },
  {
   "cell_type": "markdown",
   "metadata": {},
   "source": [
    "### 5. 求めた $m_i^\\prime$ に対応する $c_i^\\prime = h^{(0)}(m_i^\\prime)$ を当て推量する"
   ]
  },
  {
   "cell_type": "code",
   "execution_count": 12,
   "metadata": {},
   "outputs": [],
   "source": [
    "# m'の増加関数とする\n",
    "h_old_grid = mprime_grid * 0.8 "
   ]
  },
  {
   "cell_type": "markdown",
   "metadata": {},
   "source": [
    "### 6. 全ての $k^\\prime_i$ について $||h^{(new)}(\\tilde{f}(k^\\prime_i)) - h^{(old)}(\\tilde{f}(k^\\prime_i))||$ が成り立つまで以下のステップを繰り返す\n",
    "\n",
    "1.  当て推量された政策関数, もしくは, 前のループで更新された政策関数( $h^{(old)}$とする ) を所与として, 各 $k^\\prime_i$ について, \n",
    "    1. $c_i = u^{\\prime -1} (\\beta u^\\prime (h^{(old)}(\\tilde{f}(k_i^\\prime)))\\tilde{f}^\\prime (k_i^\\prime))$ から $c_i$ を得る\n",
    "    2. $m_i = c_i + k_i^\\prime$ から $m_i$ を得る\n",
    "2. $k_i^\\prime$ ごとに得られた $(c_i, \\;\\; m_i)$ を補間して, 連続な政策関数 $h^{(new)}$ を得る\n",
    "3. 収束の基準 $\\begin{aligned}\\max_{k_i^\\prime}\\{||h^{(new)}(\\tilde{f}(k^\\prime_i)) - h^{(old)}(\\tilde{f}(k^\\prime_i))||\\} < \\varepsilon \\end{aligned}$ を計算し, 収束判定する"
   ]
  },
  {
   "cell_type": "code",
   "execution_count": 13,
   "metadata": {},
   "outputs": [],
   "source": [
    "# ステップ 6 の準備\n",
    "# - 限界効用関数を定義\n",
    "def u_prime(c: float)-> float:\n",
    "    return c ** (-gamma)\n",
    "\n",
    "# - 限界効用関数の逆関数を定義\n",
    "def inv_u_prime(mu: float)-> float:\n",
    "    return mu ** (-gamma)\n",
    "\n",
    "# -富の関数の微分を定義\n",
    "def f_tilde_prime(k: float)-> float:\n",
    "    return alpha * k ** (alpha - 1) + (1 - delta)\n",
    "\n",
    "# - チェビシェフ多項式を用いた連続な政策関数を計算する関数\n",
    "def compute_h_new_continuous(c_grid, m_grid):\n",
    "    # k_gridに対してチェビシェフ多項式のフィッティングを行う\n",
    "    cheb_fit = Chebyshev.fit(m_grid, c_grid, deg=16) # 次数は適当に16とした\n",
    "    \n",
    "    # m のグリッドに対して cのグリッドを返す関数\n",
    "    h_new = np.frompyfunc(cheb_fit, 1, 1)\n",
    "    \n",
    "    return h_new"
   ]
  },
  {
   "cell_type": "code",
   "execution_count": 15,
   "metadata": {},
   "outputs": [
    {
     "name": "stdout",
     "output_type": "stream",
     "text": [
      "収束までのステップ数: 1\n"
     ]
    }
   ],
   "source": [
    "# ステップ 6 のロジック\n",
    "\n",
    "diff = 1e-5 + 1.0\n",
    "loop = 0\n",
    "while diff > epsilon: \n",
    "    loop += 1\n",
    "\n",
    "    c_grid = np.zeros_like(kprime_grid)\n",
    "    m_grid = np.zeros_like(kprime_grid)\n",
    "\n",
    "    for i, kprime in enumerate(kprime_grid):\n",
    "        # c と m のグリッドを計算\n",
    "        c_grid[i] = inv_u_prime(beta * u_prime(h_old_grid[i]) * f_tilde_prime(kprime))\n",
    "        m_grid[i] = kprime_grid[i] + c_grid[i]\n",
    "    \n",
    "    # チェビシェフ多項式補間を用いて連続な政策関数を計算\n",
    "    h_new_func = compute_h_new_continuous(c_grid, m_grid)\n",
    "\n",
    "    # k' のグリッドに対応する c' の値を計算\n",
    "    h_new_grid = h_new_func(mprime_grid)\n",
    "    \n",
    "    # 収束の基準を計算\n",
    "    diff = np.max(np.abs(h_new_grid - h_old_grid))\n",
    "    \n",
    "    # h_old_grid を更新\n",
    "    h_old_grid = h_new_grid\n",
    "\n",
    "print(f\"収束までのステップ数: {loop}\")"
   ]
  },
  {
   "cell_type": "code",
   "execution_count": 17,
   "metadata": {},
   "outputs": [
    {
     "data": {
      "image/png": "[encoded data removed]",
      "text/plain": [
       "<Figure size 640x480 with 1 Axes>"
      ]
     },
     "metadata": {},
     "output_type": "display_data"
    }
   ],
   "source": [
    "# 政策関数を用いて, k -> k' を計算\n",
    "k = np.linspace(0.025, 1.0, 100)\n",
    "m = np_f_tilde(k)\n",
    "c = h_new_func(m)\n",
    "kprime = m - c\n",
    "\n",
    "# 結果のプロット\n",
    "fig, ax = plt.subplots()\n",
    "ax.plot(k, kprime, label=\"Policy function\")\n",
    "ax.plot(k, k, linestyle=\"--\", color=\"grey\")\n",
    "ax.set(xlabel=\"k\", ylabel=\"k'\", title=\"Policy function\")\n",
    "ax.grid()\n",
    "plt.show()"
   ]
  },
  {
   "cell_type": "code",
   "execution_count": null,
   "metadata": {},
   "outputs": [],
   "source": []
  }
 ],
 "metadata": {
  "kernelspec": {
   "display_name": "quant-macro-workshop-bUjjWVNQ-py3.12",
   "language": "python",
   "name": "python3"
  },
  "language_info": {
   "codemirror_mode": {
    "name": "ipython",
    "version": 3
   },
   "file_extension": ".py",
   "mimetype": "text/x-python",
   "name": "python",
   "nbconvert_exporter": "python",
   "pygments_lexer": "ipython3",
   "version": "3.12.6"
  }
 },
 "nbformat": 4,
 "nbformat_minor": 2
}
